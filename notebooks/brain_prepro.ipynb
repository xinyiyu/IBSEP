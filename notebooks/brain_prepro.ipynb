{
 "cells": [
  {
   "cell_type": "code",
   "execution_count": 1,
   "id": "a7a16217-1896-4c4a-8369-a992e57d6ee4",
   "metadata": {},
   "outputs": [
    {
     "name": "stderr",
     "output_type": "stream",
     "text": [
      "/home/xiaojiashun/anaconda3/envs/SpatialScope/lib/python3.9/site-packages/tqdm/auto.py:21: TqdmWarning: IProgress not found. Please update jupyter and ipywidgets. See https://ipywidgets.readthedocs.io/en/stable/user_install.html\n",
      "  from .autonotebook import tqdm as notebook_tqdm\n"
     ]
    }
   ],
   "source": [
    "import os, sys, time, re, json\n",
    "import numpy as np\n",
    "import pandas as pd\n",
    "import seaborn as sns\n",
    "from tqdm import tqdm\n",
    "import scipy.stats as ss\n",
    "from functools import reduce\n",
    "import statsmodels.api as sm\n",
    "\n",
    "import warnings\n",
    "warnings.filterwarnings('ignore')\n",
    "pd.set_option('display.max_columns', 500)\n",
    "pd.set_option('display.max_rows', 500)\n",
    "\n",
    "import matplotlib.pyplot as plt\n",
    "import matplotlib as mpl\n",
    "import seaborn as sns\n",
    "from matplotlib import style\n",
    "style.use('ggplot')\n",
    "style.use('seaborn-white')"
   ]
  },
  {
   "cell_type": "code",
   "execution_count": 2,
   "id": "66f87dae-fcd8-4e32-9631-bf4ec8f8a3a2",
   "metadata": {},
   "outputs": [],
   "source": [
    "celltype_map = {'Astrocytes': 'Astrocytes',\n",
    "                'Endothelial.cells': 'Endothelial',\n",
    "                'Excitatory.neurons': 'Excitatory_neurons',\n",
    "                'Inhibitory.neurons': 'Inhibitory_neurons',\n",
    "                'Microglia': 'Microglia',\n",
    "                'Oligodendrocytes': 'Oligodendrocytes',\n",
    "                'OPCs...COPs': 'OPCs',\n",
    "                'Pericytes': 'Pericytes'}"
   ]
  },
  {
   "cell_type": "markdown",
   "id": "d7b38f50-923b-4721-a609-987dd4881373",
   "metadata": {},
   "source": [
    "# Data preparation"
   ]
  },
  {
   "cell_type": "markdown",
   "id": "08c4f222-58a1-4814-a180-07f4f957f904",
   "metadata": {},
   "source": [
    "## Merge 1M with 1000G reference panel"
   ]
  },
  {
   "cell_type": "code",
   "execution_count": null,
   "id": "0ecddcf7-b5e0-47bb-be89-276f3b12c05f",
   "metadata": {},
   "outputs": [],
   "source": [
    "### merge maf001 with brain by cell type\n",
    "## 1000G maf001 snps\n",
    "bims_df = pd.read_csv('../data/S-LDXR/1000G_EAS_EUR_maf0.01/all_chroms.bim', sep='\\t')\n",
    "maf001_allsnps = pd.read_csv('../data/S-LDXR/1000G_EAS_EUR_maf0.01/print_snps.txt', sep='\\t', header=None)[0].values.tolist()\n",
    "print(f'{len(maf001_allsnps)} SNPs in 1000G maf001')\n",
    "for filename, celltype in celltype_map.items():\n",
    "    t0 = time.time()\n",
    "    for chrom in range(1, 23):\n",
    "        savefile = f'../data/brain_data/gene_snp_pairs/{celltype}_pairs_chr{chrom}.csv'\n",
    "        if os.path.exists(savefile):\n",
    "            print(f'{celltype}_pairs_chr{chrom} saved.')\n",
    "            break\n",
    "        ## brain eqtl\n",
    "        df_1m = pd.read_csv(f'../data/brain_eqtl/{filename}.{chrom}.gz', sep=' ', compression='gzip', header=None)\n",
    "        df_1m.columns = ['GENEID_NAME', 'SNP', 'DIST', 'P', 'BETA']\n",
    "        df_1m['GENEID'] = df_1m['GENEID_NAME'].apply(lambda x: x.split('_')[0])\n",
    "        df_1m['GENENAME'] = df_1m['GENEID_NAME'].apply(lambda x: x.split('_')[1])\n",
    "        print(f'Loaded brain eqtl [{celltype} chrom {chrom}] {df_1m.shape}')\n",
    "        ## merge brain eqtl with 1000G maf001\n",
    "        df_1m_in_maf001_snps = pd.merge(bims_df.loc[bims_df.CHR==chrom], df_1m, on='SNP') # based on 1kg\n",
    "        print(f'{len(np.unique(df_1m.SNP.values))} SNPs in original df_1m, left {len(np.unique(df_1m_in_maf001_snps.SNP.values))} SNPs after merging with 1000G maf001')\n",
    "        ## save basic info columns\n",
    "        df_1m_in_maf001_snps[['SNP', 'CHR', 'BP', 'CM', 'A1', 'A2', 'GENEID', 'GENENAME', 'DIST']].to_csv(savefile, sep='\\t', index=None)\n",
    "        print(f'Saved df_1m_in_maf001_snps {df_1m_in_maf001_snps.shape}')\n",
    "    t1 = time.time()\n",
    "    print(f'{celltype} | Time: {t1 - t0:.1f}s\\n')"
   ]
  },
  {
   "cell_type": "code",
   "execution_count": null,
   "id": "50d3b478-9bb3-4e2c-81a5-a3e530937c61",
   "metadata": {},
   "outputs": [],
   "source": [
    "### merge union of all pairs\n",
    "t0 = time.time()\n",
    "for chrom in range(1, 23):\n",
    "    df1 = pd.read_csv(f'../data/brain_data/gene_snp_pairs/Astrocytes_pairs_chr{chrom}.csv', sep='\\t')\n",
    "    for celltype in ['Endothelial', 'Excitatory_neurons', 'Inhibitory_neurons', 'Microglia', 'Oligodendrocytes', 'OPCs', 'Pericytes']:\n",
    "        df2 = pd.read_csv(f'../data/brain_data/gene_snp_pairs/{celltype}_pairs_chr{chrom}.csv', sep='\\t')\n",
    "        print(celltype, df1.shape, df2.shape)\n",
    "        df1 = pd.merge(df1, df2, how='outer')\n",
    "    print(f'chr {chrom}: {df1.shape}')\n",
    "    df1 = df1.sort_values(by=['CHR', 'BP'])\n",
    "    df1.to_csv(f'../data/brain_data/gene_snp_pairs/all_celltype_pairs_chr{chrom}.csv', sep='\\t', index=False)\n",
    "    t1 = time.time()\n",
    "    print(f'Time: {t1 - t0:.1f}s')"
   ]
  },
  {
   "cell_type": "markdown",
   "id": "83f6b511-dbaa-480a-a448-108797e5b54b",
   "metadata": {},
   "source": [
    "## Create annotation matrix for calculating LD score"
   ]
  },
  {
   "cell_type": "code",
   "execution_count": null,
   "id": "09885d03-fd36-42ca-a1f8-addeb203adbc",
   "metadata": {},
   "outputs": [],
   "source": [
    "### create annotation matrix from pairs\n",
    "print_snps_all_chrom = []\n",
    "t0 = time.time()\n",
    "for chrom in range(1, 23):\n",
    "    print(f'*** CHR {chrom} ***')\n",
    "    pairs_1m = pd.read_csv(f'../data/brain_data/gene_snp_pairs/all_celltype_pairs_chr{chrom}.csv', sep='\\t')\n",
    "    print(pairs_1m.shape)\n",
    "    gene_ids_1m = np.unique(pairs_1m.GENEID.values)\n",
    "    print(f'{len(gene_ids_1m)} gene_ids in 1M all celltype pairs')\n",
    "    savefile = f'../data/brain_data/annotations/{chrom}.annot.gz'\n",
    "    gene_snp_map_1m = pairs_1m[pairs_1m.CHR==chrom][['SNP', 'GENEID']].groupby('GENEID')['SNP'].apply(list).to_dict()\n",
    "    annot = pairs_1m.loc[pairs_1m.CHR==chrom][['CHR', 'BP', 'SNP', 'CM']]\n",
    "    annot = annot.drop_duplicates(subset=['SNP'])\n",
    "    annot['base'] = 1\n",
    "    for gene, snps in tqdm(gene_snp_map_1m.items()):\n",
    "        annot[gene] = 0\n",
    "        annot.loc[annot.SNP.isin(snps), gene] = 1\n",
    "    genes_per_snp = annot.iloc[:,5:].sum(1)\n",
    "    snps_per_gene = annot.iloc[:,5:].sum(0)\n",
    "    print(f'{min(genes_per_snp)}-{max(genes_per_snp)} genes per snp, {min(snps_per_gene)}-{max(snps_per_gene)} snps per gene')\n",
    "    annot.to_csv(savefile, sep='\\t', index=False, compression='gzip')\n",
    "    ## save print snps\n",
    "    print_snps = pd.unique(pairs_1m.SNP.values).tolist()\n",
    "    print(f'{len(print_snps)} snps in pairs_1m.\\n')\n",
    "    with open(f'../data/brain_data/annotations/{chrom}.print_snps.txt', 'w') as f:\n",
    "        for x in print_snps:\n",
    "            f.write(x + '\\n')\n",
    "    print_snps_all_chrom.extend(print_snps)\n",
    "    t1 = time.time()\n",
    "    print(f'Time: {t1 - t0:.1f}s')\n",
    "with open('../data/brain_data/annotations/all_chroms.print_snps.txt', 'w') as f:\n",
    "    for x in print_snps_all_chrom:\n",
    "        f.write(x + '\\n')"
   ]
  },
  {
   "cell_type": "markdown",
   "id": "5e1c7ee1-74ec-44d1-8139-3058b7a4c35b",
   "metadata": {},
   "source": [
    "## Process GTEx data"
   ]
  },
  {
   "cell_type": "code",
   "execution_count": null,
   "id": "ecfc916b-59cc-46a6-99dd-55516ac8149c",
   "metadata": {},
   "outputs": [],
   "source": [
    "## original gtex data\n",
    "t0 = time.time()\n",
    "df_gtex = pd.read_csv('../data/GTEx/brain_cortex/GTEx_Analysis_v8_QTLs_GTEx_Analysis_v8_eQTL_all_associations_Brain_Cortex.allpairs.txt.gz', sep='\\t', compression='gzip')\n",
    "t1 = time.time()\n",
    "print(f'Time loading gtex: {t1 - t0:.1f}s')\n",
    "print(df_gtex.shape, np.unique(df_gtex.variant_id.values).shape)"
   ]
  },
  {
   "cell_type": "code",
   "execution_count": 32,
   "id": "4e39f052-ec0d-4112-bd63-802836b45100",
   "metadata": {},
   "outputs": [
    {
     "name": "stdout",
     "output_type": "stream",
     "text": [
      "Time loading gtex lookup table (46569704, 8): 180.4s\n"
     ]
    }
   ],
   "source": [
    "## gtex variants lookup\n",
    "t0 = time.time()\n",
    "lookup = pd.read_csv('../data/GTEx/references_v8_GTEx_Analysis_2017-06-05_v8_WholeGenomeSeq_838Indiv_Analysis_Freeze.lookup_table.txt.gz', sep='\\t', compression='gzip')\n",
    "t1 = time.time()\n",
    "print(f'Time loading gtex lookup table {lookup.shape}: {t1 - t0:.1f}s')"
   ]
  },
  {
   "cell_type": "code",
   "execution_count": 34,
   "id": "c6cbfa0f-56d7-4cb7-bc5b-9ea26dd9b40c",
   "metadata": {},
   "outputs": [
    {
     "name": "stdout",
     "output_type": "stream",
     "text": [
      "df_gtex_with_rsid.shape = (182641182, 11)\n",
      "(10434926,)\n"
     ]
    }
   ],
   "source": [
    "## merge\n",
    "df_gtex_with_rsid = pd.merge(df_gtex, lookup[['variant_id', 'variant_pos', 'rs_id_dbSNP151_GRCh38p7']], on='variant_id')\n",
    "print(f'df_gtex_with_rsid.shape = {df_gtex_with_rsid.shape}')\n",
    "print(np.unique(df_gtex_with_rsid.rs_id_dbSNP151_GRCh38p7.values).shape)\n",
    "df_gtex_with_rsid.to_csv('../data/GTEx/brain_cortex/all_associations.txt.gz', sep='\\t', index=False, compression='gzip')"
   ]
  },
  {
   "cell_type": "code",
   "execution_count": null,
   "id": "0befcf58-ea1b-4b3d-a4df-b1ef8bea5b09",
   "metadata": {},
   "outputs": [],
   "source": [
    "## gtex genes\n",
    "gtf = pd.read_csv('../data/GTEx/references_v8_gencode.v26.GRCh38.genes.gtf', sep='\\t', skiprows=[0,1,2,3,4,5], header=None)\n",
    "print(gtf.shape)\n",
    "gtf['gene_id'] = gtf[8].map(lambda x: x.split(';')[0].replace('gene_id ', '').replace('\"', '').strip())\n",
    "gtf['gene_name'] = gtf[8].map(lambda x: x.split(';')[3].replace('gene_name ', '').replace('\"', '').strip())"
   ]
  },
  {
   "cell_type": "code",
   "execution_count": 3,
   "id": "9e2982d1-3e2e-4030-a9e2-8d4ea1a20886",
   "metadata": {},
   "outputs": [],
   "source": [
    "### process gtex\n",
    "df_gtex_with_rsid = pd.read_csv('../data/GTEx/brain_cortex/all_associations.txt.gz', sep='\\t')\n",
    "df_gtex_with_rsid['ensemble_id'] = df_gtex_with_rsid['gene_id'].map(lambda x: x.split('.')[0])\n",
    "df_gtex_with_rsid['A2'] = df_gtex_with_rsid.variant_id.map(lambda x: x.split('_')[3])\n",
    "df_gtex_with_rsid['A1'] = df_gtex_with_rsid.variant_id.map(lambda x: x.split('_')[2])\n",
    "df_gtex = df_gtex_with_rsid[['rs_id_dbSNP151_GRCh38p7', 'ensemble_id', 'A1', 'A2', 'slope', 'slope_se', 'pval_nominal']]\n",
    "df_gtex.columns = ['SNP_GTEX', 'GENEID_GTEX', 'A1_GTEX', 'A2_GTEX', 'BETA_GTEX', 'SE_GTEX', 'PVAL_GTEX']"
   ]
  },
  {
   "cell_type": "markdown",
   "id": "b0e0a2e3-da0d-43f0-8a1d-aa8519b1702b",
   "metadata": {},
   "source": [
    "## Merge sc-brain and GTEx data by cell type"
   ]
  },
  {
   "cell_type": "code",
   "execution_count": 4,
   "id": "e27b57d2-292c-4fa0-9c86-488bdad0da29",
   "metadata": {},
   "outputs": [
    {
     "name": "stdout",
     "output_type": "stream",
     "text": [
      "(5352389, 6)\n"
     ]
    }
   ],
   "source": [
    "snp_pos = pd.read_csv(f'../data/brain_eqtl/snp_pos.txt.gz', sep='\\t', compression='gzip')\n",
    "print(snp_pos.shape)"
   ]
  },
  {
   "cell_type": "code",
   "execution_count": null,
   "id": "be339a9c-5d1a-410c-bd6d-44d7e45f45b6",
   "metadata": {},
   "outputs": [],
   "source": [
    "for filename, celltype in celltype_map.items():\n",
    "    print(f'***** {celltype} *****')\n",
    "    df_1m_allchrom, pairs_allchrom = [], []\n",
    "    t0 = time.time()\n",
    "    for chrom in range(1, 23):\n",
    "        print(f'--- CHR {chrom} ---')\n",
    "        df_1m = pd.read_csv(f'../data/brain_eqtl/{filename}.{chrom}.gz', sep=' ', compression='gzip', header=None)\n",
    "        df_1m.columns = ['GENEID_NAME', 'SNP', 'DIST', 'PVAL', 'BETA']\n",
    "        df_1m['GENEID'] = df_1m['GENEID_NAME'].apply(lambda x: x.split('_')[1])\n",
    "        df_1m['GENENAME'] = df_1m['GENEID_NAME'].apply(lambda x: x.split('_')[0])\n",
    "        print(f'Loaded brain sc-eqtl {celltype} chr {chrom} {df_1m.shape}')\n",
    "        df_1m = pd.merge(df_1m, snp_pos[['SNP', 'effect_allele', 'other_allele']], on='SNP', how='inner')\n",
    "        df_1m['SE'] = abs(df_1m.BETA/ss.norm.ppf(df_1m.PVAL/2))\n",
    "        df_1m = df_1m[['SNP', 'DIST', 'GENEID', 'GENENAME', 'other_allele', 'effect_allele', 'BETA', 'SE', 'PVAL']]\n",
    "        df_1m.columns = ['SNP_SC', 'DIST_SC', 'GENEID_SC', 'GENENAME_SC', 'A1_SC', 'A2_SC', 'BETA_SC', 'SE_SC', 'PVAL_SC']\n",
    "        df_1m_allchrom.append(df_1m)\n",
    "        ## load pairs (1M merged with 1000G ref)\n",
    "        pairs = pd.read_csv(f'../data/brain_data/gene_snp_pairs/{celltype}_pairs_chr{chrom}.csv', sep='\\t')\n",
    "        pairs.columns = ['SNP_SC', 'CHR_1KG', 'BP_1KG', 'CM_1KG', 'A1_1KG', 'A2_1KG', 'GENENAME_SC', 'GENEID_SC', 'DIST_SC']\n",
    "        print(f'Brain sc-eqtl pairs (merged with 1000G maf0.01 ref): {pairs.shape}')\n",
    "        pairs_allchrom.append(pairs)\n",
    "    df_1m = pd.concat(df_1m_allchrom)\n",
    "    pairs = pd.concat(pairs_allchrom)\n",
    "    t1 = time.time()\n",
    "    print(f'All chrom: df_1m {df_1m.shape}, pairs {pairs.shape} [{t1 - t0:.1f}s]')\n",
    "\n",
    "    ## merge with gtex\n",
    "    t0 = time.time()\n",
    "    merged_sc_gtex = pd.merge(df_1m, df_gtex, left_on=['SNP_SC', 'GENEID_SC'], right_on=['SNP_GTEX', 'GENEID_GTEX'], how='inner')\n",
    "    print(f'Merged SC and GTEX: merged_sc_gtex {merged_sc_gtex.shape}')\n",
    "    ## merge with all_pairs (1m merged with 1000G maf0.01)\n",
    "    merged_sc_gtex_maf001 = pd.merge(pairs[['SNP_SC', 'A1_1KG', 'A2_1KG', 'GENEID_SC']], merged_sc_gtex, on=['SNP_SC', 'GENEID_SC'], how='inner')\n",
    "    t1 = time.time()\n",
    "    print(f'Merged SC, GTEX and maf001: merged_sc_gtex {merged_sc_gtex_maf001.shape} [{t1 - t0:.1f}s]')\n",
    "\n",
    "    ## remove ambiguous snps (A1A2 != 1000G A1A2)\n",
    "    tmp = merged_sc_gtex_maf001.reset_index(drop=True)\n",
    "    l0 = len(tmp)\n",
    "    snps_rm_ids1 = ~(((tmp.A1_SC==tmp.A1_1KG) & (tmp.A2_SC==tmp.A2_1KG)) | ((tmp.A1_SC==tmp.A2_1KG) & (tmp.A2_SC==tmp.A1_1KG)))\n",
    "    snps_rm_ids3 = ~(((tmp.A1_GTEX==tmp.A1_1KG) & (tmp.A2_GTEX==tmp.A2_1KG)) | ((tmp.A1_GTEX==tmp.A2_1KG) & (tmp.A2_GTEX==tmp.A1_1KG)))\n",
    "    snps_rm_ids = (snps_rm_ids1 | snps_rm_ids3)\n",
    "    tmp = tmp.loc[~snps_rm_ids]\n",
    "    print(f'Removed {l0 - len(tmp)} ambiguous SNPs.')\n",
    "    ## reverse A1/A2 based on 1000G A1/A2\n",
    "    rev_ids1 = (tmp.A2_SC!=tmp.A2_1KG)\n",
    "    rev_ids3 = (tmp.A2_GTEX!=tmp.A2_1KG)\n",
    "    tmp.loc[rev_ids1, ['A1_SC', 'A2_SC']] = tmp.loc[rev_ids1, ['A2_SC', 'A1_SC']].values\n",
    "    tmp.loc[rev_ids3, ['A1_GTEX', 'A2_GTEX']] = tmp.loc[rev_ids3, ['A2_GTEX', 'A1_GTEX']].values\n",
    "    tmp.loc[rev_ids1, 'BETA_SC'] = -tmp.loc[rev_ids1, 'BETA_SC'].values\n",
    "    tmp.loc[rev_ids3, 'BETA_GTEX'] = -tmp.loc[rev_ids3, 'BETA_GTEX'].values\n",
    "    print(f'Reversed A1/A2: SC {sum(rev_ids1)}, GTEX {sum(rev_ids3)}')\n",
    "    tmp = tmp.drop(['A1_SC', 'A2_SC', 'A1_GTEX', 'A2_GTEX', 'SNP_GTEX', 'GENEID_GTEX'], axis=1)\n",
    "    tmp.to_csv(f'../data/brain_data/merged_sumstats/{celltype}.txt.gz', sep='\\t', compression='gzip')\n",
    "    print(f'Saved combined sumstats ({tmp.shape}).')\n",
    "\n",
    "    ## significance overlap\n",
    "    pval_thres = 1e-5\n",
    "    sig_1m = tmp.loc[tmp.PVAL_SC < pval_thres]\n",
    "    sig_gtex = tmp.loc[tmp.PVAL_GTEX < pval_thres]\n",
    "    # sig genes\n",
    "    sig_1m_genes = np.unique(sig_1m.GENEID_SC.values)\n",
    "    sig_gtex_genes = np.unique(sig_gtex.GENEID_SC.values)\n",
    "    sig_common_genes = np.intersect1d(sig_1m_genes, sig_gtex_genes)\n",
    "    sig_only_1m_genes = np.setdiff1d(sig_1m_genes, sig_gtex_genes)\n",
    "    sig_only_gtex_genes = np.setdiff1d(sig_gtex_genes, sig_1m_genes)\n",
    "    print(f'1M vs gtex | Common: {len(sig_common_genes)}, Only 1M: {len(sig_only_1m_genes)}, Only gtex: {len(sig_only_gtex_genes)}')\n",
    "    ## effect size direction concordance\n",
    "    tmp2 = tmp.loc[(tmp.PVAL_SC < pval_thres) & (tmp.PVAL_GTEX < pval_thres)]\n",
    "    same_direction = sum((tmp2.BETA_SC > 0) & (tmp2.BETA_GTEX > 0)) + sum((tmp2.BETA_SC < 0) & (tmp2.BETA_GTEX < 0))\n",
    "    print(f'Effect size (pval<1e-5): {same_direction}/{len(tmp2)}={same_direction/len(tmp2):.2f} same direction. [{t1 - t0:.1f}s]\\n')"
   ]
  },
  {
   "cell_type": "code",
   "execution_count": 8,
   "id": "7fcaf0d5-4190-4908-9180-58422340e618",
   "metadata": {},
   "outputs": [
    {
     "name": "stdout",
     "output_type": "stream",
     "text": [
      "***** Process Astrocytes *****\n",
      "Loaded Astrocytes: 82.4s\n",
      "Astrocytes | 5th-percentail 1905.3, mean 3600.4, median 3593.0\n",
      "\n",
      "***** Process Endothelial *****\n",
      "Loaded Endothelial: 86.7s\n",
      "Endothelial | 5th-percentail 1891.3, mean 3600.1, median 3591.5\n",
      "\n",
      "***** Process Excitatory_neurons *****\n",
      "Loaded Excitatory_neurons: 110.6s\n",
      "Excitatory_neurons | 5th-percentail 1899.0, mean 3590.8, median 3597.0\n",
      "\n",
      "***** Process Inhibitory_neurons *****\n",
      "Loaded Inhibitory_neurons: 97.5s\n",
      "Inhibitory_neurons | 5th-percentail 1906.0, mean 3592.5, median 3606.0\n",
      "\n",
      "***** Process Microglia *****\n",
      "Loaded Microglia: 65.3s\n",
      "Microglia | 5th-percentail 1874.9, mean 3595.2, median 3596.0\n",
      "\n",
      "***** Process Oligodendrocytes *****\n",
      "Loaded Oligodendrocytes: 78.7s\n",
      "Oligodendrocytes | 5th-percentail 1888.0, mean 3570.2, median 3564.0\n",
      "\n",
      "***** Process OPCs *****\n",
      "Loaded OPCs: 78.2s\n",
      "OPCs | 5th-percentail 1915.0, mean 3607.6, median 3606.0\n",
      "\n",
      "***** Process Pericytes *****\n",
      "Loaded Pericytes: 49.1s\n",
      "Pericytes | 5th-percentail 1882.0, mean 3623.5, median 3607.0\n",
      "\n"
     ]
    }
   ],
   "source": [
    "numsnps_per_gene_lists = {}\n",
    "for filename, celltype in celltype_map.items():\n",
    "    print(f'***** Process {celltype} *****')\n",
    "    t0 = time.time()\n",
    "    df = pd.read_csv(f'../data/brain_data/merged_sumstats/{celltype}.txt.gz', sep='\\t', index_col=0)\n",
    "    t1 = time.time()\n",
    "    print(f'Loaded {celltype}: {t1 - t0:.1f}s')\n",
    "    snps_per_gene = df[['SNP_SC', 'GENEID_SC']].groupby('GENEID_SC')['SNP_SC'].apply(list).to_dict()\n",
    "    numsnps_per_gene = {k: len(v) for k, v in snps_per_gene.items()}\n",
    "    numsnps_per_gene_list = list(numsnps_per_gene.values())\n",
    "    numsnps_per_gene_lists[celltype] = numsnps_per_gene_list\n",
    "    print(f'{celltype} | 5th-percentail {np.percentile(numsnps_per_gene_list, 5):.1f}, mean {np.mean(numsnps_per_gene_list):.1f}, median {np.median(numsnps_per_gene_list):.1f}\\n')"
   ]
  },
  {
   "cell_type": "markdown",
   "id": "1cad96fc-8603-40ba-a826-a68f0e81b42d",
   "metadata": {},
   "source": [
    "## Organize data by chrom and gene"
   ]
  },
  {
   "cell_type": "code",
   "execution_count": 2,
   "id": "f0b97faa-343a-4f3b-b78f-7756a48a5b79",
   "metadata": {},
   "outputs": [
    {
     "name": "stdout",
     "output_type": "stream",
     "text": [
      "8534993 SNPs in 1000G maf001.\n"
     ]
    }
   ],
   "source": [
    "bims_df = pd.read_csv('../data/S-LDXR/1000G_EAS_EUR_maf0.01/all_chroms.bim', sep='\\t')\n",
    "print(f'{len(bims_df)} SNPs in 1000G maf001.')"
   ]
  },
  {
   "cell_type": "code",
   "execution_count": null,
   "id": "c875b52d-eb2c-4735-936f-629ea45d90a4",
   "metadata": {},
   "outputs": [],
   "source": [
    "### save sumstats by chrom and gene\n",
    "numsnp_thres = 50\n",
    "for chrom in range(22, 0, -1):\n",
    "    savedir = f'../data/brain_data/merged_sumstats/by_chrom_gene/chr{chrom}'\n",
    "    os.makedirs(savedir, exist_ok=True)\n",
    "    for filename, celltype in celltype_map.items():\n",
    "        t0 = time.time()\n",
    "        print(f'***** Processing CHR {chrom} {celltype} *****')\n",
    "        sumstat = pd.read_csv(f'../data/brain_data/merged_sumstats/{celltype}.txt.gz', sep='\\t', compression='gzip')\n",
    "        l0 = len(sumstat)\n",
    "        sumstat_ = pd.merge(sumstat, bims_df[['SNP', 'CHR', 'BP']], left_on='SNP_SC', right_on='SNP')\n",
    "        l1 = len(sumstat_)\n",
    "        sumstat_ = sumstat_.loc[sumstat_.CHR==chrom]\n",
    "        l2 = len(sumstat_)\n",
    "        sumstat_ = sumstat_.drop_duplicates(subset=['SNP_SC', 'GENEID_SC'])\n",
    "        l3 = len(sumstat_)\n",
    "        snps_per_gene = sumstat_.groupby('GENEID_SC')['SNP_SC'].apply(list).to_dict()\n",
    "        numsnps_per_gene = {k: len(v) for k, v in snps_per_gene.items()}\n",
    "        numsnps_per_gene_df = pd.DataFrame({'GENEID': list(numsnps_per_gene.keys()), 'NUM_SNPS': list(numsnps_per_gene.values())})\n",
    "        keep_gene_df = numsnps_per_gene_df.loc[numsnps_per_gene_df.NUM_SNPS>numsnp_thres]\n",
    "        keep_sumstat = sumstat_.loc[sumstat_['GENEID_SC'].isin(keep_gene_df.GENEID)]\n",
    "        l4 = len(keep_sumstat)\n",
    "        print(f'original {l0} -> merge with maf001 {l1} -> chr{chrom} {l2} -> removed duplicates {l3} -> keep genes with at least snps {l4}')\n",
    "        g = keep_sumstat.groupby(['GENEID_SC'])\n",
    "        for i in tqdm(range(len(g.groups))):\n",
    "            geneid = list(g.groups)[i]\n",
    "            df = g.get_group(geneid)\n",
    "            sumstat_1m = df[['CHR', 'BP', 'A1_1KG', 'A2_1KG', 'SNP_SC', 'GENEID_SC', 'GENENAME_SC', 'BETA_SC', 'SE_SC', 'PVAL_SC']]\n",
    "            sumstat_gtex = df[['CHR', 'BP', 'A1_1KG', 'A2_1KG', 'SNP_SC', 'GENEID_SC', 'GENENAME_SC', 'BETA_GTEX', 'SE_GTEX', 'PVAL_GTEX']]\n",
    "            sumstat_1m.columns = ['CHR', 'BP', 'A1', 'A2', 'SNP', 'GENEID', 'GENENAME', 'BETA', 'SE', 'PVAL']\n",
    "            sumstat_gtex.columns = ['CHR', 'BP', 'A1', 'A2', 'SNP', 'GENEID', 'GENENAME', 'BETA', 'SE', 'PVAL']\n",
    "            sumstat_1m.to_csv(f'{savedir}/{geneid}_{celltype}.csv', sep='\\t', index=False)\n",
    "            sumstat_gtex.to_csv(f'{savedir}/{geneid}_gtex.csv', sep='\\t', index=False)\n",
    "        t1 = time.time()\n",
    "        print(f'Processed CHR {chrom} {celltype} {t1 - t0:.1f}s.\\n')"
   ]
  },
  {
   "cell_type": "markdown",
   "id": "eb662724-ebdc-4715-847c-b73bf0c6ba44",
   "metadata": {},
   "source": [
    "## Calculate LD scores"
   ]
  },
  {
   "cell_type": "code",
   "execution_count": null,
   "id": "ddbe1592-3dee-404d-a864-60be5a042093",
   "metadata": {},
   "outputs": [],
   "source": [
    "## command for running S-LDXR\n",
    "for chrom in range(1, 23):\n",
    "    command = f'../software/s-ldxr-0.3-beta/s-ldxr.py \\\n",
    "                --bfile ../data/brain_data/genotype/1000G.EUR.QC.{chrom} ../data/brain_data/genotype/1000G.EUR.QC.{chrom} \\\n",
    "                --print-snps ../data/brain_data/annotations/all_chroms.print_snps.txt \\\n",
    "                --annot ../data/brain_data/annotations/{chrom}.annot.gz \\\n",
    "                --ld-wind-cm 1.0 \\\n",
    "                --score standardized \\\n",
    "                --out ../data/brain_data/ldscore/EUR_EUR_std_chr{chrom}'\n",
    "    print(command)"
   ]
  },
  {
   "cell_type": "code",
   "execution_count": null,
   "id": "9f21e0c7-16c5-48f2-87fa-95f8758e585f",
   "metadata": {},
   "outputs": [],
   "source": [
    "for chrom in range(1, 23):\n",
    "    gene_id_name = pd.read_csv(f'../data/brain/gene_id_name.{chrom}.csv', sep='\\t')\n",
    "    t0 = time.time()\n",
    "    ld_df = pd.read_csv(f'../data/brain_data/ldscore/EUR_EUR_std_chr{chrom}_pop1.gz', sep='\\t', compression='gzip')\n",
    "    print(f'CHR {chrom} ld_df.shape: {ld_df.shape}')\n",
    "    ld_genes = ld_df.columns[4:]\n",
    "    print(f'{len(ld_genes)} genes in ld_df')\n",
    "    files = glob.glob(f'../data/brain_data/merged_sumstats/by_chrom_gene/chr{chrom}/*_gtex.csv')\n",
    "    for file in tqdm(files):\n",
    "        geneid = file.split('/')[-1].split('_')[0]\n",
    "        genename = gene_id_name.loc[gene_id_name.GENEID==geneid, 'GENENAME'].values[0]\n",
    "        gtex_df = pd.read_csv(file, sep='\\t')\n",
    "        merged = pd.merge(gtex_df, ld_df[['SNP', genename]], on='SNP', how='inner')\n",
    "        merged = merged.rename(columns={genename: 'LD'})\n",
    "        merged.to_csv(f'../data/brain_data/merged_sumstats/by_chrom_gene/chr{chrom}/{geneid}_gtex_withld.csv', sep='\\t', index=False)\n",
    "    t1 = time.time()\n",
    "    print(f'CHR {chrom} time: {t1 - t0:.1f}s')"
   ]
  },
  {
   "cell_type": "markdown",
   "id": "568f0301-c1b0-4384-80ae-e80f43da2cc4",
   "metadata": {},
   "source": [
    "## Average cell type proportions"
   ]
  },
  {
   "cell_type": "code",
   "execution_count": 5,
   "id": "5d399840-5ab0-4ab9-8253-0e6110df214b",
   "metadata": {},
   "outputs": [
    {
     "data": {
      "text/html": [
       "<div>\n",
       "<style scoped>\n",
       "    .dataframe tbody tr th:only-of-type {\n",
       "        vertical-align: middle;\n",
       "    }\n",
       "\n",
       "    .dataframe tbody tr th {\n",
       "        vertical-align: top;\n",
       "    }\n",
       "\n",
       "    .dataframe thead th {\n",
       "        text-align: right;\n",
       "    }\n",
       "</style>\n",
       "<table border=\"1\" class=\"dataframe\">\n",
       "  <thead>\n",
       "    <tr style=\"text-align: right;\">\n",
       "      <th></th>\n",
       "      <th>cell_type</th>\n",
       "      <th>prop</th>\n",
       "    </tr>\n",
       "  </thead>\n",
       "  <tbody>\n",
       "    <tr>\n",
       "      <th>0</th>\n",
       "      <td>Inhibitory neurons</td>\n",
       "      <td>0.102131</td>\n",
       "    </tr>\n",
       "    <tr>\n",
       "      <th>1</th>\n",
       "      <td>Oligodendrocytes</td>\n",
       "      <td>0.169932</td>\n",
       "    </tr>\n",
       "    <tr>\n",
       "      <th>2</th>\n",
       "      <td>Excitatory neurons</td>\n",
       "      <td>0.308489</td>\n",
       "    </tr>\n",
       "    <tr>\n",
       "      <th>3</th>\n",
       "      <td>Astrocytes</td>\n",
       "      <td>0.290534</td>\n",
       "    </tr>\n",
       "    <tr>\n",
       "      <th>4</th>\n",
       "      <td>OPCs</td>\n",
       "      <td>0.003799</td>\n",
       "    </tr>\n",
       "    <tr>\n",
       "      <th>5</th>\n",
       "      <td>Microglia</td>\n",
       "      <td>0.049073</td>\n",
       "    </tr>\n",
       "    <tr>\n",
       "      <th>6</th>\n",
       "      <td>Pericytes</td>\n",
       "      <td>0.024232</td>\n",
       "    </tr>\n",
       "    <tr>\n",
       "      <th>7</th>\n",
       "      <td>Endothelial</td>\n",
       "      <td>0.051812</td>\n",
       "    </tr>\n",
       "  </tbody>\n",
       "</table>\n",
       "</div>"
      ],
      "text/plain": [
       "            cell_type      prop\n",
       "0  Inhibitory neurons  0.102131\n",
       "1    Oligodendrocytes  0.169932\n",
       "2  Excitatory neurons  0.308489\n",
       "3          Astrocytes  0.290534\n",
       "4                OPCs  0.003799\n",
       "5           Microglia  0.049073\n",
       "6           Pericytes  0.024232\n",
       "7         Endothelial  0.051812"
      ]
     },
     "execution_count": 5,
     "metadata": {},
     "output_type": "execute_result"
    }
   ],
   "source": [
    "avg_props = pd.read_csv('../data/cibersortx/cibersortx_8meanprops.csv', sep='\\t')\n",
    "avg_props"
   ]
  },
  {
   "cell_type": "code",
   "execution_count": null,
   "id": "a19a3ad7-f1b9-4d4e-8e60-f0de0c1afc78",
   "metadata": {},
   "outputs": [],
   "source": []
  }
 ],
 "metadata": {
  "kernelspec": {
   "display_name": "SpatialScope",
   "language": "python",
   "name": "spatialscope"
  },
  "language_info": {
   "codemirror_mode": {
    "name": "ipython",
    "version": 3
   },
   "file_extension": ".py",
   "mimetype": "text/x-python",
   "name": "python",
   "nbconvert_exporter": "python",
   "pygments_lexer": "ipython3",
   "version": "3.9.15"
  }
 },
 "nbformat": 4,
 "nbformat_minor": 5
}
