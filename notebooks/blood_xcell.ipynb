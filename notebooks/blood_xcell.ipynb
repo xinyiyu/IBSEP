{
 "cells": [
  {
   "cell_type": "code",
   "execution_count": null,
   "id": "0464c4ce-0f15-447f-8da2-967e4f27c631",
   "metadata": {},
   "outputs": [],
   "source": [
    "library(xCell)\n",
    "library(data.table)\n",
    "library(dplyr)\n",
    "library(ggplot2)\n",
    "library(dplyr)\n",
    "library(tidyr)"
   ]
  },
  {
   "cell_type": "markdown",
   "id": "828623a7-4634-4537-9cc8-b1aef44604a2",
   "metadata": {},
   "source": [
    "# xCell estimation"
   ]
  },
  {
   "cell_type": "code",
   "execution_count": 3,
   "id": "b5c5ab93-5b91-4b6b-b899-6b6864fc4be5",
   "metadata": {},
   "outputs": [
    {
     "name": "stdout",
     "output_type": "stream",
     "text": [
      "[1] 64  3\n",
      "[1] 34\n"
     ]
    }
   ],
   "source": [
    "## filter xcell cells\n",
    "cells = fread('../data/xcell/category_xcell.csv', sep='\\t')\n",
    "print(dim(cells))\n",
    "use_types = cells[cells$Category != 'Others']$`Cell types`\n",
    "print(length(use_types))"
   ]
  },
  {
   "cell_type": "code",
   "execution_count": 4,
   "id": "5d844f4d-4a3b-479d-b728-9a63416d1ba5",
   "metadata": {},
   "outputs": [
    {
     "data": {
      "text/html": [
       "'#Common genes: 10766'"
      ],
      "text/latex": [
       "'\\#Common genes: 10766'"
      ],
      "text/markdown": [
       "'#Common genes: 10766'"
      ],
      "text/plain": [
       "[1] \"#Common genes: 10766\""
      ]
     },
     "metadata": {},
     "output_type": "display_data"
    },
    {
     "data": {
      "text/html": [
       "'#Use genes: 10752'"
      ],
      "text/latex": [
       "'\\#Use genes: 10752'"
      ],
      "text/markdown": [
       "'#Use genes: 10752'"
      ],
      "text/plain": [
       "[1] \"#Use genes: 10752\""
      ]
     },
     "metadata": {},
     "output_type": "display_data"
    },
    {
     "data": {
      "text/html": [
       "'dim(df):'"
      ],
      "text/latex": [
       "'dim(df):'"
      ],
      "text/markdown": [
       "'dim(df):'"
      ],
      "text/plain": [
       "[1] \"dim(df):\""
      ]
     },
     "metadata": {},
     "output_type": "display_data"
    },
    {
     "name": "stdout",
     "output_type": "stream",
     "text": [
      "[1] 10752   758\n"
     ]
    }
   ],
   "source": [
    "## load and merge genes\n",
    "raw = fread('../data/GTEx/whole_blood/gene_tpm_2017-06-05_v8_whole_blood.gct.gz', skip=2)\n",
    "common_genes = intersect(xCell.data$genes, raw$Description)\n",
    "sprintf('#Common genes: %s', length(common_genes))\n",
    "df = raw[raw$Description %in% xCell.data$genes]\n",
    "tmp = df %>% count(Description)\n",
    "use_genes = tmp[tmp$n == 1]$Description\n",
    "sprintf('#Use genes: %s', length(use_genes))\n",
    "df = df[df$Description %in% use_genes]\n",
    "sprintf('dim(df):')\n",
    "print(dim(df))"
   ]
  },
  {
   "cell_type": "code",
   "execution_count": 5,
   "id": "3a3ac4e9-43d4-45d6-af33-87f9f6ac8989",
   "metadata": {},
   "outputs": [],
   "source": [
    "expr = as.matrix(df[,-c(1,2,3)])\n",
    "rownames(expr) = df$Description"
   ]
  },
  {
   "cell_type": "code",
   "execution_count": 6,
   "id": "66fba8a4-bd8b-4815-9200-550c48ceef08",
   "metadata": {},
   "outputs": [
    {
     "name": "stdout",
     "output_type": "stream",
     "text": [
      "[1] \"Num. of genes: 10752\"\n"
     ]
    },
    {
     "name": "stderr",
     "output_type": "stream",
     "text": [
      "Warning message:\n",
      "“Calling gsva(expr=., gset.idx.list=., method=., ...) is deprecated; use a method-specific parameter object (see '?gsva').”\n"
     ]
    },
    {
     "name": "stdout",
     "output_type": "stream",
     "text": [
      "Setting parallel calculations through a MulticoreParam back-end\n",
      "with workers=4 and tasks=100.\n",
      "Estimating ssGSEA scores for 489 gene sets.\n",
      "[1] \"Calculating ranks...\"\n",
      "[1] \"Calculating absolute values from ranks...\"\n",
      "  |======================================================================| 100%\n",
      "\n"
     ]
    }
   ],
   "source": [
    "wrapped_scores = xCellAnalysis(expr, signatures = xCell.data$signatures, \n",
    "                               genes = use_genes, spill = xCell.data$spill,\n",
    "                              rnaseq = TRUE, file.name = NULL, scale = TRUE, alpha = 0.5,\n",
    "                              save.raw = FALSE, parallel.sz = 4, parallel.type = \"SOCK\",\n",
    "                              cell.types.use = use_types)"
   ]
  },
  {
   "cell_type": "code",
   "execution_count": 11,
   "id": "f687437a-b50f-4dfb-a93a-e9be1e49afcf",
   "metadata": {},
   "outputs": [],
   "source": [
    "norm_scores = t(t(wrapped_scores) / rowSums(t(wrapped_scores)))\n",
    "score_df = data.frame(norm_scores)\n",
    "score_df = cbind('Cell types'=rownames(score_df), score_df)\n",
    "score_df = merge(score_df, cells[,c('Cell types', 'Category')], by='Cell types')\n",
    "score_df <- score_df %>% relocate(Category, .after='Cell types')\n",
    "props = score_df %>% group_by(Category) %>% summarise(across(starts_with('GTE'), sum))"
   ]
  },
  {
   "cell_type": "code",
   "execution_count": 13,
   "id": "72c4c1a7-a865-47cd-8965-6ef91103fc82",
   "metadata": {},
   "outputs": [
    {
     "data": {
      "text/html": [
       "<table class=\"dataframe\">\n",
       "<caption>A tibble: 9 × 756</caption>\n",
       "<thead>\n",
       "\t<tr><th scope=col>Category</th><th scope=col>GTEX.111YS.0006.SM.5NQBE</th><th scope=col>GTEX.1122O.0005.SM.5O99J</th><th scope=col>GTEX.1128S.0005.SM.5P9HI</th><th scope=col>GTEX.113IC.0006.SM.5NQ9C</th><th scope=col>GTEX.113JC.0006.SM.5O997</th><th scope=col>GTEX.117XS.0005.SM.5PNU6</th><th scope=col>GTEX.117YW.0005.SM.5NQ8Z</th><th scope=col>GTEX.1192W.0005.SM.5NQBQ</th><th scope=col>GTEX.1192X.0005.SM.5NQC3</th><th scope=col>⋯</th><th scope=col>GTEX.ZVE2.0006.SM.51MRW</th><th scope=col>GTEX.ZVP2.0005.SM.51MRK</th><th scope=col>GTEX.ZVT2.0005.SM.57WBW</th><th scope=col>GTEX.ZVT3.0006.SM.51MT9</th><th scope=col>GTEX.ZVT4.0006.SM.57WB8</th><th scope=col>GTEX.ZVTK.0006.SM.57WBK</th><th scope=col>GTEX.ZVZP.0006.SM.51MSW</th><th scope=col>GTEX.ZVZQ.0006.SM.51MR8</th><th scope=col>GTEX.ZXES.0005.SM.57WCB</th><th scope=col>GTEX.ZXG5.0005.SM.57WCN</th></tr>\n",
       "\t<tr><th scope=col>&lt;chr&gt;</th><th scope=col>&lt;dbl&gt;</th><th scope=col>&lt;dbl&gt;</th><th scope=col>&lt;dbl&gt;</th><th scope=col>&lt;dbl&gt;</th><th scope=col>&lt;dbl&gt;</th><th scope=col>&lt;dbl&gt;</th><th scope=col>&lt;dbl&gt;</th><th scope=col>&lt;dbl&gt;</th><th scope=col>&lt;dbl&gt;</th><th scope=col>⋯</th><th scope=col>&lt;dbl&gt;</th><th scope=col>&lt;dbl&gt;</th><th scope=col>&lt;dbl&gt;</th><th scope=col>&lt;dbl&gt;</th><th scope=col>&lt;dbl&gt;</th><th scope=col>&lt;dbl&gt;</th><th scope=col>&lt;dbl&gt;</th><th scope=col>&lt;dbl&gt;</th><th scope=col>&lt;dbl&gt;</th><th scope=col>&lt;dbl&gt;</th></tr>\n",
       "</thead>\n",
       "<tbody>\n",
       "\t<tr><td>B        </td><td>0.032612533</td><td>0.274504561</td><td>3.552003e-01</td><td>0.201679892</td><td>0.130089203</td><td>0.23330556</td><td>0.159588890</td><td>0.133484050</td><td>0.064906292</td><td>⋯</td><td>0.089625281</td><td>0.099321286</td><td>0.2378419499</td><td>0.108972650</td><td>0.289059213</td><td>0.291362979</td><td>1.286309e-02</td><td>0.232390586</td><td>0.365172707</td><td>0.130933917</td></tr>\n",
       "\t<tr><td>CD4      </td><td>0.156775094</td><td>0.169138308</td><td>1.459887e-01</td><td>0.288760267</td><td>0.241357286</td><td>0.23134876</td><td>0.300131447</td><td>0.212402010</td><td>0.187629586</td><td>⋯</td><td>0.272436092</td><td>0.097354068</td><td>0.1974162314</td><td>0.324088607</td><td>0.114530034</td><td>0.287615513</td><td>1.059322e-01</td><td>0.244819367</td><td>0.146861984</td><td>0.161223787</td></tr>\n",
       "\t<tr><td>CD8      </td><td>0.064318430</td><td>0.011648574</td><td>2.186784e-01</td><td>0.342325694</td><td>0.307438682</td><td>0.26313044</td><td>0.322773585</td><td>0.291441643</td><td>0.388288179</td><td>⋯</td><td>0.125597171</td><td>0.108118942</td><td>0.0139580241</td><td>0.334299922</td><td>0.144901971</td><td>0.249317024</td><td>6.009746e-18</td><td>0.310923162</td><td>0.110225449</td><td>0.378938385</td></tr>\n",
       "\t<tr><td>DC       </td><td>0.018973660</td><td>0.003892615</td><td>9.162977e-03</td><td>0.018110122</td><td>0.031737225</td><td>0.01621322</td><td>0.009801839</td><td>0.024221566</td><td>0.004142437</td><td>⋯</td><td>0.002882408</td><td>0.032123261</td><td>0.0184524762</td><td>0.012828057</td><td>0.013296213</td><td>0.011224148</td><td>3.864835e-02</td><td>0.013116641</td><td>0.009805213</td><td>0.010061781</td></tr>\n",
       "\t<tr><td>Lymphoids</td><td>0.003296698</td><td>0.001958358</td><td>5.657640e-21</td><td>0.007256343</td><td>0.000000000</td><td>0.02019164</td><td>0.003125931</td><td>0.001630643</td><td>0.004610102</td><td>⋯</td><td>0.017369581</td><td>0.007726714</td><td>0.0002725131</td><td>0.003074945</td><td>0.000536416</td><td>0.001054683</td><td>4.813249e-04</td><td>0.005073924</td><td>0.003932418</td><td>0.004152275</td></tr>\n",
       "\t<tr><td>Monocyte </td><td>0.331168726</td><td>0.223461473</td><td>9.407191e-02</td><td>0.071788162</td><td>0.132672094</td><td>0.04886407</td><td>0.026279279</td><td>0.095056773</td><td>0.105909278</td><td>⋯</td><td>0.174674555</td><td>0.350757595</td><td>0.2445343426</td><td>0.057638959</td><td>0.123576249</td><td>0.041647495</td><td>4.358439e-01</td><td>0.034933789</td><td>0.136051966</td><td>0.119631189</td></tr>\n",
       "\t<tr><td>Myeloids </td><td>0.093574062</td><td>0.056242538</td><td>9.572882e-02</td><td>0.027403508</td><td>0.129669090</td><td>0.12684079</td><td>0.127652407</td><td>0.163281797</td><td>0.101506307</td><td>⋯</td><td>0.166274810</td><td>0.033992085</td><td>0.0402755194</td><td>0.081234094</td><td>0.191854608</td><td>0.067668843</td><td>6.890955e-02</td><td>0.084937358</td><td>0.038166293</td><td>0.080258570</td></tr>\n",
       "\t<tr><td>NK       </td><td>0.156621556</td><td>0.119184337</td><td>4.949953e-02</td><td>0.032876090</td><td>0.008475587</td><td>0.03863759</td><td>0.036934868</td><td>0.051918016</td><td>0.089373639</td><td>⋯</td><td>0.060950824</td><td>0.196791729</td><td>0.0985751947</td><td>0.055389756</td><td>0.058378924</td><td>0.039160041</td><td>2.102179e-01</td><td>0.042140345</td><td>0.084799017</td><td>0.099304781</td></tr>\n",
       "\t<tr><td>Stem     </td><td>0.142659243</td><td>0.139969237</td><td>3.166939e-02</td><td>0.009799922</td><td>0.018560834</td><td>0.02146793</td><td>0.013711753</td><td>0.026563502</td><td>0.053634179</td><td>⋯</td><td>0.090189278</td><td>0.073814321</td><td>0.1486737485</td><td>0.022473010</td><td>0.063866373</td><td>0.010949276</td><td>1.271037e-01</td><td>0.031664827</td><td>0.104984952</td><td>0.015495315</td></tr>\n",
       "</tbody>\n",
       "</table>\n"
      ],
      "text/latex": [
       "A tibble: 9 × 756\n",
       "\\begin{tabular}{lllllllllllllllllllll}\n",
       " Category & GTEX.111YS.0006.SM.5NQBE & GTEX.1122O.0005.SM.5O99J & GTEX.1128S.0005.SM.5P9HI & GTEX.113IC.0006.SM.5NQ9C & GTEX.113JC.0006.SM.5O997 & GTEX.117XS.0005.SM.5PNU6 & GTEX.117YW.0005.SM.5NQ8Z & GTEX.1192W.0005.SM.5NQBQ & GTEX.1192X.0005.SM.5NQC3 & ⋯ & GTEX.ZVE2.0006.SM.51MRW & GTEX.ZVP2.0005.SM.51MRK & GTEX.ZVT2.0005.SM.57WBW & GTEX.ZVT3.0006.SM.51MT9 & GTEX.ZVT4.0006.SM.57WB8 & GTEX.ZVTK.0006.SM.57WBK & GTEX.ZVZP.0006.SM.51MSW & GTEX.ZVZQ.0006.SM.51MR8 & GTEX.ZXES.0005.SM.57WCB & GTEX.ZXG5.0005.SM.57WCN\\\\\n",
       " <chr> & <dbl> & <dbl> & <dbl> & <dbl> & <dbl> & <dbl> & <dbl> & <dbl> & <dbl> & ⋯ & <dbl> & <dbl> & <dbl> & <dbl> & <dbl> & <dbl> & <dbl> & <dbl> & <dbl> & <dbl>\\\\\n",
       "\\hline\n",
       "\t B         & 0.032612533 & 0.274504561 & 3.552003e-01 & 0.201679892 & 0.130089203 & 0.23330556 & 0.159588890 & 0.133484050 & 0.064906292 & ⋯ & 0.089625281 & 0.099321286 & 0.2378419499 & 0.108972650 & 0.289059213 & 0.291362979 & 1.286309e-02 & 0.232390586 & 0.365172707 & 0.130933917\\\\\n",
       "\t CD4       & 0.156775094 & 0.169138308 & 1.459887e-01 & 0.288760267 & 0.241357286 & 0.23134876 & 0.300131447 & 0.212402010 & 0.187629586 & ⋯ & 0.272436092 & 0.097354068 & 0.1974162314 & 0.324088607 & 0.114530034 & 0.287615513 & 1.059322e-01 & 0.244819367 & 0.146861984 & 0.161223787\\\\\n",
       "\t CD8       & 0.064318430 & 0.011648574 & 2.186784e-01 & 0.342325694 & 0.307438682 & 0.26313044 & 0.322773585 & 0.291441643 & 0.388288179 & ⋯ & 0.125597171 & 0.108118942 & 0.0139580241 & 0.334299922 & 0.144901971 & 0.249317024 & 6.009746e-18 & 0.310923162 & 0.110225449 & 0.378938385\\\\\n",
       "\t DC        & 0.018973660 & 0.003892615 & 9.162977e-03 & 0.018110122 & 0.031737225 & 0.01621322 & 0.009801839 & 0.024221566 & 0.004142437 & ⋯ & 0.002882408 & 0.032123261 & 0.0184524762 & 0.012828057 & 0.013296213 & 0.011224148 & 3.864835e-02 & 0.013116641 & 0.009805213 & 0.010061781\\\\\n",
       "\t Lymphoids & 0.003296698 & 0.001958358 & 5.657640e-21 & 0.007256343 & 0.000000000 & 0.02019164 & 0.003125931 & 0.001630643 & 0.004610102 & ⋯ & 0.017369581 & 0.007726714 & 0.0002725131 & 0.003074945 & 0.000536416 & 0.001054683 & 4.813249e-04 & 0.005073924 & 0.003932418 & 0.004152275\\\\\n",
       "\t Monocyte  & 0.331168726 & 0.223461473 & 9.407191e-02 & 0.071788162 & 0.132672094 & 0.04886407 & 0.026279279 & 0.095056773 & 0.105909278 & ⋯ & 0.174674555 & 0.350757595 & 0.2445343426 & 0.057638959 & 0.123576249 & 0.041647495 & 4.358439e-01 & 0.034933789 & 0.136051966 & 0.119631189\\\\\n",
       "\t Myeloids  & 0.093574062 & 0.056242538 & 9.572882e-02 & 0.027403508 & 0.129669090 & 0.12684079 & 0.127652407 & 0.163281797 & 0.101506307 & ⋯ & 0.166274810 & 0.033992085 & 0.0402755194 & 0.081234094 & 0.191854608 & 0.067668843 & 6.890955e-02 & 0.084937358 & 0.038166293 & 0.080258570\\\\\n",
       "\t NK        & 0.156621556 & 0.119184337 & 4.949953e-02 & 0.032876090 & 0.008475587 & 0.03863759 & 0.036934868 & 0.051918016 & 0.089373639 & ⋯ & 0.060950824 & 0.196791729 & 0.0985751947 & 0.055389756 & 0.058378924 & 0.039160041 & 2.102179e-01 & 0.042140345 & 0.084799017 & 0.099304781\\\\\n",
       "\t Stem      & 0.142659243 & 0.139969237 & 3.166939e-02 & 0.009799922 & 0.018560834 & 0.02146793 & 0.013711753 & 0.026563502 & 0.053634179 & ⋯ & 0.090189278 & 0.073814321 & 0.1486737485 & 0.022473010 & 0.063866373 & 0.010949276 & 1.271037e-01 & 0.031664827 & 0.104984952 & 0.015495315\\\\\n",
       "\\end{tabular}\n"
      ],
      "text/markdown": [
       "\n",
       "A tibble: 9 × 756\n",
       "\n",
       "| Category &lt;chr&gt; | GTEX.111YS.0006.SM.5NQBE &lt;dbl&gt; | GTEX.1122O.0005.SM.5O99J &lt;dbl&gt; | GTEX.1128S.0005.SM.5P9HI &lt;dbl&gt; | GTEX.113IC.0006.SM.5NQ9C &lt;dbl&gt; | GTEX.113JC.0006.SM.5O997 &lt;dbl&gt; | GTEX.117XS.0005.SM.5PNU6 &lt;dbl&gt; | GTEX.117YW.0005.SM.5NQ8Z &lt;dbl&gt; | GTEX.1192W.0005.SM.5NQBQ &lt;dbl&gt; | GTEX.1192X.0005.SM.5NQC3 &lt;dbl&gt; | ⋯ ⋯ | GTEX.ZVE2.0006.SM.51MRW &lt;dbl&gt; | GTEX.ZVP2.0005.SM.51MRK &lt;dbl&gt; | GTEX.ZVT2.0005.SM.57WBW &lt;dbl&gt; | GTEX.ZVT3.0006.SM.51MT9 &lt;dbl&gt; | GTEX.ZVT4.0006.SM.57WB8 &lt;dbl&gt; | GTEX.ZVTK.0006.SM.57WBK &lt;dbl&gt; | GTEX.ZVZP.0006.SM.51MSW &lt;dbl&gt; | GTEX.ZVZQ.0006.SM.51MR8 &lt;dbl&gt; | GTEX.ZXES.0005.SM.57WCB &lt;dbl&gt; | GTEX.ZXG5.0005.SM.57WCN &lt;dbl&gt; |\n",
       "|---|---|---|---|---|---|---|---|---|---|---|---|---|---|---|---|---|---|---|---|---|\n",
       "| B         | 0.032612533 | 0.274504561 | 3.552003e-01 | 0.201679892 | 0.130089203 | 0.23330556 | 0.159588890 | 0.133484050 | 0.064906292 | ⋯ | 0.089625281 | 0.099321286 | 0.2378419499 | 0.108972650 | 0.289059213 | 0.291362979 | 1.286309e-02 | 0.232390586 | 0.365172707 | 0.130933917 |\n",
       "| CD4       | 0.156775094 | 0.169138308 | 1.459887e-01 | 0.288760267 | 0.241357286 | 0.23134876 | 0.300131447 | 0.212402010 | 0.187629586 | ⋯ | 0.272436092 | 0.097354068 | 0.1974162314 | 0.324088607 | 0.114530034 | 0.287615513 | 1.059322e-01 | 0.244819367 | 0.146861984 | 0.161223787 |\n",
       "| CD8       | 0.064318430 | 0.011648574 | 2.186784e-01 | 0.342325694 | 0.307438682 | 0.26313044 | 0.322773585 | 0.291441643 | 0.388288179 | ⋯ | 0.125597171 | 0.108118942 | 0.0139580241 | 0.334299922 | 0.144901971 | 0.249317024 | 6.009746e-18 | 0.310923162 | 0.110225449 | 0.378938385 |\n",
       "| DC        | 0.018973660 | 0.003892615 | 9.162977e-03 | 0.018110122 | 0.031737225 | 0.01621322 | 0.009801839 | 0.024221566 | 0.004142437 | ⋯ | 0.002882408 | 0.032123261 | 0.0184524762 | 0.012828057 | 0.013296213 | 0.011224148 | 3.864835e-02 | 0.013116641 | 0.009805213 | 0.010061781 |\n",
       "| Lymphoids | 0.003296698 | 0.001958358 | 5.657640e-21 | 0.007256343 | 0.000000000 | 0.02019164 | 0.003125931 | 0.001630643 | 0.004610102 | ⋯ | 0.017369581 | 0.007726714 | 0.0002725131 | 0.003074945 | 0.000536416 | 0.001054683 | 4.813249e-04 | 0.005073924 | 0.003932418 | 0.004152275 |\n",
       "| Monocyte  | 0.331168726 | 0.223461473 | 9.407191e-02 | 0.071788162 | 0.132672094 | 0.04886407 | 0.026279279 | 0.095056773 | 0.105909278 | ⋯ | 0.174674555 | 0.350757595 | 0.2445343426 | 0.057638959 | 0.123576249 | 0.041647495 | 4.358439e-01 | 0.034933789 | 0.136051966 | 0.119631189 |\n",
       "| Myeloids  | 0.093574062 | 0.056242538 | 9.572882e-02 | 0.027403508 | 0.129669090 | 0.12684079 | 0.127652407 | 0.163281797 | 0.101506307 | ⋯ | 0.166274810 | 0.033992085 | 0.0402755194 | 0.081234094 | 0.191854608 | 0.067668843 | 6.890955e-02 | 0.084937358 | 0.038166293 | 0.080258570 |\n",
       "| NK        | 0.156621556 | 0.119184337 | 4.949953e-02 | 0.032876090 | 0.008475587 | 0.03863759 | 0.036934868 | 0.051918016 | 0.089373639 | ⋯ | 0.060950824 | 0.196791729 | 0.0985751947 | 0.055389756 | 0.058378924 | 0.039160041 | 2.102179e-01 | 0.042140345 | 0.084799017 | 0.099304781 |\n",
       "| Stem      | 0.142659243 | 0.139969237 | 3.166939e-02 | 0.009799922 | 0.018560834 | 0.02146793 | 0.013711753 | 0.026563502 | 0.053634179 | ⋯ | 0.090189278 | 0.073814321 | 0.1486737485 | 0.022473010 | 0.063866373 | 0.010949276 | 1.271037e-01 | 0.031664827 | 0.104984952 | 0.015495315 |\n",
       "\n"
      ],
      "text/plain": [
       "  Category  GTEX.111YS.0006.SM.5NQBE GTEX.1122O.0005.SM.5O99J\n",
       "1 B         0.032612533              0.274504561             \n",
       "2 CD4       0.156775094              0.169138308             \n",
       "3 CD8       0.064318430              0.011648574             \n",
       "4 DC        0.018973660              0.003892615             \n",
       "5 Lymphoids 0.003296698              0.001958358             \n",
       "6 Monocyte  0.331168726              0.223461473             \n",
       "7 Myeloids  0.093574062              0.056242538             \n",
       "8 NK        0.156621556              0.119184337             \n",
       "9 Stem      0.142659243              0.139969237             \n",
       "  GTEX.1128S.0005.SM.5P9HI GTEX.113IC.0006.SM.5NQ9C GTEX.113JC.0006.SM.5O997\n",
       "1 3.552003e-01             0.201679892              0.130089203             \n",
       "2 1.459887e-01             0.288760267              0.241357286             \n",
       "3 2.186784e-01             0.342325694              0.307438682             \n",
       "4 9.162977e-03             0.018110122              0.031737225             \n",
       "5 5.657640e-21             0.007256343              0.000000000             \n",
       "6 9.407191e-02             0.071788162              0.132672094             \n",
       "7 9.572882e-02             0.027403508              0.129669090             \n",
       "8 4.949953e-02             0.032876090              0.008475587             \n",
       "9 3.166939e-02             0.009799922              0.018560834             \n",
       "  GTEX.117XS.0005.SM.5PNU6 GTEX.117YW.0005.SM.5NQ8Z GTEX.1192W.0005.SM.5NQBQ\n",
       "1 0.23330556               0.159588890              0.133484050             \n",
       "2 0.23134876               0.300131447              0.212402010             \n",
       "3 0.26313044               0.322773585              0.291441643             \n",
       "4 0.01621322               0.009801839              0.024221566             \n",
       "5 0.02019164               0.003125931              0.001630643             \n",
       "6 0.04886407               0.026279279              0.095056773             \n",
       "7 0.12684079               0.127652407              0.163281797             \n",
       "8 0.03863759               0.036934868              0.051918016             \n",
       "9 0.02146793               0.013711753              0.026563502             \n",
       "  GTEX.1192X.0005.SM.5NQC3 ⋯ GTEX.ZVE2.0006.SM.51MRW GTEX.ZVP2.0005.SM.51MRK\n",
       "1 0.064906292              ⋯ 0.089625281             0.099321286            \n",
       "2 0.187629586              ⋯ 0.272436092             0.097354068            \n",
       "3 0.388288179              ⋯ 0.125597171             0.108118942            \n",
       "4 0.004142437              ⋯ 0.002882408             0.032123261            \n",
       "5 0.004610102              ⋯ 0.017369581             0.007726714            \n",
       "6 0.105909278              ⋯ 0.174674555             0.350757595            \n",
       "7 0.101506307              ⋯ 0.166274810             0.033992085            \n",
       "8 0.089373639              ⋯ 0.060950824             0.196791729            \n",
       "9 0.053634179              ⋯ 0.090189278             0.073814321            \n",
       "  GTEX.ZVT2.0005.SM.57WBW GTEX.ZVT3.0006.SM.51MT9 GTEX.ZVT4.0006.SM.57WB8\n",
       "1 0.2378419499            0.108972650             0.289059213            \n",
       "2 0.1974162314            0.324088607             0.114530034            \n",
       "3 0.0139580241            0.334299922             0.144901971            \n",
       "4 0.0184524762            0.012828057             0.013296213            \n",
       "5 0.0002725131            0.003074945             0.000536416            \n",
       "6 0.2445343426            0.057638959             0.123576249            \n",
       "7 0.0402755194            0.081234094             0.191854608            \n",
       "8 0.0985751947            0.055389756             0.058378924            \n",
       "9 0.1486737485            0.022473010             0.063866373            \n",
       "  GTEX.ZVTK.0006.SM.57WBK GTEX.ZVZP.0006.SM.51MSW GTEX.ZVZQ.0006.SM.51MR8\n",
       "1 0.291362979             1.286309e-02            0.232390586            \n",
       "2 0.287615513             1.059322e-01            0.244819367            \n",
       "3 0.249317024             6.009746e-18            0.310923162            \n",
       "4 0.011224148             3.864835e-02            0.013116641            \n",
       "5 0.001054683             4.813249e-04            0.005073924            \n",
       "6 0.041647495             4.358439e-01            0.034933789            \n",
       "7 0.067668843             6.890955e-02            0.084937358            \n",
       "8 0.039160041             2.102179e-01            0.042140345            \n",
       "9 0.010949276             1.271037e-01            0.031664827            \n",
       "  GTEX.ZXES.0005.SM.57WCB GTEX.ZXG5.0005.SM.57WCN\n",
       "1 0.365172707             0.130933917            \n",
       "2 0.146861984             0.161223787            \n",
       "3 0.110225449             0.378938385            \n",
       "4 0.009805213             0.010061781            \n",
       "5 0.003932418             0.004152275            \n",
       "6 0.136051966             0.119631189            \n",
       "7 0.038166293             0.080258570            \n",
       "8 0.084799017             0.099304781            \n",
       "9 0.104984952             0.015495315            "
      ]
     },
     "metadata": {},
     "output_type": "display_data"
    }
   ],
   "source": [
    "props"
   ]
  },
  {
   "cell_type": "code",
   "execution_count": null,
   "id": "0c12474b-6ec5-491b-aee7-c0c9b4313987",
   "metadata": {},
   "outputs": [],
   "source": [
    "fwrite(props, '../data/xcell/xcell_props.csv', sep='\\t')"
   ]
  }
 ],
 "metadata": {
  "kernelspec": {
   "display_name": "R",
   "language": "R",
   "name": "ir"
  },
  "language_info": {
   "codemirror_mode": "r",
   "file_extension": ".r",
   "mimetype": "text/x-r-source",
   "name": "R",
   "pygments_lexer": "r",
   "version": "4.3.2"
  }
 },
 "nbformat": 4,
 "nbformat_minor": 5
}
