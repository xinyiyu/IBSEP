{
 "cells": [
  {
   "cell_type": "code",
   "execution_count": null,
   "id": "b76eec5d-0ecb-4633-bb4d-3f0decacb1c4",
   "metadata": {},
   "outputs": [],
   "source": [
    "library(coloc)\n",
    "library(LDlinkR)\n",
    "library(tidyverse)\n",
    "library(data.table)\n",
    "library(parallel)\n",
    "library(GenomicRanges)\n",
    "library(rtracklayer)\n",
    "library(locuszoomr)\n",
    "library(EnsDb.Hsapiens.v75)\n",
    "library(ggpubr)\n",
    "library(cowplot)\n",
    "library(ComplexHeatmap)\n",
    "library(circlize)\n",
    "library(gridExtra)\n",
    "library(cowplot)\n",
    "library(patchwork)"
   ]
  },
  {
   "cell_type": "code",
   "execution_count": 2,
   "id": "8f6baf17-6eb5-4517-a487-b7557c0e0b6f",
   "metadata": {},
   "outputs": [
    {
     "name": "stdout",
     "output_type": "stream",
     "text": [
      "[1] 22150     2\n"
     ]
    },
    {
     "data": {
      "text/html": [
       "<table class=\"dataframe\">\n",
       "<caption>A data.table: 6 × 2</caption>\n",
       "<thead>\n",
       "\t<tr><th scope=col>GENEID</th><th scope=col>GENENAME</th></tr>\n",
       "\t<tr><th scope=col>&lt;chr&gt;</th><th scope=col>&lt;chr&gt;</th></tr>\n",
       "</thead>\n",
       "<tbody>\n",
       "\t<tr><td>ENSG00000238009</td><td>RP11-34P13.7 </td></tr>\n",
       "\t<tr><td>ENSG00000237683</td><td>AL627309.1   </td></tr>\n",
       "\t<tr><td>ENSG00000228463</td><td>AP006222.2   </td></tr>\n",
       "\t<tr><td>ENSG00000237094</td><td>RP4-669L17.10</td></tr>\n",
       "\t<tr><td>ENSG00000235373</td><td>RP11-206L10.3</td></tr>\n",
       "\t<tr><td>ENSG00000228327</td><td>RP11-206L10.2</td></tr>\n",
       "</tbody>\n",
       "</table>\n"
      ],
      "text/latex": [
       "A data.table: 6 × 2\n",
       "\\begin{tabular}{ll}\n",
       " GENEID & GENENAME\\\\\n",
       " <chr> & <chr>\\\\\n",
       "\\hline\n",
       "\t ENSG00000238009 & RP11-34P13.7 \\\\\n",
       "\t ENSG00000237683 & AL627309.1   \\\\\n",
       "\t ENSG00000228463 & AP006222.2   \\\\\n",
       "\t ENSG00000237094 & RP4-669L17.10\\\\\n",
       "\t ENSG00000235373 & RP11-206L10.3\\\\\n",
       "\t ENSG00000228327 & RP11-206L10.2\\\\\n",
       "\\end{tabular}\n"
      ],
      "text/markdown": [
       "\n",
       "A data.table: 6 × 2\n",
       "\n",
       "| GENEID &lt;chr&gt; | GENENAME &lt;chr&gt; |\n",
       "|---|---|\n",
       "| ENSG00000238009 | RP11-34P13.7  |\n",
       "| ENSG00000237683 | AL627309.1    |\n",
       "| ENSG00000228463 | AP006222.2    |\n",
       "| ENSG00000237094 | RP4-669L17.10 |\n",
       "| ENSG00000235373 | RP11-206L10.3 |\n",
       "| ENSG00000228327 | RP11-206L10.2 |\n",
       "\n"
      ],
      "text/plain": [
       "  GENEID          GENENAME     \n",
       "1 ENSG00000238009 RP11-34P13.7 \n",
       "2 ENSG00000237683 AL627309.1   \n",
       "3 ENSG00000228463 AP006222.2   \n",
       "4 ENSG00000237094 RP4-669L17.10\n",
       "5 ENSG00000235373 RP11-206L10.3\n",
       "6 ENSG00000228327 RP11-206L10.2"
      ]
     },
     "metadata": {},
     "output_type": "display_data"
    }
   ],
   "source": [
    "gene_id_name = fread('../data/1M-scBloodNL/gene_id_name.allchrom.csv', sep='\\t')\n",
    "print(dim(gene_id_name))\n",
    "head(gene_id_name)"
   ]
  },
  {
   "cell_type": "code",
   "execution_count": 3,
   "id": "0cf48bce-abb5-4744-be46-f8ba2565ab5d",
   "metadata": {},
   "outputs": [],
   "source": [
    "celltype_map = list(B=c('bin', 'bmem', 'plasma'),\n",
    "                    CD4T=c('cd4et', 'cd4nc', 'cd4sox4'),\n",
    "                    CD8T=c('cd8et', 'cd8nc', 'cd8s100b'),\n",
    "                    NK=c('nk', 'nkr'),\n",
    "                    monocyte=c('monoc', 'mononc'),\n",
    "                    DC=c('dc'))"
   ]
  },
  {
   "cell_type": "markdown",
   "id": "be32f4ba-1104-465f-9dc8-f440759e7675",
   "metadata": {},
   "source": [
    "# RA"
   ]
  },
  {
   "cell_type": "markdown",
   "id": "34e447b0-0a41-4553-93a7-dab8118aafea",
   "metadata": {},
   "source": [
    "## Process GWAS"
   ]
  },
  {
   "cell_type": "code",
   "execution_count": 4,
   "id": "27d1f7fc-3edf-484d-9adf-5b59f568b6d7",
   "metadata": {},
   "outputs": [],
   "source": [
    "selected_trait = 'ra'"
   ]
  },
  {
   "cell_type": "code",
   "execution_count": 8,
   "id": "4a9c8ffa-4ad6-4a64-9fab-ebc9ce076137",
   "metadata": {},
   "outputs": [],
   "source": [
    "if(selected_trait=='ra'){\n",
    "sumstats <- fread('../data/blood_coloc/gwas/RA-10-28-2021/EUR_all_auto-10-2021_processed.txt.gz') %>% \n",
    "  mutate(CHR=paste0('chr', CHR), beta=Beta, se=SE) %>% \n",
    "  dplyr::filter(!is.na(Pval)) %>% \n",
    "  dplyr::select(variant_id=SNP,p_value=Pval,chr=CHR,bp_b37=BP,effect_allele=alt,other_allele=ref,beta,se)\n",
    "\n",
    "  if(file.exists('../data/blood_coloc/gwas/ra/loci_LDlinkR.r2.0.1.EUR.txt')) {\n",
    "    loci <- fread('../data/blood_coloc/gwas/ra/loci_LDlinkR.r2.0.1.EUR.txt', sep='\\t')\n",
    "  }\n",
    "}"
   ]
  },
  {
   "cell_type": "code",
   "execution_count": 9,
   "id": "3e4cd09e-91cf-43a8-beea-16d8ce4c896d",
   "metadata": {},
   "outputs": [
    {
     "data": {
      "text/html": [
       "<style>\n",
       ".list-inline {list-style: none; margin:0; padding: 0}\n",
       ".list-inline>li {display: inline-block}\n",
       ".list-inline>li:not(:last-child)::after {content: \"\\00b7\"; padding: 0 .5ex}\n",
       "</style>\n",
       "<ol class=list-inline><li>8919817</li><li>8</li></ol>\n"
      ],
      "text/latex": [
       "\\begin{enumerate*}\n",
       "\\item 8919817\n",
       "\\item 8\n",
       "\\end{enumerate*}\n"
      ],
      "text/markdown": [
       "1. 8919817\n",
       "2. 8\n",
       "\n",
       "\n"
      ],
      "text/plain": [
       "[1] 8919817       8"
      ]
     },
     "metadata": {},
     "output_type": "display_data"
    }
   ],
   "source": [
    "dim(sumstats)"
   ]
  },
  {
   "cell_type": "code",
   "execution_count": 10,
   "id": "c84a4d95-c7eb-402f-98c1-546ded05a31e",
   "metadata": {},
   "outputs": [
    {
     "data": {
      "text/html": [
       "<table class=\"dataframe\">\n",
       "<caption>A data.table: 6 × 8</caption>\n",
       "<thead>\n",
       "\t<tr><th scope=col>variant_id</th><th scope=col>p_value</th><th scope=col>chr</th><th scope=col>bp_b37</th><th scope=col>effect_allele</th><th scope=col>other_allele</th><th scope=col>beta</th><th scope=col>se</th></tr>\n",
       "\t<tr><th scope=col>&lt;chr&gt;</th><th scope=col>&lt;dbl&gt;</th><th scope=col>&lt;chr&gt;</th><th scope=col>&lt;int&gt;</th><th scope=col>&lt;chr&gt;</th><th scope=col>&lt;chr&gt;</th><th scope=col>&lt;dbl&gt;</th><th scope=col>&lt;dbl&gt;</th></tr>\n",
       "</thead>\n",
       "<tbody>\n",
       "\t<tr><td>rs202152658</td><td>0.1220</td><td>chr1</td><td>751343</td><td>A</td><td>T</td><td>-0.0588</td><td>0.0380</td></tr>\n",
       "\t<tr><td>rs143225517</td><td>0.1230</td><td>chr1</td><td>751756</td><td>C</td><td>T</td><td>-0.0585</td><td>0.0379</td></tr>\n",
       "\t<tr><td>rs3094315  </td><td>0.1495</td><td>chr1</td><td>752566</td><td>A</td><td>G</td><td> 0.0472</td><td>0.0328</td></tr>\n",
       "\t<tr><td>rs3131972  </td><td>0.2354</td><td>chr1</td><td>752721</td><td>G</td><td>A</td><td> 0.0325</td><td>0.0274</td></tr>\n",
       "\t<tr><td>rs3131971  </td><td>0.1439</td><td>chr1</td><td>752894</td><td>C</td><td>T</td><td> 0.0522</td><td>0.0357</td></tr>\n",
       "\t<tr><td>rs61770173 </td><td>0.1333</td><td>chr1</td><td>753405</td><td>A</td><td>C</td><td> 0.0554</td><td>0.0369</td></tr>\n",
       "</tbody>\n",
       "</table>\n"
      ],
      "text/latex": [
       "A data.table: 6 × 8\n",
       "\\begin{tabular}{llllllll}\n",
       " variant\\_id & p\\_value & chr & bp\\_b37 & effect\\_allele & other\\_allele & beta & se\\\\\n",
       " <chr> & <dbl> & <chr> & <int> & <chr> & <chr> & <dbl> & <dbl>\\\\\n",
       "\\hline\n",
       "\t rs202152658 & 0.1220 & chr1 & 751343 & A & T & -0.0588 & 0.0380\\\\\n",
       "\t rs143225517 & 0.1230 & chr1 & 751756 & C & T & -0.0585 & 0.0379\\\\\n",
       "\t rs3094315   & 0.1495 & chr1 & 752566 & A & G &  0.0472 & 0.0328\\\\\n",
       "\t rs3131972   & 0.2354 & chr1 & 752721 & G & A &  0.0325 & 0.0274\\\\\n",
       "\t rs3131971   & 0.1439 & chr1 & 752894 & C & T &  0.0522 & 0.0357\\\\\n",
       "\t rs61770173  & 0.1333 & chr1 & 753405 & A & C &  0.0554 & 0.0369\\\\\n",
       "\\end{tabular}\n"
      ],
      "text/markdown": [
       "\n",
       "A data.table: 6 × 8\n",
       "\n",
       "| variant_id &lt;chr&gt; | p_value &lt;dbl&gt; | chr &lt;chr&gt; | bp_b37 &lt;int&gt; | effect_allele &lt;chr&gt; | other_allele &lt;chr&gt; | beta &lt;dbl&gt; | se &lt;dbl&gt; |\n",
       "|---|---|---|---|---|---|---|---|\n",
       "| rs202152658 | 0.1220 | chr1 | 751343 | A | T | -0.0588 | 0.0380 |\n",
       "| rs143225517 | 0.1230 | chr1 | 751756 | C | T | -0.0585 | 0.0379 |\n",
       "| rs3094315   | 0.1495 | chr1 | 752566 | A | G |  0.0472 | 0.0328 |\n",
       "| rs3131972   | 0.2354 | chr1 | 752721 | G | A |  0.0325 | 0.0274 |\n",
       "| rs3131971   | 0.1439 | chr1 | 752894 | C | T |  0.0522 | 0.0357 |\n",
       "| rs61770173  | 0.1333 | chr1 | 753405 | A | C |  0.0554 | 0.0369 |\n",
       "\n"
      ],
      "text/plain": [
       "  variant_id  p_value chr  bp_b37 effect_allele other_allele beta    se    \n",
       "1 rs202152658 0.1220  chr1 751343 A             T            -0.0588 0.0380\n",
       "2 rs143225517 0.1230  chr1 751756 C             T            -0.0585 0.0379\n",
       "3 rs3094315   0.1495  chr1 752566 A             G             0.0472 0.0328\n",
       "4 rs3131972   0.2354  chr1 752721 G             A             0.0325 0.0274\n",
       "5 rs3131971   0.1439  chr1 752894 C             T             0.0522 0.0357\n",
       "6 rs61770173  0.1333  chr1 753405 A             C             0.0554 0.0369"
      ]
     },
     "metadata": {},
     "output_type": "display_data"
    }
   ],
   "source": [
    "head(sumstats)"
   ]
  },
  {
   "cell_type": "code",
   "execution_count": 11,
   "id": "16931076-3b4c-4fba-af74-41a8d748ed16",
   "metadata": {},
   "outputs": [
    {
     "data": {
      "text/html": [
       "<style>\n",
       ".list-inline {list-style: none; margin:0; padding: 0}\n",
       ".list-inline>li {display: inline-block}\n",
       ".list-inline>li:not(:last-child)::after {content: \"\\00b7\"; padding: 0 .5ex}\n",
       "</style>\n",
       "<ol class=list-inline><li>69</li><li>10</li></ol>\n"
      ],
      "text/latex": [
       "\\begin{enumerate*}\n",
       "\\item 69\n",
       "\\item 10\n",
       "\\end{enumerate*}\n"
      ],
      "text/markdown": [
       "1. 69\n",
       "2. 10\n",
       "\n",
       "\n"
      ],
      "text/plain": [
       "[1] 69 10"
      ]
     },
     "metadata": {},
     "output_type": "display_data"
    }
   ],
   "source": [
    "if(!file.exists('../data/blood_coloc/gwas/ra/loci_LDlinkR.r2.0.1.EUR.txt')){\n",
    "  loci <- fread('../data/blood_coloc/gwas/RA-10-28-2021/EUR_all_auto_indexsnp.csv', sep='\\t') %>%  \n",
    "    mutate(GWAS_snp_pos=paste0('chr',CHR,':',BP)) %>%\n",
    "    dplyr::filter(!is.na(Pval))\n",
    "}\n",
    "dim(loci)"
   ]
  },
  {
   "cell_type": "code",
   "execution_count": 14,
   "id": "1c696506-81ec-4790-ab7f-295d2df9e8fb",
   "metadata": {
    "collapsed": true,
    "jupyter": {
     "outputs_hidden": true
    }
   },
   "outputs": [
    {
     "name": "stderr",
     "output_type": "stream",
     "text": [
      "\n",
      "LDlink server is working...\n",
      "\n",
      "\n",
      "\n",
      "LDlink server is working...\n",
      "\n",
      "\n",
      "\n",
      "LDlink server is working...\n",
      "\n",
      "\n",
      "\n",
      "LDlink server is working...\n",
      "\n",
      "\n",
      "\n",
      "LDlink server is working...\n",
      "\n",
      "\n",
      "\n",
      "LDlink server is working...\n",
      "\n",
      "\n",
      "\n",
      "LDlink server is working...\n",
      "\n",
      "\n",
      "\n",
      "LDlink server is working...\n",
      "\n",
      "\n",
      "\n",
      "LDlink server is working...\n",
      "\n",
      "\n",
      "\n",
      "LDlink server is working...\n",
      "\n",
      "\n",
      "\n",
      "LDlink server is working...\n",
      "\n",
      "\n",
      "\n",
      "LDlink server is working...\n",
      "\n",
      "\n",
      "\n",
      "LDlink server is working...\n",
      "\n",
      "\n",
      "\n",
      "LDlink server is working...\n",
      "\n",
      "\n",
      "\n",
      "LDlink server is working...\n",
      "\n",
      "\n",
      "\n",
      "LDlink server is working...\n",
      "\n",
      "\n",
      "\n",
      "LDlink server is working...\n",
      "\n",
      "\n",
      "\n",
      "LDlink server is working...\n",
      "\n",
      "\n",
      "\n",
      "LDlink server is working...\n",
      "\n",
      "\n",
      "\n",
      "LDlink server is working...\n",
      "\n",
      "\n",
      "\n",
      "LDlink server is working...\n",
      "\n",
      "\n",
      "\n",
      "LDlink server is working...\n",
      "\n",
      "\n",
      "\n",
      "LDlink server is working...\n",
      "\n",
      "\n",
      "\n",
      "LDlink server is working...\n",
      "\n",
      "\n",
      "\n",
      "LDlink server is working...\n",
      "\n",
      "\n",
      "\n",
      "LDlink server is working...\n",
      "\n",
      "\n",
      "\n",
      "LDlink server is working...\n",
      "\n",
      "\n",
      "\n",
      "LDlink server is working...\n",
      "\n",
      "\n",
      "\n",
      "LDlink server is working...\n",
      "\n",
      "\n",
      "\n",
      "LDlink server is working...\n",
      "\n",
      "\n",
      "\n",
      "LDlink server is working...\n",
      "\n",
      "\n",
      "\n",
      "LDlink server is working...\n",
      "\n",
      "\n",
      "\n",
      "LDlink server is working...\n",
      "\n",
      "\n",
      "\n",
      "LDlink server is working...\n",
      "\n",
      "\n",
      "\n",
      "LDlink server is working...\n",
      "\n",
      "\n",
      "\n",
      "LDlink server is working...\n",
      "\n",
      "\n",
      "\n",
      "LDlink server is working...\n",
      "\n",
      "\n",
      "\n",
      "LDlink server is working...\n",
      "\n",
      "\n",
      "\n",
      "LDlink server is working...\n",
      "\n",
      "\n",
      "\n",
      "LDlink server is working...\n",
      "\n",
      "\n",
      "\n",
      "LDlink server is working...\n",
      "\n",
      "\n",
      "\n",
      "LDlink server is working...\n",
      "\n",
      "\n",
      "\n",
      "LDlink server is working...\n",
      "\n",
      "\n",
      "\n",
      "LDlink server is working...\n",
      "\n",
      "\n",
      "\n",
      "LDlink server is working...\n",
      "\n",
      "\n",
      "\n",
      "LDlink server is working...\n",
      "\n",
      "\n",
      "\n",
      "LDlink server is working...\n",
      "\n",
      "\n",
      "\n",
      "LDlink server is working...\n",
      "\n",
      "\n",
      "\n",
      "LDlink server is working...\n",
      "\n",
      "\n",
      "\n",
      "LDlink server is working...\n",
      "\n",
      "\n",
      "\n",
      "LDlink server is working...\n",
      "\n",
      "\n",
      "\n",
      "LDlink server is working...\n",
      "\n",
      "\n",
      "\n",
      "LDlink server is working...\n",
      "\n",
      "\n",
      "\n",
      "LDlink server is working...\n",
      "\n",
      "\n",
      "\n",
      "LDlink server is working...\n",
      "\n",
      "\n",
      "\n",
      "LDlink server is working...\n",
      "\n",
      "\n",
      "\n",
      "LDlink server is working...\n",
      "\n",
      "\n",
      "\n",
      "LDlink server is working...\n",
      "\n",
      "\n",
      "\n",
      "LDlink server is working...\n",
      "\n",
      "\n",
      "\n",
      "LDlink server is working...\n",
      "\n",
      "\n",
      "\n",
      "LDlink server is working...\n",
      "\n",
      "\n",
      "\n",
      "LDlink server is working...\n",
      "\n",
      "\n",
      "\n",
      "LDlink server is working...\n",
      "\n",
      "\n",
      "\n",
      "LDlink server is working...\n",
      "\n",
      "\n",
      "\n",
      "LDlink server is working...\n",
      "\n",
      "\n",
      "\n",
      "LDlink server is working...\n",
      "\n",
      "\n",
      "\n",
      "LDlink server is working...\n",
      "\n",
      "\n",
      "\n",
      "LDlink server is working...\n",
      "\n",
      "\n",
      "\n",
      "LDlink server is working...\n",
      "\n",
      "\n"
     ]
    }
   ],
   "source": [
    "if(!file.exists('../data/blood_coloc/gwas/ra/loci_LDlinkR.r2.0.1.EUR.txt')){\n",
    "  proxy_snps <- lapply(loci$GWAS_snp_pos,LDlinkR::LDproxy,pop = \"EUR\", r2d = \"r2\", token = '72edb9cc22c9', file = FALSE)\n",
    "  saveRDS(proxy_snps,'../data/blood_coloc/gwas/ra/loci_LDlinkR.allSNPs.EUR.rds')\n",
    "}"
   ]
  },
  {
   "cell_type": "code",
   "execution_count": 15,
   "id": "1e2ffd44-d493-4d5a-909c-e311808ad5d3",
   "metadata": {},
   "outputs": [
    {
     "data": {
      "text/html": [
       "69"
      ],
      "text/latex": [
       "69"
      ],
      "text/markdown": [
       "69"
      ],
      "text/plain": [
       "[1] 69"
      ]
     },
     "metadata": {},
     "output_type": "display_data"
    }
   ],
   "source": [
    "length(proxy_snps)"
   ]
  },
  {
   "cell_type": "code",
   "execution_count": 17,
   "id": "154331c5-bc9b-4a17-9181-cbaa723f00bf",
   "metadata": {},
   "outputs": [],
   "source": [
    "if(!file.exists('../data/blood_coloc/gwas/ra/loci_LDlinkR.r2.0.1.EUR.txt')){\n",
    "  loci <- lapply(proxy_snps,function(x){\n",
    "    if(nrow(x)>1){\n",
    "      x <- dplyr::filter(x,R2>=0.1) \n",
    "      chr <- x$Coord %>% gsub(':.+','',.) %>% unique()\n",
    "      pos <- x$Coord %>% gsub('chr[0-9]{1,2}:','',.) %>% as.numeric()\n",
    "      locus_name <- paste0(chr,':',min(pos),'_',max(pos))\n",
    "      top_snp_df <- dplyr::filter(x,Distance==0) \n",
    "      top_snp <- top_snp_df %>% pull(RS_Number)\n",
    "      top_snp_pos <- top_snp_df %>% pull(Coord)\n",
    "      locus <- tibble(GWAS_snp=top_snp,GWAS_snp_pos=top_snp_pos,locus_name=locus_name,chrom=chr,start=min(pos),end=max(pos))\n",
    "      return(locus)\n",
    "    }\n",
    "    else{\n",
    "      return(NULL)\n",
    "    }\n",
    "  }) %>% bind_rows()\n",
    "  write_tsv(loci,'../data/blood_coloc/gwas/ra/loci_LDlinkR.r2.0.1.EUR.txt')\n",
    "}\n"
   ]
  },
  {
   "cell_type": "code",
   "execution_count": 11,
   "id": "31af7f74-6aa3-4b28-8dd0-264a932fa1b9",
   "metadata": {},
   "outputs": [],
   "source": [
    "if(!file.exists('../data/blood_coloc/gwas/ra/closest.protein.coding.bed')){\n",
    "  sumstats_min <- sumstats %>% dplyr::select(chr,variant_id,bp_b37,beta)\n",
    "}"
   ]
  },
  {
   "cell_type": "code",
   "execution_count": 23,
   "id": "d756683e-8f09-4a57-86cf-d2abd43d4b65",
   "metadata": {},
   "outputs": [],
   "source": [
    "if(!file.exists('../data/blood_coloc/gwas/ra/closest.protein.coding.bed')){\n",
    "  gwas_snp <- tibble(GWAS_SNP_pos=unique(loci$GWAS_snp_pos)) %>% \n",
    "    separate(GWAS_SNP_pos,into=c('chr','bp_b37'),sep=':') %>% \n",
    "    mutate(end=bp_b37) %>% \n",
    "    mutate(bp_b37=as.numeric(bp_b37)) %>% \n",
    "    left_join(.,sumstats_min,by=c('chr','bp_b37')) %>% \n",
    "    arrange(chr,bp_b37) %>% \n",
    "    write_tsv(.,'../data/blood_coloc/gwas/ra/ra_GWAS_index_snps.v2.bed',col_names = FALSE)\n",
    "}"
   ]
  },
  {
   "cell_type": "code",
   "execution_count": null,
   "id": "233c636f-a417-4be9-93c7-55de87c98f98",
   "metadata": {},
   "outputs": [],
   "source": [
    "cd data/gwas/ra\n",
    "ln -s ../data/brain_coloc/gencode/gencode.v39lift37.annotation.protein_coding.1_22.bed .\n",
    "\n",
    "ml bedtools/2.25.0-goolf-1.7.20\n",
    "bedtools closest -d -wa -a ra_GWAS_index_snps.v2.bed -b gencode.v39lift37.annotation.protein_coding.1_22.bed > closest.protein.coding.bed"
   ]
  },
  {
   "cell_type": "code",
   "execution_count": 13,
   "id": "d49c34cb-f721-4145-9890-a0e6279e0a80",
   "metadata": {},
   "outputs": [
    {
     "data": {
      "text/html": [
       "<style>\n",
       ".list-inline {list-style: none; margin:0; padding: 0}\n",
       ".list-inline>li {display: inline-block}\n",
       ".list-inline>li:not(:last-child)::after {content: \"\\00b7\"; padding: 0 .5ex}\n",
       "</style>\n",
       "<ol class=list-inline><li>69</li><li>8</li></ol>\n"
      ],
      "text/latex": [
       "\\begin{enumerate*}\n",
       "\\item 69\n",
       "\\item 8\n",
       "\\end{enumerate*}\n"
      ],
      "text/markdown": [
       "1. 69\n",
       "2. 8\n",
       "\n",
       "\n"
      ],
      "text/plain": [
       "[1] 69  8"
      ]
     },
     "metadata": {},
     "output_type": "display_data"
    }
   ],
   "source": [
    "if(file.exists('../data/blood_coloc/gwas/ra/loci_LDlinkR.r2.0.1.EUR.txt')){\n",
    "    loci <- fread('../data/blood_coloc/gwas/ra/loci_LDlinkR.r2.0.1.EUR.txt', sep='\\t')\n",
    "}\n",
    "closest <- fread(paste0('../data/blood_coloc/gwas/ra/closest.protein.coding.bed'),sep='\\t', header=FALSE) %>% \n",
    "  setNames(c('chr_snp','start_snp','end_snp','GWAS_snp','beta','chr_gene','start_gene','end_gene','gene','distance')) %>% \n",
    "  mutate(GWAS_snp_pos=paste0(chr_snp,':',start_snp)) %>% \n",
    "  dplyr::select(GWAS_snp,GWAS_snp_pos,gene,beta,distance) %>% \n",
    "  separate(gene,into=c('symbol','ensembl'),sep='_') %>% \n",
    "  add_count(GWAS_snp) %>% \n",
    "  group_by(GWAS_snp) %>% \n",
    "  mutate(locus_name_gene=ifelse(n==1,symbol,paste0(symbol,collapse=' - '))) %>% \n",
    "  ungroup() %>% \n",
    "  dplyr::select(GWAS_snp_pos,locus_name_gene,beta_top_GWAS=beta) %>% \n",
    "  unique() %>% arrange(-abs(beta_top_GWAS))\n",
    "loci <- left_join(loci,closest,by='GWAS_snp_pos')\n",
    "dim(loci)"
   ]
  },
  {
   "cell_type": "code",
   "execution_count": 14,
   "id": "1f889a37-e64f-4e72-87ac-0e22d9ab3329",
   "metadata": {},
   "outputs": [
    {
     "data": {
      "text/html": [
       "<table class=\"dataframe\">\n",
       "<caption>A data.table: 6 × 8</caption>\n",
       "<thead>\n",
       "\t<tr><th scope=col>GWAS_snp</th><th scope=col>GWAS_snp_pos</th><th scope=col>locus_name</th><th scope=col>chrom</th><th scope=col>start</th><th scope=col>end</th><th scope=col>locus_name_gene</th><th scope=col>beta_top_GWAS</th></tr>\n",
       "\t<tr><th scope=col>&lt;chr&gt;</th><th scope=col>&lt;chr&gt;</th><th scope=col>&lt;chr&gt;</th><th scope=col>&lt;chr&gt;</th><th scope=col>&lt;int&gt;</th><th scope=col>&lt;int&gt;</th><th scope=col>&lt;chr&gt;</th><th scope=col>&lt;dbl&gt;</th></tr>\n",
       "</thead>\n",
       "<tbody>\n",
       "\t<tr><td>rs867435 </td><td>chr1:2523706  </td><td>chr1:2407781_2779397    </td><td>chr1</td><td>  2407781</td><td>  2779397</td><td>MMEL1             </td><td>-0.0912</td></tr>\n",
       "\t<tr><td>rs2240336</td><td>chr1:17674402 </td><td>chr1:17599149_17677665  </td><td>chr1</td><td> 17599149</td><td> 17677665</td><td>PADI4 - AC004824.2</td><td>-0.0856</td></tr>\n",
       "\t<tr><td>rs2045793</td><td>chr1:38635462 </td><td>chr1:38606400_38696216  </td><td>chr1</td><td> 38606400</td><td> 38696216</td><td>POU3F1            </td><td>-0.0971</td></tr>\n",
       "\t<tr><td>rs6659932</td><td>chr1:67802371 </td><td>chr1:67769682_67940286  </td><td>chr1</td><td> 67769682</td><td> 67940286</td><td>IL12RB2           </td><td>-0.1019</td></tr>\n",
       "\t<tr><td>rs2476601</td><td>chr1:114377568</td><td>chr1:113910209_114547798</td><td>chr1</td><td>113910209</td><td>114547798</td><td>PTPN22            </td><td>-0.5439</td></tr>\n",
       "\t<tr><td>rs798000 </td><td>chr1:117280696</td><td>chr1:117214318_117295245</td><td>chr1</td><td>117214318</td><td>117295245</td><td>CD2               </td><td>-0.1046</td></tr>\n",
       "</tbody>\n",
       "</table>\n"
      ],
      "text/latex": [
       "A data.table: 6 × 8\n",
       "\\begin{tabular}{llllllll}\n",
       " GWAS\\_snp & GWAS\\_snp\\_pos & locus\\_name & chrom & start & end & locus\\_name\\_gene & beta\\_top\\_GWAS\\\\\n",
       " <chr> & <chr> & <chr> & <chr> & <int> & <int> & <chr> & <dbl>\\\\\n",
       "\\hline\n",
       "\t rs867435  & chr1:2523706   & chr1:2407781\\_2779397     & chr1 &   2407781 &   2779397 & MMEL1              & -0.0912\\\\\n",
       "\t rs2240336 & chr1:17674402  & chr1:17599149\\_17677665   & chr1 &  17599149 &  17677665 & PADI4 - AC004824.2 & -0.0856\\\\\n",
       "\t rs2045793 & chr1:38635462  & chr1:38606400\\_38696216   & chr1 &  38606400 &  38696216 & POU3F1             & -0.0971\\\\\n",
       "\t rs6659932 & chr1:67802371  & chr1:67769682\\_67940286   & chr1 &  67769682 &  67940286 & IL12RB2            & -0.1019\\\\\n",
       "\t rs2476601 & chr1:114377568 & chr1:113910209\\_114547798 & chr1 & 113910209 & 114547798 & PTPN22             & -0.5439\\\\\n",
       "\t rs798000  & chr1:117280696 & chr1:117214318\\_117295245 & chr1 & 117214318 & 117295245 & CD2                & -0.1046\\\\\n",
       "\\end{tabular}\n"
      ],
      "text/markdown": [
       "\n",
       "A data.table: 6 × 8\n",
       "\n",
       "| GWAS_snp &lt;chr&gt; | GWAS_snp_pos &lt;chr&gt; | locus_name &lt;chr&gt; | chrom &lt;chr&gt; | start &lt;int&gt; | end &lt;int&gt; | locus_name_gene &lt;chr&gt; | beta_top_GWAS &lt;dbl&gt; |\n",
       "|---|---|---|---|---|---|---|---|\n",
       "| rs867435  | chr1:2523706   | chr1:2407781_2779397     | chr1 |   2407781 |   2779397 | MMEL1              | -0.0912 |\n",
       "| rs2240336 | chr1:17674402  | chr1:17599149_17677665   | chr1 |  17599149 |  17677665 | PADI4 - AC004824.2 | -0.0856 |\n",
       "| rs2045793 | chr1:38635462  | chr1:38606400_38696216   | chr1 |  38606400 |  38696216 | POU3F1             | -0.0971 |\n",
       "| rs6659932 | chr1:67802371  | chr1:67769682_67940286   | chr1 |  67769682 |  67940286 | IL12RB2            | -0.1019 |\n",
       "| rs2476601 | chr1:114377568 | chr1:113910209_114547798 | chr1 | 113910209 | 114547798 | PTPN22             | -0.5439 |\n",
       "| rs798000  | chr1:117280696 | chr1:117214318_117295245 | chr1 | 117214318 | 117295245 | CD2                | -0.1046 |\n",
       "\n"
      ],
      "text/plain": [
       "  GWAS_snp  GWAS_snp_pos   locus_name               chrom start     end      \n",
       "1 rs867435  chr1:2523706   chr1:2407781_2779397     chr1    2407781   2779397\n",
       "2 rs2240336 chr1:17674402  chr1:17599149_17677665   chr1   17599149  17677665\n",
       "3 rs2045793 chr1:38635462  chr1:38606400_38696216   chr1   38606400  38696216\n",
       "4 rs6659932 chr1:67802371  chr1:67769682_67940286   chr1   67769682  67940286\n",
       "5 rs2476601 chr1:114377568 chr1:113910209_114547798 chr1  113910209 114547798\n",
       "6 rs798000  chr1:117280696 chr1:117214318_117295245 chr1  117214318 117295245\n",
       "  locus_name_gene    beta_top_GWAS\n",
       "1 MMEL1              -0.0912      \n",
       "2 PADI4 - AC004824.2 -0.0856      \n",
       "3 POU3F1             -0.0971      \n",
       "4 IL12RB2            -0.1019      \n",
       "5 PTPN22             -0.5439      \n",
       "6 CD2                -0.1046      "
      ]
     },
     "metadata": {},
     "output_type": "display_data"
    }
   ],
   "source": [
    "head(loci)"
   ]
  },
  {
   "cell_type": "markdown",
   "id": "ad384d4a-fe24-4b83-8267-8ca977459932",
   "metadata": {},
   "source": [
    "## Run coloc"
   ]
  },
  {
   "cell_type": "markdown",
   "id": "5272fa03-0dda-4792-97e3-952155990c1f",
   "metadata": {},
   "source": [
    "### eqtl and ibsep"
   ]
  },
  {
   "cell_type": "code",
   "execution_count": 112,
   "id": "031c56fd-b5dd-47cf-b349-21ae541b07c3",
   "metadata": {},
   "outputs": [],
   "source": [
    "# eqtl_ex <- prepare_eqtl(micro,chrom_locus,sumstats_locus)\n",
    "prepare_eqtl_ibsep <- function(eqtl_name,ibsep_name,chrom_locus,sumstats_locus){\n",
    "  # eqtl\n",
    "  file <- sprintf('../data/blood_data/1M/merged_sumstats/by_chrom_gene/%s/%s.csv', chrom_locus, eqtl_name)\n",
    "  eqtl <- data.table::fread(file, header=TRUE, nThread=1) %>%\n",
    "    dplyr::select(gene_id=GENEID, gene=GENENAME, SNP, A1, A2, p_eqtl=PVAL, beta_eqtl=BETA, se_eqtl=SE) %>%\n",
    "    inner_join(.,sumstats_locus[,c('variant_id','effect_allele','other_allele','SNP_id_hg19')],\n",
    "               by=join_by(SNP==variant_id),multiple='first')\n",
    "  message(nrow(sumstats_locus))\n",
    "  message(nrow(eqtl))\n",
    "  eqtl <- eqtl %>%\n",
    "    dplyr::filter(((A1==effect_allele)&(A2==other_allele)) | ((A2==effect_allele)&(A1==other_allele))) %>%\n",
    "    dplyr::select(gene_id, gene, SNP, SNP_id_hg19, effect_allele=A2, other_allele=A1, p_eqtl, beta_eqtl, se_eqtl)\n",
    "  message(nrow(eqtl))\n",
    "\n",
    "  if(nrow(eqtl)==0){\n",
    "      message('nrow(eqtl)==0')\n",
    "  }\n",
    "    \n",
    "  # ibsep\n",
    "  file <- sprintf('../data/blood_data/1M/merged_sumstats/omega_shrink_0.9_max_hsq_0.8/%s/%s.csv', chrom_locus, ibsep_name)\n",
    "  \n",
    "  ibsep <- data.table::fread(file, header=TRUE, nThread=1) %>%\n",
    "    dplyr::select(SNP=SNP_1M, gene_id=GENEID_1M, BETA_BLUE, SE_BLUE, PVAL_BLUE)\n",
    "\n",
    "  # merge eqtl and ibsep\n",
    "  merged <- inner_join(eqtl,ibsep,by=c('gene_id', 'SNP'))\n",
    "  merged <- merged[(is.na(merged$BETA_BLUE)==FALSE)&(is.na(merged$SE_BLUE)==FALSE),]\n",
    "  merged <- merged %>%\n",
    "    add_count(gene_id) %>% \n",
    "    dplyr::filter(n>10)\n",
    "    \n",
    "  return(merged)\n",
    "}"
   ]
  },
  {
   "cell_type": "code",
   "execution_count": 26,
   "id": "00b183db-d0dd-411b-b149-7c2da31022ad",
   "metadata": {},
   "outputs": [],
   "source": [
    "## ibsep\n",
    "t0 = Sys.time()\n",
    "coloc_ibsep_results_all <- mclapply(1:nrow(loci),function(i){\n",
    "\n",
    "  #Get coordinates from the GWAS locus\n",
    "  chrom_locus <- loci$chrom[i]\n",
    "  start <- loci$start[i] %>% as.numeric()\n",
    "  end <- loci$end[i] %>% as.numeric()\n",
    "  \n",
    "  closest_gene_locus <- loci$locus_name_gene[i]\n",
    "  beta_top_GWAS_locus <- loci$beta_top_GWAS[i]\n",
    "  GWAS_snp_name <- loci$GWAS_snp[i]\n",
    "  GWAS_snp_pos_name <- loci$GWAS_snp_pos[i]\n",
    "\n",
    "  #Keep GWAS sumstats of SNPs in the locus\n",
    "  sumstats_locus <- dplyr::filter(sumstats,chr==chrom_locus) %>% \n",
    "    dplyr::filter(bp_b37>=start & bp_b37<=end) %>% \n",
    "    dplyr::mutate(SNP_id_hg19=paste0(chr,':',bp_b37))\n",
    "\n",
    "  #Preparing eQTL files - keeping SNPs from the eQTL data that match SNPs in the GWAS locus\n",
    "  eqtl_b <- prepare_eqtl_ibsep('allgenes_B','allgenes_B_IBSEP_truncorr_pval1e-10',chrom_locus,sumstats_locus)\n",
    "  eqtl_cd4 <- prepare_eqtl_ibsep('allgenes_CD4T','allgenes_CD4T_IBSEP_truncorr_pval1e-10',chrom_locus,sumstats_locus)\n",
    "  eqtl_cd8 <- prepare_eqtl_ibsep('allgenes_CD8T','allgenes_CD8T_IBSEP_truncorr_pval1e-10',chrom_locus,sumstats_locus)\n",
    "  eqtl_nk <- prepare_eqtl_ibsep('allgenes_NK','allgenes_NK_IBSEP_truncorr_pval1e-10',chrom_locus,sumstats_locus)\n",
    "  eqtl_mono <- prepare_eqtl_ibsep('allgenes_monocyte','allgenes_monocyte_IBSEP_truncorr_pval1e-10',chrom_locus,sumstats_locus)\n",
    "  eqtl_dc <- prepare_eqtl_ibsep('allgenes_DC','allgenes_DC_IBSEP_truncorr_pval1e-10',chrom_locus,sumstats_locus)\n",
    "\n",
    "  #Running colocalization analysis\n",
    "  b_coloc <- run_coloc_ibsep(eqtl_b,'B',sumstats_locus)\n",
    "  cd4_coloc <- run_coloc_ibsep(eqtl_cd4,'CD4T',sumstats_locus)\n",
    "  cd8_coloc <- run_coloc_ibsep(eqtl_cd8,'CD8T',sumstats_locus)\n",
    "  nk_coloc <- run_coloc_ibsep(eqtl_nk,'NK',sumstats_locus)\n",
    "  mono_coloc <- run_coloc_ibsep(eqtl_mono,'monocyte',sumstats_locus)\n",
    "  dc_coloc <- run_coloc_ibsep(eqtl_dc,'DC',sumstats_locus)\n",
    "  \n",
    "  pval_eqtl <- rbind(b_coloc,cd4_coloc,cd8_coloc,nk_coloc,mono_coloc,dc_coloc)\n",
    "  \n",
    "  if(!is.null(pval_eqtl)){\n",
    "    pval_eqtl <- pval_eqtl %>% \n",
    "      mutate(type='eQTL',\n",
    "           locus=loci$locus_name[i],\n",
    "           coloc_method='beta') %>% \n",
    "      mutate(closest_gene=closest_gene_locus,\n",
    "             beta_top_GWAS=beta_top_GWAS_locus,\n",
    "             GWAS_snp=GWAS_snp_name,\n",
    "             GWAS_snp_pos=GWAS_snp_pos_name)\n",
    "  }\n",
    "  results <- pval_eqtl \n",
    "  if(!is.null(results)){\n",
    "    results <- results %>% \n",
    "      arrange(-PP.H4.abf) %>% \n",
    "      dplyr::select(locus,closest_gene,GWAS_snp,GWAS_snp_pos,beta_top_GWAS,everything())\n",
    "  }\n",
    "  \n",
    "  return(results)\n",
    "},mc.cores = 36,mc.preschedule = FALSE)\n",
    "t1 = Sys.time()"
   ]
  },
  {
   "cell_type": "code",
   "execution_count": 27,
   "id": "27c0cf12-fc02-4f79-962c-c177e01ab679",
   "metadata": {},
   "outputs": [
    {
     "data": {
      "text/plain": [
       "Time difference of 15.39038 secs"
      ]
     },
     "metadata": {},
     "output_type": "display_data"
    }
   ],
   "source": [
    "t1 - t0"
   ]
  },
  {
   "cell_type": "code",
   "execution_count": null,
   "id": "0527c5fc-1486-49c5-970a-d9124632cceb",
   "metadata": {},
   "outputs": [],
   "source": [
    "coloc_ibsep_results_all_success = list()\n",
    "n = 1\n",
    "for(i in 1:length(coloc_ibsep_results_all)){\n",
    "    if(!is.null(dim(coloc_ibsep_results_all[[i]]))==TRUE){\n",
    "        coloc_ibsep_results_all_success[[n]] = coloc_ibsep_results_all[[i]]\n",
    "        n = n + 1\n",
    "    }\n",
    "}\n",
    "length(coloc_ibsep_results_all_success)\n",
    "\n",
    "coloc_ibsep_results_all_df <- coloc_ibsep_results_all_success %>% \n",
    "  bind_rows() %>% \n",
    "  arrange(-PP.H4.abf) %>% \n",
    "  separate(gene,into=c('symbol','ensembl'),sep='_')\n",
    "dim(coloc_ibsep_results_all_df)"
   ]
  },
  {
   "cell_type": "code",
   "execution_count": 33,
   "id": "c72fb16a-e494-4d12-abac-0086232302a5",
   "metadata": {},
   "outputs": [],
   "source": [
    "fwrite(coloc_ibsep_results_all_df, '../data/blood_coloc/result/ra_ibsep.csv', sep='\\t')"
   ]
  },
  {
   "cell_type": "code",
   "execution_count": 36,
   "id": "83cb606a-3332-43a2-86bc-cc08565a16dd",
   "metadata": {},
   "outputs": [],
   "source": [
    "## ori eqtl\n",
    "t0 = Sys.time()\n",
    "coloc_eqtl_results_all <- mclapply(1:nrow(loci),function(i){\n",
    "\n",
    "  #Get coordinates from the GWAS locus\n",
    "  chrom_locus <- loci$chrom[i]\n",
    "  start <- loci$start[i] %>% as.numeric()\n",
    "  end <- loci$end[i] %>% as.numeric()\n",
    "  \n",
    "  closest_gene_locus <- loci$locus_name_gene[i]\n",
    "  beta_top_GWAS_locus <- loci$beta_top_GWAS[i]\n",
    "  GWAS_snp_name <- loci$GWAS_snp[i]\n",
    "  GWAS_snp_pos_name <- loci$GWAS_snp_pos[i]\n",
    "\n",
    "  #Keep GWAS sumstats of SNPs in the locus\n",
    "  sumstats_locus <- dplyr::filter(sumstats,chr==chrom_locus) %>% \n",
    "    dplyr::filter(bp_b37>=start & bp_b37<=end) %>% \n",
    "    dplyr::mutate(SNP_id_hg19=paste0(chr,':',bp_b37))\n",
    "\n",
    "  #Preparing eQTL files - keeping SNPs from the eQTL data that match SNPs in the GWAS locus\n",
    "  eqtl_b <- prepare_eqtl_ibsep('allgenes_B','allgenes_B_IBSEP_truncorr_pval1e-10',chrom_locus,sumstats_locus)\n",
    "  eqtl_cd4 <- prepare_eqtl_ibsep('allgenes_CD4T','allgenes_CD4T_IBSEP_truncorr_pval1e-10',chrom_locus,sumstats_locus)\n",
    "  eqtl_cd8 <- prepare_eqtl_ibsep('allgenes_CD8T','allgenes_CD8T_IBSEP_truncorr_pval1e-10',chrom_locus,sumstats_locus)\n",
    "  eqtl_nk <- prepare_eqtl_ibsep('allgenes_NK','allgenes_NK_IBSEP_truncorr_pval1e-10',chrom_locus,sumstats_locus)\n",
    "  eqtl_mono <- prepare_eqtl_ibsep('allgenes_monocyte','allgenes_monocyte_IBSEP_truncorr_pval1e-10',chrom_locus,sumstats_locus)\n",
    "  eqtl_dc <- prepare_eqtl_ibsep('allgenes_DC','allgenes_DC_IBSEP_truncorr_pval1e-10',chrom_locus,sumstats_locus)\n",
    "\n",
    "  #Running colocalization analysis\n",
    "  b_coloc <- run_coloc(eqtl_b,'B',sumstats_locus)\n",
    "  cd4_coloc <- run_coloc(eqtl_cd4,'CD4T',sumstats_locus)\n",
    "  cd8_coloc <- run_coloc(eqtl_cd8,'CD8T',sumstats_locus)\n",
    "  nk_coloc <- run_coloc(eqtl_nk,'NK',sumstats_locus)\n",
    "  mono_coloc <- run_coloc(eqtl_mono,'monocyte',sumstats_locus)\n",
    "  dc_coloc <- run_coloc(eqtl_dc,'DC',sumstats_locus)\n",
    "  \n",
    "  pval_eqtl <- rbind(b_coloc,cd4_coloc,cd8_coloc,nk_coloc,mono_coloc,dc_coloc)\n",
    "  \n",
    "  if(!is.null(pval_eqtl)){\n",
    "    pval_eqtl <- pval_eqtl %>% \n",
    "      mutate(type='eQTL',\n",
    "           locus=loci$locus_name[i],\n",
    "           coloc_method='beta') %>% \n",
    "      mutate(closest_gene=closest_gene_locus,\n",
    "             beta_top_GWAS=beta_top_GWAS_locus,\n",
    "             GWAS_snp=GWAS_snp_name,\n",
    "             GWAS_snp_pos=GWAS_snp_pos_name)\n",
    "  }\n",
    "  results <- pval_eqtl \n",
    "  if(!is.null(results)){\n",
    "    results <- results %>% \n",
    "      arrange(-PP.H4.abf) %>% \n",
    "      dplyr::select(locus,closest_gene,GWAS_snp,GWAS_snp_pos,beta_top_GWAS,everything())\n",
    "  }\n",
    "  \n",
    "  return(results)\n",
    "},mc.cores = 36,mc.preschedule = FALSE)\n",
    "t1 = Sys.time()"
   ]
  },
  {
   "cell_type": "code",
   "execution_count": 37,
   "id": "affb89de-9e77-40b1-8cd0-c40761e51f3f",
   "metadata": {},
   "outputs": [
    {
     "data": {
      "text/plain": [
       "Time difference of 16.46892 secs"
      ]
     },
     "metadata": {},
     "output_type": "display_data"
    }
   ],
   "source": [
    "t1 - t0"
   ]
  },
  {
   "cell_type": "code",
   "execution_count": null,
   "id": "dbb4d0ff-058b-4774-b2f2-f77d72796c74",
   "metadata": {},
   "outputs": [],
   "source": [
    "coloc_eqtl_results_all_success = list()\n",
    "n = 1\n",
    "for(i in 1:length(coloc_eqtl_results_all)){\n",
    "    if(!is.null(dim(coloc_eqtl_results_all[[i]]))==TRUE){\n",
    "        coloc_eqtl_results_all_success[[n]] = coloc_eqtl_results_all[[i]]\n",
    "        n = n + 1\n",
    "    }\n",
    "}\n",
    "length(coloc_eqtl_results_all_success)\n",
    "\n",
    "coloc_eqtl_results_all_df <- coloc_eqtl_results_all_success %>% \n",
    "  bind_rows() %>% \n",
    "  arrange(-PP.H4.abf) %>% \n",
    "  separate(gene,into=c('symbol','ensembl'),sep='_')\n",
    "dim(coloc_eqtl_results_all_df)"
   ]
  },
  {
   "cell_type": "code",
   "execution_count": 40,
   "id": "75886fd8-6f0c-4a1f-9c51-e8f71c054a19",
   "metadata": {},
   "outputs": [],
   "source": [
    "fwrite(coloc_eqtl_results_all_df, '../data/blood_coloc/result/ra_eqtl.csv', sep='\\t')"
   ]
  },
  {
   "cell_type": "markdown",
   "id": "5e726e1a-e56e-4fa6-8195-b9f2946ad52b",
   "metadata": {},
   "source": [
    "## Plot"
   ]
  },
  {
   "cell_type": "markdown",
   "id": "98c362bb-e549-4399-8a9d-f5a4810ae6d5",
   "metadata": {},
   "source": [
    "### eqtl, ibsep and 1k1k"
   ]
  },
  {
   "cell_type": "code",
   "execution_count": 5,
   "id": "ec0d752d-7ce6-400c-bdf4-63705953d4a8",
   "metadata": {},
   "outputs": [
    {
     "name": "stdout",
     "output_type": "stream",
     "text": [
      "[1] 1230   21\n",
      "[1] 1230   21\n",
      "[1] 2876   21\n"
     ]
    }
   ],
   "source": [
    "eqtl_res = fread('../data/blood_coloc/result/ra_eqtl.csv', sep='\\t')\n",
    "ibsep_res = fread('../data/blood_coloc/result/ra_ibsep.csv', sep='\\t')\n",
    "onek1k_res = fread('../data/blood_coloc/result/ra_1k1k.csv', sep='\\t')\n",
    "print(dim(eqtl_res))\n",
    "print(dim(ibsep_res))\n",
    "print(dim(onek1k_res))"
   ]
  },
  {
   "cell_type": "code",
   "execution_count": 6,
   "id": "9cea655e-dacc-4dee-b48e-e940f564f328",
   "metadata": {},
   "outputs": [
    {
     "name": "stdout",
     "output_type": "stream",
     "text": [
      "[1] 18 22\n",
      "[1] 32 22\n",
      "[1] 87 22\n",
      "[1] 50 23\n",
      "[1] 16  3\n",
      "[1] 205   9\n",
      "[1] 205   9\n",
      "[1] 16  9\n",
      "[1] 16  9\n"
     ]
    }
   ],
   "source": [
    "eqtl_sig <- eqtl_res[eqtl_res$PP.H4.abf > 0.7] %>% mutate(method='Single cell')\n",
    "ibsep_sig <- ibsep_res[ibsep_res$PP.H4.abf > 0.7] %>% mutate(method='IBSEP')\n",
    "onek1k_sig <- onek1k_res[onek1k_res$PP.H4.abf > 0.7] %>% mutate(method='OneK1K')\n",
    "print(dim(eqtl_sig))\n",
    "print(dim(ibsep_sig))\n",
    "print(dim(onek1k_sig))\n",
    "\n",
    "comb_sig <- bind_rows(eqtl_sig, ibsep_sig) \n",
    "comb_sig <- comb_sig %>% arrange(closest_gene, symbol)\n",
    "comb_sig_min <- comb_sig[,c('locus', 'closest_gene', 'symbol')] %>% distinct()\n",
    "\n",
    "print(dim(comb_sig))\n",
    "print(dim(comb_sig_min))\n",
    "eqtl_res_wide = eqtl_res[,c('locus', 'closest_gene', 'symbol', 'tissue', 'PP.H4.abf')] %>%\n",
    "    pivot_wider(names_from=tissue, values_from=PP.H4.abf, values_fill=0.0)\n",
    "ibsep_res_wide = ibsep_res[,c('locus', 'closest_gene', 'symbol', 'tissue', 'PP.H4.abf')] %>%\n",
    "    pivot_wider(names_from=tissue, values_from=PP.H4.abf, values_fill=0.0)\n",
    "print(dim(eqtl_res_wide))\n",
    "print(dim(ibsep_res_wide))\n",
    "eqtl_comb_sig_wide = inner_join(comb_sig_min, eqtl_res_wide, by=c('locus', 'closest_gene', 'symbol'))\n",
    "ibsep_comb_sig_wide = inner_join(comb_sig_min, ibsep_res_wide, by=c('locus', 'closest_gene', 'symbol'))\n",
    "eqtl_comb_sig_wide <- eqtl_comb_sig_wide %>% \n",
    "    arrange(closest_gene, symbol) %>%\n",
    "    relocate(all_of(sort(colnames(eqtl_comb_sig_wide)[4:9])), .after='symbol')\n",
    "ibsep_comb_sig_wide <- ibsep_comb_sig_wide %>% \n",
    "    arrange(closest_gene, symbol) %>%\n",
    "    relocate(all_of(sort(colnames(ibsep_comb_sig_wide)[4:9])), .after='symbol')\n",
    "print(dim(eqtl_comb_sig_wide))\n",
    "print(dim(ibsep_comb_sig_wide))"
   ]
  },
  {
   "cell_type": "code",
   "execution_count": 7,
   "id": "6a6472d3-1dac-433a-a52a-7910f7e00ea6",
   "metadata": {},
   "outputs": [
    {
     "name": "stdout",
     "output_type": "stream",
     "text": [
      "[1] 87 22\n",
      "[1] 26  3\n",
      "[1] 208  17\n",
      "[1] 26 17\n"
     ]
    }
   ],
   "source": [
    "onek1k_sig <- onek1k_sig %>% arrange(closest_gene, symbol)\n",
    "onek1k_sig_min <- onek1k_sig[,c('locus', 'closest_gene', 'symbol')] %>% distinct()\n",
    "\n",
    "print(dim(onek1k_sig))\n",
    "print(dim(onek1k_sig_min))\n",
    "onek1k_res_wide = onek1k_res[,c('locus', 'closest_gene', 'symbol', 'tissue', 'PP.H4.abf')] %>%\n",
    "    pivot_wider(names_from=tissue, values_from=PP.H4.abf, values_fill=0.0)\n",
    "print(dim(onek1k_res_wide))\n",
    "onek1k_sig_wide = inner_join(onek1k_sig_min, onek1k_res_wide, by=c('locus', 'closest_gene', 'symbol'))\n",
    "onek1k_sig_wide <- onek1k_sig_wide %>% \n",
    "    arrange(closest_gene, symbol) %>%\n",
    "    relocate(all_of(sort(colnames(onek1k_sig_wide)[4:17])), .after='symbol')\n",
    "print(dim(onek1k_sig_wide))"
   ]
  },
  {
   "cell_type": "code",
   "execution_count": 9,
   "id": "4e73615a-5579-49fc-b36b-76db352ea2ea",
   "metadata": {},
   "outputs": [],
   "source": [
    "mat = matrix(nrow=nrow(eqtl_comb_sig_wide), ncol=6)\n",
    "fun <- function(x, y, loc, gene, sym, sub_cts){\n",
    "    if((x>0.7) & (y>0.7)){\n",
    "        z = 1\n",
    "    }else if((x>0.7) & (y<=0.7)){\n",
    "        z = 2\n",
    "    }else if((x<=0.7) & (y>0.7)){\n",
    "        z = 3\n",
    "    }else{\n",
    "        z = 0\n",
    "    }\n",
    "    l = c()\n",
    "    for(sub_ct in sub_cts){\n",
    "        tmp = onek1k_sig_wide[(onek1k_sig_wide$locus==loc) & (onek1k_sig_wide$closest_gene==gene) & (onek1k_sig_wide$symbol==sym)]\n",
    "        if(nrow(tmp) > 0){\n",
    "            v = tmp[[sub_ct]]\n",
    "            if(!is.na(v)){\n",
    "                l = c(l, v)\n",
    "            }\n",
    "        }\n",
    "    }\n",
    "    \n",
    "    if(length(l)>0){\n",
    "        if(max(l)>0.7){\n",
    "            z = z*10\n",
    "        }\n",
    "    }\n",
    "    return(z)\n",
    "}\n",
    "mat1 = as.matrix(eqtl_comb_sig_wide[,c(4:9)])\n",
    "mat2 = as.matrix(ibsep_comb_sig_wide[,c(4:9)])\n",
    "for(i in 1:nrow(mat)){\n",
    "    for(j in 1:ncol(mat)){\n",
    "        loc = eqtl_comb_sig_wide$locus[i]\n",
    "        gene = eqtl_comb_sig_wide$closest_gene[i]\n",
    "        sym = eqtl_comb_sig_wide$symbol[i]\n",
    "        ct = colnames(eqtl_comb_sig_wide)[3+j]\n",
    "        sub_cts = celltype_map[[ct]]\n",
    "        mat[i,j] = fun(mat1[i,j], mat2[i,j], loc, gene, sym, sub_cts)\n",
    "    }\n",
    "}"
   ]
  },
  {
   "cell_type": "code",
   "execution_count": 11,
   "id": "810f19cb-2bfb-47cd-81a6-deed427ee864",
   "metadata": {},
   "outputs": [],
   "source": [
    "sorted_cell_names = c('B', 'CD4', 'CD8', 'NK', 'Monocyte', 'DC')"
   ]
  },
  {
   "cell_type": "code",
   "execution_count": 29,
   "id": "0dc86c93-f823-4863-a25a-654c3467d5f5",
   "metadata": {},
   "outputs": [
    {
     "data": {
      "image/png": "[encoded data removed]",
      "text/plain": [
       "plot without title"
      ]
     },
     "metadata": {
      "image/png": {
       "height": 675,
       "width": 480
      }
     },
     "output_type": "display_data"
    }
   ],
   "source": [
    "mat_reorder = mat[,c(1,2,3,6,5,4)]\n",
    "options(repr.matrix.max.cols=100, repr.matrix.max.rows=100)\n",
    "options(repr.plot.width=3.2, repr.plot.height=4.5, repr.plot.res=300)\n",
    "col_fun = colorRamp2(c(0, 1, 2, 3), c(\"grey\", \"red\", \"green\", \"blue\"))\n",
    "colors = structure(c(\"#FFFFFF\", \"#FF6666\", \"#00CC66\", \"#9999FF\"), names = c(0,1,2,3))\n",
    "text_color = '#FFFFFF'\n",
    "# cyto = sapply(eqtl_comb_sig_wide$locus, get_cytoband)\n",
    "split = eqtl_comb_sig_wide$closest_gene\n",
    "# split = paste(cyto, split)\n",
    "text = as.list(unique(split))\n",
    "names(text) = unique(split)\n",
    "w = ncol(mat)*unit(5, \"mm\")\n",
    "h = nrow(mat)*unit(5, \"mm\")\n",
    "ht = Heatmap(mat_reorder, col=colors, rect_gp = gpar(type = \"none\"),\n",
    "        cluster_rows = FALSE, cluster_columns = FALSE,\n",
    "        cell_fun = function(j, i, x, y, width, height, fill) {\n",
    "            c_idx = ifelse(mat_reorder[i,j]<10, mat_reorder[i, j]+1, as.integer(mat_reorder[i,j]/10)+1)\n",
    "            grid.rect(x = x, y = y, width = unit(4.6, 'mm'), height = unit(4.6, 'mm'),\n",
    "                     gp = gpar(fill = '#E0E0E0', col = NA))\n",
    "           grid.circle(x = x, y = y, r = unit(1.8, \"mm\"), \n",
    "                gp = gpar(fill = colors[c_idx], col = NA))\n",
    "            if(mat_reorder[i,j]>=10){\n",
    "                grid.text('*', x=x, y=unit(as.numeric(y)+1,'mm'), gp=gpar(col=text_color))\n",
    "            }\n",
    "           },\n",
    "        right_annotation=rowAnnotation(labels = anno_text(eqtl_comb_sig_wide$symbol, which='row'), gp = gpar(fontsize = 8)),\n",
    "        top_annotation=columnAnnotation(labels = anno_text(sorted_cell_names, \n",
    "                                                              which='column', just='left', location=unit(0, 'npc')), gp = gpar(fontsize = 10)),\n",
    "         column_names_side = c(\"top\"),\n",
    "        row_title_gp = gpar(fontsize = 12),\n",
    "        row_title_rot = 0,\n",
    "       width = w, height = h,\n",
    "       row_split=split,\n",
    "        row_title=NULL,\n",
    "        left_annotation = rowAnnotation(Locus = anno_textbox(split, text, side='left')),\n",
    "       column_gap = unit(0, \"mm\"), border = FALSE,\n",
    "       show_column_names=TRUE, show_heatmap_legend=FALSE,\n",
    "       heatmap_legend_param = list(title='', \n",
    "                                   labels=c('Null', 'Shared', 'Only single cell', 'Only IBSEP'),\n",
    "                                  grid_height = unit(5, \"mm\"), grid_width = unit(5, \"mm\"),\n",
    "                                   labels_gp = gpar(fontsize = 14))\n",
    "        )\n",
    "draw(ht)\n",
    "# draw(ht, annotation_legend_list = lgd, annotation_legend_side = \"bottom\")"
   ]
  }
 ],
 "metadata": {
  "kernelspec": {
   "display_name": "R",
   "language": "R",
   "name": "ir"
  },
  "language_info": {
   "codemirror_mode": "r",
   "file_extension": ".r",
   "mimetype": "text/x-r-source",
   "name": "R",
   "pygments_lexer": "r",
   "version": "4.3.2"
  }
 },
 "nbformat": 4,
 "nbformat_minor": 5
}
