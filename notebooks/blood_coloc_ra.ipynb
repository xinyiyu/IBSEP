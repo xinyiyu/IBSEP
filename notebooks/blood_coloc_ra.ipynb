{
 "cells": [
  {
   "cell_type": "code",
   "execution_count": null,
   "id": "a9c2609a-9793-4d23-8674-a1ecb557c1c0",
   "metadata": {},
   "outputs": [],
   "source": [
    "library(coloc)\n",
    "library(LDlinkR)\n",
    "library(tidyverse)\n",
    "library(data.table)\n",
    "library(parallel)\n",
    "library(GenomicRanges)\n",
    "library(rtracklayer)\n",
    "library(locuszoomr)\n",
    "library(EnsDb.Hsapiens.v75)\n",
    "library(ggpubr)\n",
    "library(cowplot)\n",
    "library(ComplexHeatmap)\n",
    "library(circlize)\n",
    "library(gridExtra)\n",
    "library(cowplot)\n",
    "library(patchwork)"
   ]
  },
  {
   "cell_type": "code",
   "execution_count": 2,
   "id": "a78412e0-cae9-4d1c-a851-3aefe805220e",
   "metadata": {},
   "outputs": [
    {
     "name": "stdout",
     "output_type": "stream",
     "text": [
      "[1] 5121    3\n"
     ]
    },
    {
     "data": {
      "text/html": [
       "<table class=\"dataframe\">\n",
       "<caption>A data.table: 6 × 3</caption>\n",
       "<thead>\n",
       "\t<tr><th scope=col>GENEID</th><th scope=col>GENENAME</th><th scope=col>MOLID</th></tr>\n",
       "\t<tr><th scope=col>&lt;chr&gt;</th><th scope=col>&lt;chr&gt;</th><th scope=col>&lt;chr&gt;</th></tr>\n",
       "</thead>\n",
       "<tbody>\n",
       "\t<tr><td>ENSG00000188976</td><td>NOC2L  </td><td>ILMN_1792820</td></tr>\n",
       "\t<tr><td>ENSG00000187608</td><td>ISG15  </td><td>ILMN_2054019</td></tr>\n",
       "\t<tr><td>ENSG00000186827</td><td>TNFRSF4</td><td>ILMN_1710204</td></tr>\n",
       "\t<tr><td>ENSG00000078808</td><td>SDF4   </td><td>ILMN_1696065</td></tr>\n",
       "\t<tr><td>ENSG00000131584</td><td>ACAP3  </td><td>ILMN_1743847</td></tr>\n",
       "\t<tr><td>ENSG00000127054</td><td>CPSF3L </td><td>ILMN_1718013</td></tr>\n",
       "</tbody>\n",
       "</table>\n"
      ],
      "text/latex": [
       "A data.table: 6 × 3\n",
       "\\begin{tabular}{lll}\n",
       " GENEID & GENENAME & MOLID\\\\\n",
       " <chr> & <chr> & <chr>\\\\\n",
       "\\hline\n",
       "\t ENSG00000188976 & NOC2L   & ILMN\\_1792820\\\\\n",
       "\t ENSG00000187608 & ISG15   & ILMN\\_2054019\\\\\n",
       "\t ENSG00000186827 & TNFRSF4 & ILMN\\_1710204\\\\\n",
       "\t ENSG00000078808 & SDF4    & ILMN\\_1696065\\\\\n",
       "\t ENSG00000131584 & ACAP3   & ILMN\\_1743847\\\\\n",
       "\t ENSG00000127054 & CPSF3L  & ILMN\\_1718013\\\\\n",
       "\\end{tabular}\n"
      ],
      "text/markdown": [
       "\n",
       "A data.table: 6 × 3\n",
       "\n",
       "| GENEID &lt;chr&gt; | GENENAME &lt;chr&gt; | MOLID &lt;chr&gt; |\n",
       "|---|---|---|\n",
       "| ENSG00000188976 | NOC2L   | ILMN_1792820 |\n",
       "| ENSG00000187608 | ISG15   | ILMN_2054019 |\n",
       "| ENSG00000186827 | TNFRSF4 | ILMN_1710204 |\n",
       "| ENSG00000078808 | SDF4    | ILMN_1696065 |\n",
       "| ENSG00000131584 | ACAP3   | ILMN_1743847 |\n",
       "| ENSG00000127054 | CPSF3L  | ILMN_1718013 |\n",
       "\n"
      ],
      "text/plain": [
       "  GENEID          GENENAME MOLID       \n",
       "1 ENSG00000188976 NOC2L    ILMN_1792820\n",
       "2 ENSG00000187608 ISG15    ILMN_2054019\n",
       "3 ENSG00000186827 TNFRSF4  ILMN_1710204\n",
       "4 ENSG00000078808 SDF4     ILMN_1696065\n",
       "5 ENSG00000131584 ACAP3    ILMN_1743847\n",
       "6 ENSG00000127054 CPSF3L   ILMN_1718013"
      ]
     },
     "metadata": {},
     "output_type": "display_data"
    }
   ],
   "source": [
    "gene_id_name = fread('/data2/xiaojiashun/eQTL/data/blood_data/1M_neutro2015/merged_sumstats/gene_randmol_lookup.csv', sep='\\t')\n",
    "print(dim(gene_id_name))\n",
    "head(gene_id_name)"
   ]
  },
  {
   "cell_type": "code",
   "execution_count": 3,
   "id": "b95636cf-e4c7-4532-9c07-566e44f9466c",
   "metadata": {},
   "outputs": [],
   "source": [
    "celltype_map = list(B=c('bin', 'bmem', 'plasma'),\n",
    "                    CD4T=c('cd4et', 'cd4nc', 'cd4sox4'),\n",
    "                    CD8T=c('cd8et', 'cd8nc', 'cd8s100b'),\n",
    "                    NK=c('nk', 'nkr'),\n",
    "                    monocyte=c('monoc', 'mononc'),\n",
    "                    DC=c('dc'))\n",
    "sorted_cell_names = c('B', 'CD4', 'CD8', 'NK', 'Monocyte', 'DC')"
   ]
  },
  {
   "cell_type": "markdown",
   "id": "91bf32f8-419b-4fe9-8194-c774370b573c",
   "metadata": {},
   "source": [
    "# IBD"
   ]
  },
  {
   "cell_type": "markdown",
   "id": "12923c38-4545-42eb-90e3-510c37997055",
   "metadata": {},
   "source": [
    "## Run coloc"
   ]
  },
  {
   "cell_type": "code",
   "execution_count": 4,
   "id": "29a7ec1d-efc0-4fb4-89d7-c30b38522b08",
   "metadata": {},
   "outputs": [
    {
     "data": {
      "text/html": [
       "<style>\n",
       ".list-inline {list-style: none; margin:0; padding: 0}\n",
       ".list-inline>li {display: inline-block}\n",
       ".list-inline>li:not(:last-child)::after {content: \"\\00b7\"; padding: 0 .5ex}\n",
       "</style>\n",
       "<ol class=list-inline><li>8919817</li><li>8</li></ol>\n"
      ],
      "text/latex": [
       "\\begin{enumerate*}\n",
       "\\item 8919817\n",
       "\\item 8\n",
       "\\end{enumerate*}\n"
      ],
      "text/markdown": [
       "1. 8919817\n",
       "2. 8\n",
       "\n",
       "\n"
      ],
      "text/plain": [
       "[1] 8919817       8"
      ]
     },
     "metadata": {},
     "output_type": "display_data"
    },
    {
     "data": {
      "text/html": [
       "<table class=\"dataframe\">\n",
       "<caption>A data.table: 6 × 8</caption>\n",
       "<thead>\n",
       "\t<tr><th scope=col>variant_id</th><th scope=col>p_value</th><th scope=col>chr</th><th scope=col>bp_b37</th><th scope=col>effect_allele</th><th scope=col>other_allele</th><th scope=col>beta</th><th scope=col>se</th></tr>\n",
       "\t<tr><th scope=col>&lt;chr&gt;</th><th scope=col>&lt;dbl&gt;</th><th scope=col>&lt;chr&gt;</th><th scope=col>&lt;int&gt;</th><th scope=col>&lt;chr&gt;</th><th scope=col>&lt;chr&gt;</th><th scope=col>&lt;dbl&gt;</th><th scope=col>&lt;dbl&gt;</th></tr>\n",
       "</thead>\n",
       "<tbody>\n",
       "\t<tr><td>rs202152658</td><td>0.1220</td><td>chr1</td><td>751343</td><td>A</td><td>T</td><td>-0.0588</td><td>0.0380</td></tr>\n",
       "\t<tr><td>rs143225517</td><td>0.1230</td><td>chr1</td><td>751756</td><td>C</td><td>T</td><td>-0.0585</td><td>0.0379</td></tr>\n",
       "\t<tr><td>rs3094315  </td><td>0.1495</td><td>chr1</td><td>752566</td><td>A</td><td>G</td><td> 0.0472</td><td>0.0328</td></tr>\n",
       "\t<tr><td>rs3131972  </td><td>0.2354</td><td>chr1</td><td>752721</td><td>G</td><td>A</td><td> 0.0325</td><td>0.0274</td></tr>\n",
       "\t<tr><td>rs3131971  </td><td>0.1439</td><td>chr1</td><td>752894</td><td>C</td><td>T</td><td> 0.0522</td><td>0.0357</td></tr>\n",
       "\t<tr><td>rs61770173 </td><td>0.1333</td><td>chr1</td><td>753405</td><td>A</td><td>C</td><td> 0.0554</td><td>0.0369</td></tr>\n",
       "</tbody>\n",
       "</table>\n"
      ],
      "text/latex": [
       "A data.table: 6 × 8\n",
       "\\begin{tabular}{llllllll}\n",
       " variant\\_id & p\\_value & chr & bp\\_b37 & effect\\_allele & other\\_allele & beta & se\\\\\n",
       " <chr> & <dbl> & <chr> & <int> & <chr> & <chr> & <dbl> & <dbl>\\\\\n",
       "\\hline\n",
       "\t rs202152658 & 0.1220 & chr1 & 751343 & A & T & -0.0588 & 0.0380\\\\\n",
       "\t rs143225517 & 0.1230 & chr1 & 751756 & C & T & -0.0585 & 0.0379\\\\\n",
       "\t rs3094315   & 0.1495 & chr1 & 752566 & A & G &  0.0472 & 0.0328\\\\\n",
       "\t rs3131972   & 0.2354 & chr1 & 752721 & G & A &  0.0325 & 0.0274\\\\\n",
       "\t rs3131971   & 0.1439 & chr1 & 752894 & C & T &  0.0522 & 0.0357\\\\\n",
       "\t rs61770173  & 0.1333 & chr1 & 753405 & A & C &  0.0554 & 0.0369\\\\\n",
       "\\end{tabular}\n"
      ],
      "text/markdown": [
       "\n",
       "A data.table: 6 × 8\n",
       "\n",
       "| variant_id &lt;chr&gt; | p_value &lt;dbl&gt; | chr &lt;chr&gt; | bp_b37 &lt;int&gt; | effect_allele &lt;chr&gt; | other_allele &lt;chr&gt; | beta &lt;dbl&gt; | se &lt;dbl&gt; |\n",
       "|---|---|---|---|---|---|---|---|\n",
       "| rs202152658 | 0.1220 | chr1 | 751343 | A | T | -0.0588 | 0.0380 |\n",
       "| rs143225517 | 0.1230 | chr1 | 751756 | C | T | -0.0585 | 0.0379 |\n",
       "| rs3094315   | 0.1495 | chr1 | 752566 | A | G |  0.0472 | 0.0328 |\n",
       "| rs3131972   | 0.2354 | chr1 | 752721 | G | A |  0.0325 | 0.0274 |\n",
       "| rs3131971   | 0.1439 | chr1 | 752894 | C | T |  0.0522 | 0.0357 |\n",
       "| rs61770173  | 0.1333 | chr1 | 753405 | A | C |  0.0554 | 0.0369 |\n",
       "\n"
      ],
      "text/plain": [
       "  variant_id  p_value chr  bp_b37 effect_allele other_allele beta    se    \n",
       "1 rs202152658 0.1220  chr1 751343 A             T            -0.0588 0.0380\n",
       "2 rs143225517 0.1230  chr1 751756 C             T            -0.0585 0.0379\n",
       "3 rs3094315   0.1495  chr1 752566 A             G             0.0472 0.0328\n",
       "4 rs3131972   0.2354  chr1 752721 G             A             0.0325 0.0274\n",
       "5 rs3131971   0.1439  chr1 752894 C             T             0.0522 0.0357\n",
       "6 rs61770173  0.1333  chr1 753405 A             C             0.0554 0.0369"
      ]
     },
     "metadata": {},
     "output_type": "display_data"
    }
   ],
   "source": [
    "sumstats <- fread('/data2/xiaojiashun/eQTL/data/blood_coloc/gwas/RA-10-28-2021/EUR_all_auto-10-2021_processed.txt.gz') %>% \n",
    "  mutate(CHR=paste0('chr', CHR), beta=Beta, se=SE) %>% \n",
    "  dplyr::filter(!is.na(Pval)) %>% \n",
    "  dplyr::select(variant_id=SNP,p_value=Pval,chr=CHR,bp_b37=BP,effect_allele=alt,other_allele=ref,beta,se)\n",
    "dim(sumstats)\n",
    "head(sumstats)"
   ]
  },
  {
   "cell_type": "code",
   "execution_count": 5,
   "id": "c166a546-7371-4887-8596-87f1b03ed1c6",
   "metadata": {},
   "outputs": [
    {
     "data": {
      "text/html": [
       "<style>\n",
       ".list-inline {list-style: none; margin:0; padding: 0}\n",
       ".list-inline>li {display: inline-block}\n",
       ".list-inline>li:not(:last-child)::after {content: \"\\00b7\"; padding: 0 .5ex}\n",
       "</style>\n",
       "<ol class=list-inline><li>69</li><li>8</li></ol>\n"
      ],
      "text/latex": [
       "\\begin{enumerate*}\n",
       "\\item 69\n",
       "\\item 8\n",
       "\\end{enumerate*}\n"
      ],
      "text/markdown": [
       "1. 69\n",
       "2. 8\n",
       "\n",
       "\n"
      ],
      "text/plain": [
       "[1] 69  8"
      ]
     },
     "metadata": {},
     "output_type": "display_data"
    },
    {
     "data": {
      "text/html": [
       "<table class=\"dataframe\">\n",
       "<caption>A data.table: 6 × 8</caption>\n",
       "<thead>\n",
       "\t<tr><th scope=col>GWAS_snp</th><th scope=col>GWAS_snp_pos</th><th scope=col>locus_name</th><th scope=col>chrom</th><th scope=col>start</th><th scope=col>end</th><th scope=col>locus_name_gene</th><th scope=col>beta_top_GWAS</th></tr>\n",
       "\t<tr><th scope=col>&lt;chr&gt;</th><th scope=col>&lt;chr&gt;</th><th scope=col>&lt;chr&gt;</th><th scope=col>&lt;chr&gt;</th><th scope=col>&lt;int&gt;</th><th scope=col>&lt;int&gt;</th><th scope=col>&lt;chr&gt;</th><th scope=col>&lt;dbl&gt;</th></tr>\n",
       "</thead>\n",
       "<tbody>\n",
       "\t<tr><td>rs867435 </td><td>chr1:2523706  </td><td>chr1:2407781_2779397    </td><td>chr1</td><td>  2407781</td><td>  2779397</td><td>MMEL1             </td><td>-0.0912</td></tr>\n",
       "\t<tr><td>rs2240336</td><td>chr1:17674402 </td><td>chr1:17599149_17677665  </td><td>chr1</td><td> 17599149</td><td> 17677665</td><td>PADI4 - AC004824.2</td><td>-0.0856</td></tr>\n",
       "\t<tr><td>rs2045793</td><td>chr1:38635462 </td><td>chr1:38606400_38696216  </td><td>chr1</td><td> 38606400</td><td> 38696216</td><td>POU3F1            </td><td>-0.0971</td></tr>\n",
       "\t<tr><td>rs6659932</td><td>chr1:67802371 </td><td>chr1:67769682_67940286  </td><td>chr1</td><td> 67769682</td><td> 67940286</td><td>IL12RB2           </td><td>-0.1019</td></tr>\n",
       "\t<tr><td>rs2476601</td><td>chr1:114377568</td><td>chr1:113910209_114547798</td><td>chr1</td><td>113910209</td><td>114547798</td><td>PTPN22            </td><td>-0.5439</td></tr>\n",
       "\t<tr><td>rs798000 </td><td>chr1:117280696</td><td>chr1:117214318_117295245</td><td>chr1</td><td>117214318</td><td>117295245</td><td>CD2               </td><td>-0.1046</td></tr>\n",
       "</tbody>\n",
       "</table>\n"
      ],
      "text/latex": [
       "A data.table: 6 × 8\n",
       "\\begin{tabular}{llllllll}\n",
       " GWAS\\_snp & GWAS\\_snp\\_pos & locus\\_name & chrom & start & end & locus\\_name\\_gene & beta\\_top\\_GWAS\\\\\n",
       " <chr> & <chr> & <chr> & <chr> & <int> & <int> & <chr> & <dbl>\\\\\n",
       "\\hline\n",
       "\t rs867435  & chr1:2523706   & chr1:2407781\\_2779397     & chr1 &   2407781 &   2779397 & MMEL1              & -0.0912\\\\\n",
       "\t rs2240336 & chr1:17674402  & chr1:17599149\\_17677665   & chr1 &  17599149 &  17677665 & PADI4 - AC004824.2 & -0.0856\\\\\n",
       "\t rs2045793 & chr1:38635462  & chr1:38606400\\_38696216   & chr1 &  38606400 &  38696216 & POU3F1             & -0.0971\\\\\n",
       "\t rs6659932 & chr1:67802371  & chr1:67769682\\_67940286   & chr1 &  67769682 &  67940286 & IL12RB2            & -0.1019\\\\\n",
       "\t rs2476601 & chr1:114377568 & chr1:113910209\\_114547798 & chr1 & 113910209 & 114547798 & PTPN22             & -0.5439\\\\\n",
       "\t rs798000  & chr1:117280696 & chr1:117214318\\_117295245 & chr1 & 117214318 & 117295245 & CD2                & -0.1046\\\\\n",
       "\\end{tabular}\n"
      ],
      "text/markdown": [
       "\n",
       "A data.table: 6 × 8\n",
       "\n",
       "| GWAS_snp &lt;chr&gt; | GWAS_snp_pos &lt;chr&gt; | locus_name &lt;chr&gt; | chrom &lt;chr&gt; | start &lt;int&gt; | end &lt;int&gt; | locus_name_gene &lt;chr&gt; | beta_top_GWAS &lt;dbl&gt; |\n",
       "|---|---|---|---|---|---|---|---|\n",
       "| rs867435  | chr1:2523706   | chr1:2407781_2779397     | chr1 |   2407781 |   2779397 | MMEL1              | -0.0912 |\n",
       "| rs2240336 | chr1:17674402  | chr1:17599149_17677665   | chr1 |  17599149 |  17677665 | PADI4 - AC004824.2 | -0.0856 |\n",
       "| rs2045793 | chr1:38635462  | chr1:38606400_38696216   | chr1 |  38606400 |  38696216 | POU3F1             | -0.0971 |\n",
       "| rs6659932 | chr1:67802371  | chr1:67769682_67940286   | chr1 |  67769682 |  67940286 | IL12RB2            | -0.1019 |\n",
       "| rs2476601 | chr1:114377568 | chr1:113910209_114547798 | chr1 | 113910209 | 114547798 | PTPN22             | -0.5439 |\n",
       "| rs798000  | chr1:117280696 | chr1:117214318_117295245 | chr1 | 117214318 | 117295245 | CD2                | -0.1046 |\n",
       "\n"
      ],
      "text/plain": [
       "  GWAS_snp  GWAS_snp_pos   locus_name               chrom start     end      \n",
       "1 rs867435  chr1:2523706   chr1:2407781_2779397     chr1    2407781   2779397\n",
       "2 rs2240336 chr1:17674402  chr1:17599149_17677665   chr1   17599149  17677665\n",
       "3 rs2045793 chr1:38635462  chr1:38606400_38696216   chr1   38606400  38696216\n",
       "4 rs6659932 chr1:67802371  chr1:67769682_67940286   chr1   67769682  67940286\n",
       "5 rs2476601 chr1:114377568 chr1:113910209_114547798 chr1  113910209 114547798\n",
       "6 rs798000  chr1:117280696 chr1:117214318_117295245 chr1  117214318 117295245\n",
       "  locus_name_gene    beta_top_GWAS\n",
       "1 MMEL1              -0.0912      \n",
       "2 PADI4 - AC004824.2 -0.0856      \n",
       "3 POU3F1             -0.0971      \n",
       "4 IL12RB2            -0.1019      \n",
       "5 PTPN22             -0.5439      \n",
       "6 CD2                -0.1046      "
      ]
     },
     "metadata": {},
     "output_type": "display_data"
    }
   ],
   "source": [
    "if(file.exists('/data2/xiaojiashun/eQTL/data/blood_coloc/gwas/ra/loci_LDlinkR.r2.0.1.EUR.txt')){\n",
    "    loci <- fread('/data2/xiaojiashun/eQTL/data/blood_coloc/gwas/ra/loci_LDlinkR.r2.0.1.EUR.txt', sep='\\t')\n",
    "}\n",
    "closest <- fread(paste0('/data2/xiaojiashun/eQTL/data/blood_coloc/gwas/ra/closest.protein.coding.bed'),sep='\\t', header=FALSE) %>% \n",
    "  setNames(c('chr_snp','start_snp','end_snp','GWAS_snp','beta','chr_gene','start_gene','end_gene','gene','distance')) %>% \n",
    "  mutate(GWAS_snp_pos=paste0(chr_snp,':',start_snp)) %>% \n",
    "  dplyr::select(GWAS_snp,GWAS_snp_pos,gene,beta,distance) %>% \n",
    "  separate(gene,into=c('symbol','ensembl'),sep='_') %>% \n",
    "  add_count(GWAS_snp) %>% \n",
    "  group_by(GWAS_snp) %>% \n",
    "  mutate(locus_name_gene=ifelse(n==1,symbol,paste0(symbol,collapse=' - '))) %>% \n",
    "  ungroup() %>% \n",
    "  dplyr::select(GWAS_snp_pos,locus_name_gene,beta_top_GWAS=beta) %>% \n",
    "  unique() %>% arrange(-abs(beta_top_GWAS))\n",
    "loci <- left_join(loci,closest,by='GWAS_snp_pos')\n",
    "dim(loci)\n",
    "head(loci)"
   ]
  },
  {
   "cell_type": "markdown",
   "id": "a37d38ae-3d23-4f1f-98c4-8f167068b491",
   "metadata": {},
   "source": [
    "### PBMC and neutrophil"
   ]
  },
  {
   "cell_type": "code",
   "execution_count": 43,
   "id": "c2663d72-617a-458a-89de-d93dd1efb67d",
   "metadata": {},
   "outputs": [],
   "source": [
    "prepare_eqtl_ibsep <- function(dirname,ibsep_name,chrom_locus,sumstats_locus){\n",
    "  # eqtl&ibsep\n",
    "  file <- sprintf('%s/%s/%s.csv', dirname, chrom_locus, ibsep_name)\n",
    "  eqtl <- data.table::fread(file, header=TRUE, nThread=1) %>%\n",
    "    inner_join(.,gene_id_name[,c('MOLID', 'GENENAME')],by='MOLID') %>%\n",
    "    dplyr::select(gene_id=GENEID, gene=GENENAME, SNP, A1, A2, p_eqtl=PVAL, beta_eqtl=BETA, se_eqtl=SE, PVAL_BLUE, BETA_BLUE, SE_BLUE) %>%\n",
    "    inner_join(.,sumstats_locus[,c('variant_id','effect_allele','other_allele','SNP_id_hg19')],\n",
    "               by=join_by(SNP==variant_id), multiple='first')\n",
    "  message(nrow(sumstats_locus))\n",
    "  message(nrow(eqtl))\n",
    "  eqtl <- eqtl %>%\n",
    "    dplyr::filter(((A1==effect_allele)&(A2==other_allele)) | ((A2==effect_allele)&(A1==other_allele))) %>%\n",
    "    dplyr::select(gene_id, gene, SNP, SNP_id_hg19, effect_allele=A2, other_allele=A1, p_eqtl, beta_eqtl, se_eqtl, PVAL_BLUE, BETA_BLUE, SE_BLUE)\n",
    "  eqtl <- eqtl[(is.na(eqtl$BETA_BLUE)==FALSE)&(is.na(eqtl$SE_BLUE)==FALSE),]\n",
    "  eqtl <- eqtl %>%\n",
    "    add_count(gene_id) %>%\n",
    "    dplyr::filter(n>10)\n",
    "  message(nrow(eqtl))\n",
    "\n",
    "  if(nrow(eqtl)==0){\n",
    "      message('nrow(eqtl)==0')\n",
    "  }\n",
    "    \n",
    "  return(eqtl)\n",
    "}"
   ]
  },
  {
   "cell_type": "code",
   "execution_count": 45,
   "id": "b074fe3c-6508-492f-8986-ad965105f867",
   "metadata": {},
   "outputs": [],
   "source": [
    "## ibsep\n",
    "t0 = Sys.time()\n",
    "coloc_ibsep_results_all <- mclapply(1:nrow(loci),function(i){\n",
    "\n",
    "  #Get coordinates from the GWAS locus\n",
    "  chrom_locus <- loci$chrom[i]\n",
    "  start <- loci$start[i] %>% as.numeric()\n",
    "  end <- loci$end[i] %>% as.numeric()\n",
    "  \n",
    "  closest_gene_locus <- loci$locus_name_gene[i]\n",
    "  beta_top_GWAS_locus <- loci$beta_top_GWAS[i]\n",
    "  GWAS_snp_name <- loci$GWAS_snp[i]\n",
    "  GWAS_snp_pos_name <- loci$GWAS_snp_pos[i]\n",
    "\n",
    "  #Keep GWAS sumstats of SNPs in the locus\n",
    "  sumstats_locus <- dplyr::filter(sumstats,chr==chrom_locus) %>% \n",
    "    dplyr::filter(bp_b37>=start & bp_b37<=end) %>% \n",
    "    dplyr::mutate(SNP_id_hg19=paste0(chr,':',bp_b37))\n",
    "\n",
    "  #Preparing eQTL files - keeping SNPs from the eQTL data that match SNPs in the GWAS locus\n",
    "  pbmc_dir = '/data2/xiaojiashun/eQTL/data/blood_data/1M_neutro2015/merged_sumstats/omega_shrink_0.9_max_hsq_0.8'\n",
    "  neutro_dir = '/data2/xiaojiashun/eQTL/data/blood_data/1M_neutro2015/merged_sumstats/omega_shrink_0.9_max_hsq_0.8'\n",
    "  eqtl_b <- prepare_eqtl_ibsep(pbmc_dir, sprintf('allmols_B_blue_pval%s_tau1.0_truncorr', hij_thres),chrom_locus,sumstats_locus)\n",
    "  eqtl_cd4 <- prepare_eqtl_ibsep(pbmc_dir, sprintf('allmols_CD4T_blue_pval%s_tau1.0_truncorr', hij_thres),chrom_locus,sumstats_locus)\n",
    "  eqtl_cd8 <- prepare_eqtl_ibsep(pbmc_dir, sprintf('allmols_CD8T_blue_pval%s_tau1.0_truncorr', hij_thres),chrom_locus,sumstats_locus)\n",
    "  eqtl_nk <- prepare_eqtl_ibsep(pbmc_dir, sprintf('allmols_NK_blue_pval%s_tau1.0_truncorr', hij_thres),chrom_locus,sumstats_locus)\n",
    "  eqtl_mono <- prepare_eqtl_ibsep(pbmc_dir, sprintf('allmols_monocyte_blue_pval%s_tau1.0_truncorr', hij_thres),chrom_locus,sumstats_locus)\n",
    "  eqtl_dc <- prepare_eqtl_ibsep(pbmc_dir, sprintf('allmols_DC_blue_pval%s_tau1.0_truncorr', hij_thres),chrom_locus,sumstats_locus)\n",
    "  eqtl_neutro <- prepare_eqtl_ibsep(neutro_dir, sprintf('allmols_neutrophil_blue_pval%s_tau1.0_truncorr', hij_thres),chrom_locus,sumstats_locus)\n",
    "\n",
    "  #Running colocalization analysis\n",
    "  b_coloc <- run_coloc_ibsep(eqtl_b,'B',sumstats_locus)\n",
    "  cd4_coloc <- run_coloc_ibsep(eqtl_cd4,'CD4T',sumstats_locus)\n",
    "  cd8_coloc <- run_coloc_ibsep(eqtl_cd8,'CD8T',sumstats_locus)\n",
    "  nk_coloc <- run_coloc_ibsep(eqtl_nk,'NK',sumstats_locus)\n",
    "  mono_coloc <- run_coloc_ibsep(eqtl_mono,'monocyte',sumstats_locus)\n",
    "  dc_coloc <- run_coloc_ibsep(eqtl_dc,'DC',sumstats_locus)\n",
    "  neutro_coloc <- run_coloc_ibsep(eqtl_neutro,'neutrophil',sumstats_locus)\n",
    "  \n",
    "  pval_eqtl <- rbind(b_coloc,cd4_coloc,cd8_coloc,nk_coloc,mono_coloc,dc_coloc,neutro_coloc)\n",
    "  \n",
    "  if(!is.null(pval_eqtl)){\n",
    "    pval_eqtl <- pval_eqtl %>% \n",
    "      mutate(type='eQTL',\n",
    "           locus=loci$locus_name[i],\n",
    "           coloc_method='beta') %>% \n",
    "      mutate(closest_gene=closest_gene_locus,\n",
    "             beta_top_GWAS=beta_top_GWAS_locus,\n",
    "             GWAS_snp=GWAS_snp_name,\n",
    "             GWAS_snp_pos=GWAS_snp_pos_name)\n",
    "  }\n",
    "  results <- pval_eqtl \n",
    "  if(!is.null(results)){\n",
    "    results <- results %>% \n",
    "      arrange(-PP.H4.abf) %>% \n",
    "      dplyr::select(locus,closest_gene,GWAS_snp,GWAS_snp_pos,beta_top_GWAS,everything())\n",
    "  }\n",
    "  \n",
    "  return(results)\n",
    "},mc.cores = 20,mc.preschedule = FALSE)\n",
    "t1 = Sys.time()"
   ]
  },
  {
   "cell_type": "code",
   "execution_count": 46,
   "id": "caa0ebf9-8928-4259-b23f-adbeaf5ba42f",
   "metadata": {},
   "outputs": [
    {
     "data": {
      "text/plain": [
       "Time difference of 14.60101 secs"
      ]
     },
     "metadata": {},
     "output_type": "display_data"
    }
   ],
   "source": [
    "t1 - t0"
   ]
  },
  {
   "cell_type": "code",
   "execution_count": null,
   "id": "7b80ee72-f919-4d17-9c37-783e97213568",
   "metadata": {},
   "outputs": [],
   "source": [
    "coloc_ibsep_results_all_success = list()\n",
    "n = 1\n",
    "for(i in 1:length(coloc_ibsep_results_all)){\n",
    "    if(!is.null(dim(coloc_ibsep_results_all[[i]]))==TRUE){\n",
    "        coloc_ibsep_results_all_success[[n]] = coloc_ibsep_results_all[[i]]\n",
    "        n = n + 1\n",
    "    }\n",
    "}\n",
    "length(coloc_ibsep_results_all_success)\n",
    "\n",
    "coloc_ibsep_results_all_df <- coloc_ibsep_results_all_success %>% \n",
    "  bind_rows() %>% \n",
    "  arrange(-PP.H4.abf) %>% \n",
    "  separate(gene,into=c('symbol','ensembl'),sep='_')\n",
    "dim(coloc_ibsep_results_all_df)\n",
    "\n",
    "fwrite(coloc_ibsep_results_all_df, sprintf('/data2/xiaojiashun/eQTL/data/blood_coloc/result_1M_neutro2015_hij%s/ra_ibsep_pbmc_neutro.csv', hij_thres), sep='\\t')"
   ]
  },
  {
   "cell_type": "code",
   "execution_count": 48,
   "id": "9342beb2-2485-4340-ab3f-083ed4558b66",
   "metadata": {},
   "outputs": [],
   "source": [
    "## ori eqtl\n",
    "t0 = Sys.time()\n",
    "coloc_eqtl_results_all <- mclapply(1:nrow(loci),function(i){\n",
    "\n",
    "  #Get coordinates from the GWAS locus\n",
    "  chrom_locus <- loci$chrom[i]\n",
    "  start <- loci$start[i] %>% as.numeric()\n",
    "  end <- loci$end[i] %>% as.numeric()\n",
    "  \n",
    "  closest_gene_locus <- loci$locus_name_gene[i]\n",
    "  beta_top_GWAS_locus <- loci$beta_top_GWAS[i]\n",
    "  GWAS_snp_name <- loci$GWAS_snp[i]\n",
    "  GWAS_snp_pos_name <- loci$GWAS_snp_pos[i]\n",
    "\n",
    "  #Keep GWAS sumstats of SNPs in the locus\n",
    "  sumstats_locus <- dplyr::filter(sumstats,chr==chrom_locus) %>% \n",
    "    dplyr::filter(bp_b37>=start & bp_b37<=end) %>% \n",
    "    dplyr::mutate(SNP_id_hg19=paste0(chr,':',bp_b37))\n",
    "\n",
    "  #Preparing eQTL files - keeping SNPs from the eQTL data that match SNPs in the GWAS locus\n",
    "  pbmc_dir = '/data2/xiaojiashun/eQTL/data/blood_data/1M_neutro2015/merged_sumstats/omega_shrink_0.9_max_hsq_0.8'\n",
    "  neutro_dir = '/data2/xiaojiashun/eQTL/data/blood_data/1M_neutro2015/merged_sumstats/omega_shrink_0.9_max_hsq_0.8'\n",
    "  eqtl_b <- prepare_eqtl_ibsep(pbmc_dir, sprintf('allmols_B_blue_pval%s_tau1.0_truncorr', hij_thres),chrom_locus,sumstats_locus)\n",
    "  eqtl_cd4 <- prepare_eqtl_ibsep(pbmc_dir, sprintf('allmols_CD4T_blue_pval%s_tau1.0_truncorr', hij_thres),chrom_locus,sumstats_locus)\n",
    "  eqtl_cd8 <- prepare_eqtl_ibsep(pbmc_dir, sprintf('allmols_CD8T_blue_pval%s_tau1.0_truncorr', hij_thres),chrom_locus,sumstats_locus)\n",
    "  eqtl_nk <- prepare_eqtl_ibsep(pbmc_dir, sprintf('allmols_NK_blue_pval%s_tau1.0_truncorr', hij_thres),chrom_locus,sumstats_locus)\n",
    "  eqtl_mono <- prepare_eqtl_ibsep(pbmc_dir, sprintf('allmols_monocyte_blue_pval%s_tau1.0_truncorr', hij_thres),chrom_locus,sumstats_locus)\n",
    "  eqtl_dc <- prepare_eqtl_ibsep(pbmc_dir, sprintf('allmols_DC_blue_pval%s_tau1.0_truncorr', hij_thres),chrom_locus,sumstats_locus)\n",
    "  eqtl_neutro <- prepare_eqtl_ibsep(neutro_dir, sprintf('allmols_neutrophil_blue_pval%s_tau1.0_truncorr', hij_thres),chrom_locus,sumstats_locus)\n",
    "\n",
    "  #Running colocalization analysis\n",
    "  b_coloc <- run_coloc(eqtl_b,'B',sumstats_locus)\n",
    "  cd4_coloc <- run_coloc(eqtl_cd4,'CD4T',sumstats_locus)\n",
    "  cd8_coloc <- run_coloc(eqtl_cd8,'CD8T',sumstats_locus)\n",
    "  nk_coloc <- run_coloc(eqtl_nk,'NK',sumstats_locus)\n",
    "  mono_coloc <- run_coloc(eqtl_mono,'monocyte',sumstats_locus)\n",
    "  dc_coloc <- run_coloc(eqtl_dc,'DC',sumstats_locus)\n",
    "  neutro_coloc <- run_coloc(eqtl_neutro,'neutrophil',sumstats_locus)\n",
    "  \n",
    "  pval_eqtl <- rbind(b_coloc,cd4_coloc,cd8_coloc,nk_coloc,mono_coloc,dc_coloc,neutro_coloc)\n",
    "  \n",
    "  if(!is.null(pval_eqtl)){\n",
    "    pval_eqtl <- pval_eqtl %>% \n",
    "      mutate(type='eQTL',\n",
    "           locus=loci$locus_name[i],\n",
    "           coloc_method='beta') %>% \n",
    "      mutate(closest_gene=closest_gene_locus,\n",
    "             beta_top_GWAS=beta_top_GWAS_locus,\n",
    "             GWAS_snp=GWAS_snp_name,\n",
    "             GWAS_snp_pos=GWAS_snp_pos_name)\n",
    "  }\n",
    "  results <- pval_eqtl \n",
    "  if(!is.null(results)){\n",
    "    results <- results %>% \n",
    "      arrange(-PP.H4.abf) %>% \n",
    "      dplyr::select(locus,closest_gene,GWAS_snp,GWAS_snp_pos,beta_top_GWAS,everything())\n",
    "  }\n",
    "  \n",
    "  return(results)\n",
    "},mc.cores = 20,mc.preschedule = FALSE)\n",
    "t1 = Sys.time()"
   ]
  },
  {
   "cell_type": "code",
   "execution_count": 49,
   "id": "d578ec2d-6655-4003-a0f7-f9ef232b20a7",
   "metadata": {},
   "outputs": [
    {
     "data": {
      "text/plain": [
       "Time difference of 14.24416 secs"
      ]
     },
     "metadata": {},
     "output_type": "display_data"
    }
   ],
   "source": [
    "t1 - t0"
   ]
  },
  {
   "cell_type": "code",
   "execution_count": null,
   "id": "ec4669d2-a482-49ab-8cca-443b50147e93",
   "metadata": {},
   "outputs": [],
   "source": [
    "coloc_eqtl_results_all_success = list()\n",
    "n = 1\n",
    "for(i in 1:length(coloc_eqtl_results_all)){\n",
    "    if(!is.null(dim(coloc_eqtl_results_all[[i]]))==TRUE){\n",
    "        coloc_eqtl_results_all_success[[n]] = coloc_eqtl_results_all[[i]]\n",
    "        n = n + 1\n",
    "    }\n",
    "}\n",
    "length(coloc_eqtl_results_all_success)\n",
    "\n",
    "coloc_eqtl_results_all_df <- coloc_eqtl_results_all_success %>% \n",
    "  bind_rows() %>% \n",
    "  arrange(-PP.H4.abf) %>% \n",
    "  separate(gene,into=c('symbol','ensembl'),sep='_')\n",
    "dim(coloc_eqtl_results_all_df)\n",
    "\n",
    "fwrite(coloc_eqtl_results_all_df, sprintf('/data2/xiaojiashun/eQTL/data/blood_coloc/result_1M_neutro2015_hij%s/ra_eqtl_pbmc_neutro.csv', hij_thres), sep='\\t')"
   ]
  },
  {
   "cell_type": "markdown",
   "id": "843d9b0c-f32c-4c39-90f0-60ddf69ef29f",
   "metadata": {},
   "source": [
    "### BLUEPRINT"
   ]
  },
  {
   "cell_type": "code",
   "execution_count": null,
   "id": "6962d282-5766-46b4-bfb3-51ed8925592c",
   "metadata": {},
   "outputs": [],
   "source": [
    "t0 = Sys.time()\n",
    "df_bp <- data.table::fread('/data2/xiaojiashun/eQTL/data/BLUEPRINT/QTD000026.all.tsv.gz', header=TRUE, nThread=1) %>%\n",
    "    dplyr::select(SNP=rsid, ref, alt, gene_id=gene_id, BETA_BP=beta, SE_BP=se, PVAL_BP=pvalue)\n",
    "Sys.time() - t0"
   ]
  },
  {
   "cell_type": "code",
   "execution_count": 52,
   "id": "f3d78d90-6459-46f1-8841-fac9e77e6fe1",
   "metadata": {},
   "outputs": [],
   "source": [
    "# eqtl_ex <- prepare_eqtl(micro,chrom_locus,sumstats_locus)\n",
    "prepare_eqtl_blueprint <- function(dirname,eqtl_name,chrom_locus,sumstats_locus){\n",
    "  # eqtl\n",
    "  file <- sprintf('%s/%s/%s.csv', dirname, chrom_locus, eqtl_name)\n",
    "  eqtl <- data.table::fread(file, header=TRUE, nThread=1) %>%\n",
    "    inner_join(.,gene_id_name[,c('MOLID', 'GENENAME')],by='MOLID') %>%\n",
    "    dplyr::select(gene_id=GENEID, gene=GENENAME, SNP, A1, A2, p_eqtl=PVAL, beta_eqtl=BETA, se_eqtl=SE) %>%\n",
    "    inner_join(.,sumstats_locus[,c('variant_id','effect_allele','other_allele','SNP_id_hg19')],\n",
    "               by=join_by(SNP==variant_id),multiple='first')\n",
    "  eqtl <- eqtl %>%\n",
    "    dplyr::filter(((A1==effect_allele)&(A2==other_allele)) | ((A2==effect_allele)&(A1==other_allele))) %>%\n",
    "    dplyr::select(gene_id, gene, SNP, SNP_id_hg19, effect_allele=A2, other_allele=A1, p_eqtl, beta_eqtl, se_eqtl)\n",
    "  message(nrow(eqtl))\n",
    "\n",
    "  if(nrow(eqtl)==0){\n",
    "      message('nrow(eqtl)==0')\n",
    "  }\n",
    "\n",
    "  # merge eqtl and ibsep\n",
    "  merged <- inner_join(eqtl,df_bp,by=c('gene_id', 'SNP')) \n",
    "  merged <- merged[(is.na(merged$BETA_BP)==FALSE)&(is.na(merged$SE_BP)==FALSE),]\n",
    "  merged <- merged %>%\n",
    "    add_count(gene_id) %>% \n",
    "    dplyr::filter(n>10)\n",
    "  merged <- merged %>%\n",
    "    dplyr::group_by(gene_id, SNP) %>%\n",
    "    dplyr::slice(which.min(PVAL_BP)) %>% \n",
    "    dplyr::filter(((ref==effect_allele)&(alt==other_allele)) | ((alt==effect_allele)&(ref==other_allele))) %>%\n",
    "    mutate(BETA_BP=ifelse(alt==effect_allele, BETA_BP, -BETA_BP)) %>%\n",
    "    dplyr::select(gene_id, gene, SNP, SNP_id_hg19, effect_allele, other_allele, p_eqtl, beta_eqtl, se_eqtl, BETA_BP, SE_BP, PVAL_BP, n)\n",
    "    \n",
    "  return(merged)\n",
    "}"
   ]
  },
  {
   "cell_type": "code",
   "execution_count": 53,
   "id": "f42c42c8-d7f4-4c3f-b5af-c96bdda8a42e",
   "metadata": {},
   "outputs": [],
   "source": [
    "run_coloc_blueprint <- function(tissue_sumstats,tissue_name,sumstats_locus){\n",
    "  \n",
    "  if(nrow(tissue_sumstats)==0){\n",
    "    return (NULL)\n",
    "  }\n",
    "\n",
    "  out <- lapply(unique(tissue_sumstats$gene),function(x){\n",
    "    message(x)\n",
    "    tissue_sumstats_gene <- dplyr::filter(tissue_sumstats,gene==x)\n",
    "    sumstats_locus_gene <- sumstats_locus %>% inner_join(.,tissue_sumstats_gene,by='SNP_id_hg19')\n",
    "    sumstats_locus_gene <- sumstats_locus_gene[!duplicated(sumstats_locus_gene$SNP_id_hg19),] # remove duplicated SNPs\n",
    "    # message(any(duplicated(sumstats_locus_gene$SNP_id_hg19)))\n",
    "      \n",
    "    if (nrow(sumstats_locus_gene)>0){\n",
    "\n",
    "       coloc_res_pval <- coloc.abf(\n",
    "       dataset1=list(beta=sumstats_locus_gene$beta,\n",
    "                     varbeta=sumstats_locus_gene$se^2,\n",
    "                     snp=sumstats_locus_gene$SNP,\n",
    "                     position=sumstats_locus_gene$bp_b37,\n",
    "                     type=\"cc\"),\n",
    "       dataset2=list(beta=sumstats_locus_gene$BETA_BP,\n",
    "                     varbeta=sumstats_locus_gene$SE_BP^2,\n",
    "                     snp=sumstats_locus_gene$SNP,\n",
    "                     position=sumstats_locus_gene$bp_b37,\n",
    "                     sdY=1,\n",
    "                     type=\"quant\"))$summary %>% \n",
    "       as.data.frame()\n",
    "    colnames(coloc_res_pval) <- x\n",
    "    \n",
    "    #Get direction of effect for all SNPs at the locus\n",
    "    sumstats_locus_gene <- sumstats_locus_gene %>% \n",
    "      mutate(direction=case_when(\n",
    "      (effect_allele.x==effect_allele.y & other_allele.x==other_allele.y)  ~ sign(beta*BETA_BP),\n",
    "      (effect_allele.x==other_allele.y & other_allele.x==effect_allele.y)  ~ -sign(beta*BETA_BP),\n",
    "    TRUE ~ 0))\n",
    "   \n",
    "   #Get Proportion of positive direction\n",
    "   direction_prop <- sumstats_locus_gene %>% \n",
    "     summarise(prop_pos_direction=sum(direction==1)/n()) %>% \n",
    "     setNames(x) %>% \n",
    "     as.data.frame()\n",
    "   rownames(direction_prop) <- 'prop_pos_direction'\n",
    "   \n",
    "   direction_sign <- sumstats_locus_gene %>% \n",
    "     #Take SNP with strongest evidence of an effect on gene expression\n",
    "     dplyr::filter(PVAL_BP==min(PVAL_BP)) %>% \n",
    "     slice_min(n=1,p_value,with_ties=FALSE) %>% \n",
    "     summarise(direction=direction,\n",
    "               beta_gwas=case_when(\n",
    "                    (effect_allele.x==effect_allele.y & other_allele.x==other_allele.y)  ~ beta,\n",
    "                    (effect_allele.x==other_allele.y & other_allele.x==effect_allele.y)  ~ -beta\n",
    "                    ),\n",
    "              beta_bp=BETA_BP,\n",
    "               beta_smr=case_when(\n",
    "                    direction== 1  ~ abs(beta)/abs(BETA_BP),\n",
    "                    direction== -1  ~ -(abs(beta)/abs(BETA_BP))\n",
    "                 ),\n",
    "               ) %>% \n",
    "     t() %>% \n",
    "     as.data.frame()\n",
    "   colnames(direction_sign) <- x\n",
    "   \n",
    "    #Add direction of effect to coloc results\n",
    "    coloc_res_pval <- rbind(coloc_res_pval,direction_sign,direction_prop)\n",
    "\n",
    "    return(coloc_res_pval)\n",
    "    }\n",
    "    else{\n",
    "      return (NULL)\n",
    "    }\n",
    "    \n",
    "})\n",
    "  \n",
    "  out_pvalue <- out %>% \n",
    "    bind_cols() %>% \n",
    "    t() %>% \n",
    "    as.data.frame() %>% \n",
    "    rownames_to_column('gene') %>% \n",
    "    as_tibble() %>% \n",
    "    arrange(-PP.H4.abf) %>% \n",
    "    mutate(tissue=tissue_name)\n",
    "  \n",
    "  return(out_pvalue)\n",
    "}"
   ]
  },
  {
   "cell_type": "code",
   "execution_count": 56,
   "id": "5f1b3bf9-9807-4dd7-87b0-107d754f04c8",
   "metadata": {},
   "outputs": [],
   "source": [
    "## BLUEPRINT\n",
    "t0 = Sys.time()\n",
    "coloc_eqtl_results_all <- mclapply(1:nrow(loci),function(i){\n",
    "\n",
    "  #Get coordinates from the GWAS locus\n",
    "  chrom_locus <- loci$chrom[i]\n",
    "  start <- loci$start[i] %>% as.numeric()\n",
    "  end <- loci$end[i] %>% as.numeric()\n",
    "  \n",
    "  closest_gene_locus <- loci$locus_name_gene[i]\n",
    "  beta_top_GWAS_locus <- loci$beta_top_GWAS[i]\n",
    "  GWAS_snp_name <- loci$GWAS_snp[i]\n",
    "  GWAS_snp_pos_name <- loci$GWAS_snp_pos[i]\n",
    "\n",
    "  #Keep GWAS sumstats of SNPs in the locus\n",
    "  sumstats_locus <- dplyr::filter(sumstats,chr==chrom_locus) %>% \n",
    "    dplyr::filter(bp_b37>=start & bp_b37<=end) %>% \n",
    "    dplyr::mutate(SNP_id_hg19=paste0(chr,':',bp_b37))\n",
    "\n",
    "  #Preparing eQTL files - keeping SNPs from the eQTL data that match SNPs in the GWAS locus\n",
    "  eqtl_neutro_bp <- prepare_eqtl_blueprint('/data2/xiaojiashun/eQTL/data/blood_data/1M_neutro2015/merged_sumstats/omega_shrink_0.9_max_hsq_0.8',\n",
    "                                         'allmols_neutrophil_blue_pval0.0001_tau1.0_truncorr',chrom_locus,sumstats_locus)\n",
    "\n",
    "  #Running colocalization analysis\n",
    "  pval_eqtl <- run_coloc_blueprint(eqtl_neutro_bp,'neutrophil',sumstats_locus)\n",
    "  \n",
    "  if(!is.null(pval_eqtl)){\n",
    "    pval_eqtl <- pval_eqtl %>% \n",
    "      mutate(type='eQTL',\n",
    "           locus=loci$locus_name[i],\n",
    "           coloc_method='beta') %>% \n",
    "      mutate(closest_gene=closest_gene_locus,\n",
    "             beta_top_GWAS=beta_top_GWAS_locus,\n",
    "             GWAS_snp=GWAS_snp_name,\n",
    "             GWAS_snp_pos=GWAS_snp_pos_name)\n",
    "  }\n",
    "  results <- pval_eqtl \n",
    "  if(!is.null(results)){\n",
    "    results <- results %>% \n",
    "      arrange(-PP.H4.abf) %>% \n",
    "      dplyr::select(locus,closest_gene,GWAS_snp,GWAS_snp_pos,beta_top_GWAS,everything())\n",
    "  }\n",
    "  \n",
    "  return(results)\n",
    "},mc.cores = 20,mc.preschedule = FALSE)\n",
    "t1 = Sys.time()"
   ]
  },
  {
   "cell_type": "code",
   "execution_count": 57,
   "id": "67b01055-ceb9-4d73-ad1e-d8099310225e",
   "metadata": {},
   "outputs": [
    {
     "data": {
      "text/plain": [
       "Time difference of 2.116133 mins"
      ]
     },
     "metadata": {},
     "output_type": "display_data"
    }
   ],
   "source": [
    "t1 - t0"
   ]
  },
  {
   "cell_type": "code",
   "execution_count": null,
   "id": "afc4308f-da9f-4ddb-af17-9c0ef3e727cf",
   "metadata": {},
   "outputs": [],
   "source": [
    "coloc_eqtl_results_all_success = list()\n",
    "n = 1\n",
    "for(i in 1:length(coloc_eqtl_results_all)){\n",
    "    if(!is.null(dim(coloc_eqtl_results_all[[i]]))==TRUE){\n",
    "        coloc_eqtl_results_all_success[[n]] = coloc_eqtl_results_all[[i]]\n",
    "        n = n + 1\n",
    "    }\n",
    "}\n",
    "length(coloc_eqtl_results_all_success)\n",
    "\n",
    "coloc_eqtl_results_all_df <- coloc_eqtl_results_all_success %>% \n",
    "  bind_rows() %>% \n",
    "  arrange(-PP.H4.abf) %>% \n",
    "  separate(gene,into=c('symbol','ensembl'),sep='_')\n",
    "dim(coloc_eqtl_results_all_df)\n",
    "\n",
    "fwrite(coloc_eqtl_results_all_df, '/data2/xiaojiashun/eQTL/data/blood_coloc/result/ra_blueprint.csv', sep='\\t')"
   ]
  },
  {
   "cell_type": "markdown",
   "id": "68aba6d4-79dc-4f23-a523-3218459c409d",
   "metadata": {},
   "source": [
    "## Plot"
   ]
  },
  {
   "cell_type": "markdown",
   "id": "c95afb5a-406f-443f-97b8-e69f42d4c838",
   "metadata": {},
   "source": [
    "### PBMC and neutrophil"
   ]
  },
  {
   "cell_type": "code",
   "execution_count": 6,
   "id": "9f1d41a2-6f04-4854-acb0-52838e1eb853",
   "metadata": {},
   "outputs": [
    {
     "name": "stdout",
     "output_type": "stream",
     "text": [
      "[1] 1274   21\n",
      "[1] 1274   21\n",
      "[1] 2876   21\n",
      "[1] 170  21\n"
     ]
    }
   ],
   "source": [
    "hij_thres = '0.0001'\n",
    "eqtl_res = fread(sprintf('/data2/xiaojiashun/eQTL/data/blood_coloc/result_1M_neutro2015_hij%s/ra_eqtl_pbmc_neutro.csv', hij_thres), sep='\\t')\n",
    "ibsep_res = fread(sprintf('/data2/xiaojiashun/eQTL/data/blood_coloc/result_1M_neutro2015_hij%s/ra_ibsep_pbmc_neutro.csv', hij_thres), sep='\\t')\n",
    "onek1k_res = fread('/data2/xiaojiashun/eQTL/data/blood_coloc/result/ra_1k1k.csv', sep='\\t')\n",
    "bp_res = fread('/data2/xiaojiashun/eQTL/data/blood_coloc/result/ra_blueprint.csv', sep='\\t')\n",
    "print(dim(eqtl_res))\n",
    "print(dim(ibsep_res))\n",
    "print(dim(onek1k_res))\n",
    "print(dim(bp_res))"
   ]
  },
  {
   "cell_type": "code",
   "execution_count": 7,
   "id": "6c273787-910c-48f9-b9b9-38eeec8efc00",
   "metadata": {},
   "outputs": [
    {
     "name": "stdout",
     "output_type": "stream",
     "text": [
      "[1] 20 22\n",
      "[1] 32 22\n",
      "[1] 87 22\n",
      "[1]  7 22\n"
     ]
    }
   ],
   "source": [
    "eqtl_sig <- eqtl_res[eqtl_res$PP.H4.abf > 0.7] %>% mutate(method='Single cell')\n",
    "ibsep_sig <- ibsep_res[ibsep_res$PP.H4.abf > 0.7] %>% mutate(method='IBSEP')\n",
    "onek1k_sig <- onek1k_res[onek1k_res$PP.H4.abf > 0.7] %>% mutate(method='OneK1K')\n",
    "bp_sig <- bp_res[bp_res$PP.H4.abf > 0.7] %>% mutate(method='BLUEPRINT')\n",
    "print(dim(eqtl_sig))\n",
    "print(dim(ibsep_sig))\n",
    "print(dim(onek1k_sig))\n",
    "print(dim(bp_sig))"
   ]
  },
  {
   "cell_type": "code",
   "execution_count": 9,
   "id": "3ca80910-dca4-4d15-be77-60dab8a384bc",
   "metadata": {},
   "outputs": [
    {
     "name": "stdout",
     "output_type": "stream",
     "text": [
      "[1] 39 23\n",
      "[1] 13  3\n",
      "[1] 182  10\n",
      "[1] 182  10\n",
      "[1] 13 10\n",
      "[1] 13 10\n"
     ]
    }
   ],
   "source": [
    "## restrict to pbmc coloc genes\n",
    "comb_sig <- bind_rows(eqtl_sig, ibsep_sig) \n",
    "comb_sig <- comb_sig %>%\n",
    "    dplyr::filter(tissue!='neutrophil') %>% \n",
    "    arrange(closest_gene, symbol) %>%\n",
    "    dplyr::filter(!grepl('HLA-', closest_gene)) %>%\n",
    "    dplyr::filter(!grepl('HLA-', symbol))\n",
    "comb_sig_min <- comb_sig[,c('locus', 'closest_gene', 'symbol')] %>% distinct(closest_gene, symbol, .keep_all=TRUE)\n",
    "print(dim(comb_sig))\n",
    "print(dim(comb_sig_min))\n",
    "eqtl_res_wide = eqtl_res[,c('locus', 'closest_gene', 'symbol', 'tissue', 'PP.H4.abf')] %>%\n",
    "    dplyr::filter(!is.na(PP.H4.abf)) %>%\n",
    "    dplyr::group_by(locus, closest_gene, symbol, tissue) %>%\n",
    "    dplyr::slice(which.max(PP.H4.abf)) %>%\n",
    "    pivot_wider(names_from=tissue, values_from=PP.H4.abf, values_fill=0.0)\n",
    "ibsep_res_wide = ibsep_res[,c('locus', 'closest_gene', 'symbol', 'tissue', 'PP.H4.abf')] %>%\n",
    "    dplyr::filter(!is.na(PP.H4.abf)) %>%\n",
    "    dplyr::group_by(locus, closest_gene, symbol, tissue) %>%\n",
    "    dplyr::slice(which.max(PP.H4.abf)) %>%\n",
    "    pivot_wider(names_from=tissue, values_from=PP.H4.abf, values_fill=0.0)\n",
    "print(dim(eqtl_res_wide))\n",
    "print(dim(ibsep_res_wide))\n",
    "eqtl_comb_sig_wide = inner_join(comb_sig_min, eqtl_res_wide, by=c('locus', 'closest_gene', 'symbol'))\n",
    "ibsep_comb_sig_wide = inner_join(comb_sig_min, ibsep_res_wide, by=c('locus', 'closest_gene', 'symbol'))\n",
    "eqtl_comb_sig_wide <- eqtl_comb_sig_wide %>% \n",
    "    arrange(closest_gene, symbol) %>%\n",
    "    relocate(all_of(sort(colnames(eqtl_comb_sig_wide)[4:ncol(eqtl_comb_sig_wide)])), .after='symbol')\n",
    "ibsep_comb_sig_wide <- ibsep_comb_sig_wide %>% \n",
    "    arrange(closest_gene, symbol) %>%\n",
    "    relocate(all_of(sort(colnames(ibsep_comb_sig_wide)[4:ncol(ibsep_comb_sig_wide)])), .after='symbol')\n",
    "print(dim(eqtl_comb_sig_wide))\n",
    "print(dim(ibsep_comb_sig_wide))"
   ]
  },
  {
   "cell_type": "code",
   "execution_count": 10,
   "id": "6a5c0767-365e-41f1-9742-53381e1b52a4",
   "metadata": {},
   "outputs": [
    {
     "name": "stdout",
     "output_type": "stream",
     "text": [
      "[1] 87 22\n",
      "[1] 26  3\n",
      "[1] 208  17\n",
      "[1] 26 17\n"
     ]
    }
   ],
   "source": [
    "## 1k1k\n",
    "onek1k_sig <- onek1k_sig %>% arrange(closest_gene, symbol)\n",
    "onek1k_sig_min <- onek1k_sig[,c('locus', 'closest_gene', 'symbol')] %>% distinct()\n",
    "print(dim(onek1k_sig))\n",
    "print(dim(onek1k_sig_min))\n",
    "onek1k_res_wide = onek1k_res[,c('locus', 'closest_gene', 'symbol', 'tissue', 'PP.H4.abf')] %>%\n",
    "    dplyr::filter(!is.na(PP.H4.abf)) %>%\n",
    "    dplyr::group_by(locus, closest_gene, symbol, tissue) %>%\n",
    "    dplyr::slice(which.max(PP.H4.abf)) %>%\n",
    "    pivot_wider(names_from=tissue, values_from=PP.H4.abf, values_fill=0.0)\n",
    "print(dim(onek1k_res_wide))\n",
    "onek1k_sig_wide = inner_join(onek1k_sig_min, onek1k_res_wide, by=c('locus', 'closest_gene', 'symbol'))\n",
    "onek1k_sig_wide <- onek1k_sig_wide %>% \n",
    "    arrange(closest_gene, symbol) %>%\n",
    "    relocate(all_of(sort(colnames(onek1k_sig_wide)[4:17])), .after='symbol')\n",
    "print(dim(onek1k_sig_wide))"
   ]
  },
  {
   "cell_type": "code",
   "execution_count": 11,
   "id": "261bbb02-e602-49d2-abab-0d35d7be09dc",
   "metadata": {},
   "outputs": [
    {
     "name": "stdout",
     "output_type": "stream",
     "text": [
      "[1]  7 22\n",
      "[1] 7 3\n",
      "[1] 170   4\n",
      "[1] 7 4\n"
     ]
    }
   ],
   "source": [
    "## blueprint\n",
    "bp_sig <- bp_sig %>% arrange(closest_gene, symbol)\n",
    "bp_sig_min <- bp_sig[,c('locus', 'closest_gene', 'symbol')] %>% distinct()\n",
    "print(dim(bp_sig))\n",
    "print(dim(bp_sig_min))\n",
    "bp_res_wide = bp_res[,c('locus', 'closest_gene', 'symbol', 'tissue', 'PP.H4.abf')] %>%\n",
    "    dplyr::filter(!is.na(PP.H4.abf)) %>%\n",
    "    dplyr::group_by(locus, closest_gene, symbol, tissue) %>%\n",
    "    dplyr::slice(which.max(PP.H4.abf)) %>%\n",
    "    pivot_wider(names_from=tissue, values_from=PP.H4.abf, values_fill=0.0)\n",
    "print(dim(bp_res_wide))\n",
    "bp_sig_wide = inner_join(bp_sig_min, bp_res_wide, by=c('locus', 'closest_gene', 'symbol'))\n",
    "bp_sig_wide <- bp_sig_wide %>% \n",
    "    arrange(closest_gene, symbol)\n",
    "print(dim(bp_sig_wide))"
   ]
  },
  {
   "cell_type": "code",
   "execution_count": 12,
   "id": "605f612e-c77f-4efd-b9bd-79d075dfa791",
   "metadata": {},
   "outputs": [],
   "source": [
    "eqtl_comb_sig_wide <- eqtl_comb_sig_wide %>%\n",
    "    dplyr::filter(!grepl('ENSG', closest_gene)) %>%\n",
    "    dplyr::filter(!grepl('ENSG', symbol))\n",
    "ibsep_comb_sig_wide <- ibsep_comb_sig_wide %>%\n",
    "    dplyr::filter(!grepl('ENSG', closest_gene)) %>%\n",
    "    dplyr::filter(!grepl('ENSG', symbol))"
   ]
  },
  {
   "cell_type": "code",
   "execution_count": 13,
   "id": "53321292-1bb8-4fb2-af61-53beb3736af1",
   "metadata": {},
   "outputs": [
    {
     "data": {
      "text/html": [
       "<style>\n",
       ".list-inline {list-style: none; margin:0; padding: 0}\n",
       ".list-inline>li {display: inline-block}\n",
       ".list-inline>li:not(:last-child)::after {content: \"\\00b7\"; padding: 0 .5ex}\n",
       "</style>\n",
       "<ol class=list-inline><li>13</li><li>7</li></ol>\n"
      ],
      "text/latex": [
       "\\begin{enumerate*}\n",
       "\\item 13\n",
       "\\item 7\n",
       "\\end{enumerate*}\n"
      ],
      "text/markdown": [
       "1. 13\n",
       "2. 7\n",
       "\n",
       "\n"
      ],
      "text/plain": [
       "[1] 13  7"
      ]
     },
     "metadata": {},
     "output_type": "display_data"
    }
   ],
   "source": [
    "mat = matrix(nrow=nrow(eqtl_comb_sig_wide), ncol=7)\n",
    "fun1 <- function(x, y, loc, gene, sym, sub_cts){\n",
    "    if((x>0.7) & (y>0.7)){\n",
    "        z = 1\n",
    "    }else if((x>0.7) & (y<=0.7)){\n",
    "        z = 2\n",
    "    }else if((x<=0.7) & (y>0.7)){\n",
    "        z = 3\n",
    "    }else{\n",
    "        z = 0\n",
    "    }\n",
    "    l = c()\n",
    "    for(sub_ct in sub_cts){\n",
    "        tmp = onek1k_sig_wide[(onek1k_sig_wide$locus==loc) & (onek1k_sig_wide$closest_gene==gene) & (onek1k_sig_wide$symbol==sym)]\n",
    "        if(nrow(tmp) > 0){\n",
    "            v = tmp[[sub_ct]]\n",
    "            if(!is.na(v)){\n",
    "                l = c(l, v)\n",
    "            }\n",
    "        }\n",
    "    }\n",
    "    \n",
    "    if(length(l)>0){\n",
    "        if(max(l)>0.7){\n",
    "            z = z*10\n",
    "        }\n",
    "    }\n",
    "    return(z)\n",
    "}\n",
    "fun2 <- function(x, y, loc, gene, sym){\n",
    "    if((x>0.7) & (y>0.7)){\n",
    "        z = 1\n",
    "    }else if((x>0.7) & (y<=0.7)){\n",
    "        z = 2\n",
    "    }else if((x<=0.7) & (y>0.7)){\n",
    "        z = 3\n",
    "    }else{\n",
    "        z = 0\n",
    "    }\n",
    "    tmp = bp_sig_wide[(bp_sig_wide$locus==loc) & (bp_sig_wide$closest_gene==gene) & (bp_sig_wide$symbol==sym)]\n",
    "    if(nrow(tmp)>0){\n",
    "        if(tmp[['neutrophil']]>0.7){\n",
    "            z = z*10\n",
    "        }\n",
    "    }\n",
    "    return(z)\n",
    "}\n",
    "mat1 = as.matrix(eqtl_comb_sig_wide[,c(4:10)])\n",
    "mat2 = as.matrix(ibsep_comb_sig_wide[,c(4:10)])\n",
    "for(i in 1:nrow(mat)){\n",
    "    for(j in 1:ncol(mat)){\n",
    "        loc = eqtl_comb_sig_wide$locus[i]\n",
    "        gene = eqtl_comb_sig_wide$closest_gene[i]\n",
    "        sym = eqtl_comb_sig_wide$symbol[i]\n",
    "        ct = colnames(eqtl_comb_sig_wide)[3+j]\n",
    "        if(ct == 'neutrophil'){\n",
    "            mat[i,j] = fun2(mat1[i,j], mat2[i,j], loc, gene, sym)\n",
    "        }else{\n",
    "            sub_cts = celltype_map[[ct]]\n",
    "            mat[i,j] = fun1(mat1[i,j], mat2[i,j], loc, gene, sym, sub_cts)\n",
    "        }\n",
    "    }\n",
    "}\n",
    "dim(mat)"
   ]
  },
  {
   "cell_type": "code",
   "execution_count": 17,
   "id": "f4dd5974-5442-4d6f-aa57-06c7cd912775",
   "metadata": {},
   "outputs": [
    {
     "data": {
      "image/png": "[encoded data removed]",
      "text/plain": [
       "plot without title"
      ]
     },
     "metadata": {
      "image/png": {
       "height": 540,
       "width": 600
      }
     },
     "output_type": "display_data"
    }
   ],
   "source": [
    "## hij=1e-4\n",
    "mat_reorder = mat[,c(1,2,3,7,5,4,6)]\n",
    "options(repr.matrix.max.cols=100, repr.matrix.max.rows=100)\n",
    "options(repr.plot.width=4, repr.plot.height=3.6, repr.plot.res=300)\n",
    "col_fun = colorRamp2(c(0, 1, 2, 3), c(\"grey\", \"red\", \"green\", \"blue\"))\n",
    "colors = structure(c(\"#FFFFFF\", \"#FF6666\", \"#00CC66\", \"#9999FF\"), names = c(0,1,2,3))\n",
    "text_color = '#FFFFFF'\n",
    "split = eqtl_comb_sig_wide$closest_gene\n",
    "text = as.list(unique(split))\n",
    "names(text) = unique(split)\n",
    "w = ncol(mat)*unit(5, \"mm\")\n",
    "h = nrow(mat)*unit(5, \"mm\")\n",
    "ht = Heatmap(mat_reorder, col=colors, rect_gp = gpar(type = \"none\"),\n",
    "        cluster_rows = FALSE, cluster_columns = FALSE,\n",
    "        cell_fun = function(j, i, x, y, width, height, fill) {\n",
    "            c_idx = ifelse(mat_reorder[i,j]<10, mat_reorder[i, j]+1, as.integer(mat_reorder[i,j]/10)+1)\n",
    "            grid.rect(x = x, y = y, width = unit(4.6, 'mm'), height = unit(4.6, 'mm'),\n",
    "                     gp = gpar(fill = '#E0E0E0', col = NA))\n",
    "           grid.circle(x = x, y = y, r = unit(1.8, \"mm\"), \n",
    "                gp = gpar(fill = colors[c_idx], col = NA))\n",
    "            if(mat_reorder[i,j]>=10){\n",
    "                grid.text('+', x=x, y=unit(as.numeric(y)*1, 'npc'), gp=gpar(col=text_color))\n",
    "            }\n",
    "           },\n",
    "        right_annotation=rowAnnotation(labels = anno_text(eqtl_comb_sig_wide$symbol, which='row'), gp = gpar(fontsize = 8)),\n",
    "        top_annotation=columnAnnotation(labels = anno_text(c(sorted_cell_names, 'Neutrophil'), \n",
    "                                                              which='column', just='left', location=unit(0, 'npc')), gp = gpar(fontsize = 10)),\n",
    "         column_names_side = c(\"top\"),\n",
    "        row_title_gp = gpar(fontsize = 12),\n",
    "        row_title_rot = 0,\n",
    "       width = w, height = h,\n",
    "       row_split=split,\n",
    "        row_title=NULL,\n",
    "        left_annotation = rowAnnotation(Locus = anno_textbox(split, text, side='left')),\n",
    "       column_gap = unit(0, \"mm\"), border = FALSE,\n",
    "       show_column_names=TRUE, show_heatmap_legend=FALSE,\n",
    "       heatmap_legend_param = list(title='', \n",
    "                                   labels=c('Null', 'Shared', 'Only single cell', 'Only IBSEP'),\n",
    "                                   grid_height = unit(5, \"mm\"), grid_width = unit(5, \"mm\"),\n",
    "                                   labels_gp = gpar(fontsize = 14))\n",
    "        )\n",
    "draw(ht)"
   ]
  }
 ],
 "metadata": {
  "kernelspec": {
   "display_name": "R",
   "language": "R",
   "name": "ir"
  },
  "language_info": {
   "codemirror_mode": "r",
   "file_extension": ".r",
   "mimetype": "text/x-r-source",
   "name": "R",
   "pygments_lexer": "r",
   "version": "4.3.2"
  }
 },
 "nbformat": 4,
 "nbformat_minor": 5
}
