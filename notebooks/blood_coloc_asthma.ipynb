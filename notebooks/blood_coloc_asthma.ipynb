{
 "cells": [
  {
   "cell_type": "code",
   "execution_count": null,
   "id": "a9c2609a-9793-4d23-8674-a1ecb557c1c0",
   "metadata": {},
   "outputs": [],
   "source": [
    "library(coloc)\n",
    "library(LDlinkR)\n",
    "library(tidyverse)\n",
    "library(data.table)\n",
    "library(parallel)\n",
    "library(GenomicRanges)\n",
    "library(rtracklayer)\n",
    "library(locuszoomr)\n",
    "library(EnsDb.Hsapiens.v75)\n",
    "library(ggpubr)\n",
    "library(cowplot)\n",
    "library(ComplexHeatmap)\n",
    "library(circlize)\n",
    "library(gridExtra)\n",
    "library(cowplot)\n",
    "library(patchwork)"
   ]
  },
  {
   "cell_type": "code",
   "execution_count": 3,
   "id": "a78412e0-cae9-4d1c-a851-3aefe805220e",
   "metadata": {},
   "outputs": [
    {
     "name": "stdout",
     "output_type": "stream",
     "text": [
      "[1] 5121    3\n"
     ]
    },
    {
     "data": {
      "text/html": [
       "<table class=\"dataframe\">\n",
       "<caption>A data.table: 6 × 3</caption>\n",
       "<thead>\n",
       "\t<tr><th scope=col>GENEID</th><th scope=col>GENENAME</th><th scope=col>MOLID</th></tr>\n",
       "\t<tr><th scope=col>&lt;chr&gt;</th><th scope=col>&lt;chr&gt;</th><th scope=col>&lt;chr&gt;</th></tr>\n",
       "</thead>\n",
       "<tbody>\n",
       "\t<tr><td>ENSG00000188976</td><td>NOC2L  </td><td>ILMN_1792820</td></tr>\n",
       "\t<tr><td>ENSG00000187608</td><td>ISG15  </td><td>ILMN_2054019</td></tr>\n",
       "\t<tr><td>ENSG00000186827</td><td>TNFRSF4</td><td>ILMN_1710204</td></tr>\n",
       "\t<tr><td>ENSG00000078808</td><td>SDF4   </td><td>ILMN_1696065</td></tr>\n",
       "\t<tr><td>ENSG00000131584</td><td>ACAP3  </td><td>ILMN_1743847</td></tr>\n",
       "\t<tr><td>ENSG00000127054</td><td>CPSF3L </td><td>ILMN_1718013</td></tr>\n",
       "</tbody>\n",
       "</table>\n"
      ],
      "text/latex": [
       "A data.table: 6 × 3\n",
       "\\begin{tabular}{lll}\n",
       " GENEID & GENENAME & MOLID\\\\\n",
       " <chr> & <chr> & <chr>\\\\\n",
       "\\hline\n",
       "\t ENSG00000188976 & NOC2L   & ILMN\\_1792820\\\\\n",
       "\t ENSG00000187608 & ISG15   & ILMN\\_2054019\\\\\n",
       "\t ENSG00000186827 & TNFRSF4 & ILMN\\_1710204\\\\\n",
       "\t ENSG00000078808 & SDF4    & ILMN\\_1696065\\\\\n",
       "\t ENSG00000131584 & ACAP3   & ILMN\\_1743847\\\\\n",
       "\t ENSG00000127054 & CPSF3L  & ILMN\\_1718013\\\\\n",
       "\\end{tabular}\n"
      ],
      "text/markdown": [
       "\n",
       "A data.table: 6 × 3\n",
       "\n",
       "| GENEID &lt;chr&gt; | GENENAME &lt;chr&gt; | MOLID &lt;chr&gt; |\n",
       "|---|---|---|\n",
       "| ENSG00000188976 | NOC2L   | ILMN_1792820 |\n",
       "| ENSG00000187608 | ISG15   | ILMN_2054019 |\n",
       "| ENSG00000186827 | TNFRSF4 | ILMN_1710204 |\n",
       "| ENSG00000078808 | SDF4    | ILMN_1696065 |\n",
       "| ENSG00000131584 | ACAP3   | ILMN_1743847 |\n",
       "| ENSG00000127054 | CPSF3L  | ILMN_1718013 |\n",
       "\n"
      ],
      "text/plain": [
       "  GENEID          GENENAME MOLID       \n",
       "1 ENSG00000188976 NOC2L    ILMN_1792820\n",
       "2 ENSG00000187608 ISG15    ILMN_2054019\n",
       "3 ENSG00000186827 TNFRSF4  ILMN_1710204\n",
       "4 ENSG00000078808 SDF4     ILMN_1696065\n",
       "5 ENSG00000131584 ACAP3    ILMN_1743847\n",
       "6 ENSG00000127054 CPSF3L   ILMN_1718013"
      ]
     },
     "metadata": {},
     "output_type": "display_data"
    }
   ],
   "source": [
    "gene_id_name = fread('/data2/xiaojiashun/eQTL/data/blood_data/1M_neutro2015/merged_sumstats/gene_randmol_lookup.csv', sep='\\t')\n",
    "print(dim(gene_id_name))\n",
    "head(gene_id_name)"
   ]
  },
  {
   "cell_type": "code",
   "execution_count": 4,
   "id": "b95636cf-e4c7-4532-9c07-566e44f9466c",
   "metadata": {},
   "outputs": [],
   "source": [
    "celltype_map = list(B=c('bin', 'bmem', 'plasma'),\n",
    "                    CD4T=c('cd4et', 'cd4nc', 'cd4sox4'),\n",
    "                    CD8T=c('cd8et', 'cd8nc', 'cd8s100b'),\n",
    "                    NK=c('nk', 'nkr'),\n",
    "                    monocyte=c('monoc', 'mononc'),\n",
    "                    DC=c('dc'))\n",
    "sorted_cell_names = c('B', 'CD4', 'CD8', 'NK', 'Monocyte', 'DC')"
   ]
  },
  {
   "cell_type": "markdown",
   "id": "62bbe476-843b-4f7e-9a44-e7672699bff7",
   "metadata": {},
   "source": [
    "# Asthma"
   ]
  },
  {
   "cell_type": "markdown",
   "id": "12923c38-4545-42eb-90e3-510c37997055",
   "metadata": {},
   "source": [
    "## Run coloc"
   ]
  },
  {
   "cell_type": "code",
   "execution_count": 5,
   "id": "29a7ec1d-efc0-4fb4-89d7-c30b38522b08",
   "metadata": {},
   "outputs": [
    {
     "data": {
      "text/html": [
       "<style>\n",
       ".list-inline {list-style: none; margin:0; padding: 0}\n",
       ".list-inline>li {display: inline-block}\n",
       ".list-inline>li:not(:last-child)::after {content: \"\\00b7\"; padding: 0 .5ex}\n",
       "</style>\n",
       "<ol class=list-inline><li>12556648</li><li>8</li></ol>\n"
      ],
      "text/latex": [
       "\\begin{enumerate*}\n",
       "\\item 12556648\n",
       "\\item 8\n",
       "\\end{enumerate*}\n"
      ],
      "text/markdown": [
       "1. 12556648\n",
       "2. 8\n",
       "\n",
       "\n"
      ],
      "text/plain": [
       "[1] 12556648        8"
      ]
     },
     "metadata": {},
     "output_type": "display_data"
    },
    {
     "data": {
      "text/html": [
       "<table class=\"dataframe\">\n",
       "<caption>A data.table: 6 × 8</caption>\n",
       "<thead>\n",
       "\t<tr><th scope=col>variant_id</th><th scope=col>p_value</th><th scope=col>chr</th><th scope=col>bp_b37</th><th scope=col>effect_allele</th><th scope=col>other_allele</th><th scope=col>beta</th><th scope=col>se</th></tr>\n",
       "\t<tr><th scope=col>&lt;chr&gt;</th><th scope=col>&lt;dbl&gt;</th><th scope=col>&lt;chr&gt;</th><th scope=col>&lt;int&gt;</th><th scope=col>&lt;chr&gt;</th><th scope=col>&lt;chr&gt;</th><th scope=col>&lt;dbl&gt;</th><th scope=col>&lt;dbl&gt;</th></tr>\n",
       "</thead>\n",
       "<tbody>\n",
       "\t<tr><td>rs12238997 </td><td>0.598620</td><td>chr1</td><td>693731</td><td>G</td><td>A</td><td>-0.000658550</td><td>0.00125108</td></tr>\n",
       "\t<tr><td>rs371890604</td><td>0.354940</td><td>chr1</td><td>707522</td><td>C</td><td>G</td><td>-0.001301040</td><td>0.00140646</td></tr>\n",
       "\t<tr><td>rs144155419</td><td>0.859182</td><td>chr1</td><td>717587</td><td>A</td><td>G</td><td>-0.000595435</td><td>0.00335617</td></tr>\n",
       "\t<tr><td>rs189787166</td><td>0.254175</td><td>chr1</td><td>723329</td><td>T</td><td>A</td><td> 0.011290200</td><td>0.00990139</td></tr>\n",
       "\t<tr><td>rs148120343</td><td>0.323018</td><td>chr1</td><td>730087</td><td>C</td><td>T</td><td>-0.001722490</td><td>0.00174293</td></tr>\n",
       "\t<tr><td>rs58276399 </td><td>0.257021</td><td>chr1</td><td>731718</td><td>C</td><td>T</td><td>-0.001344870</td><td>0.00118652</td></tr>\n",
       "</tbody>\n",
       "</table>\n"
      ],
      "text/latex": [
       "A data.table: 6 × 8\n",
       "\\begin{tabular}{llllllll}\n",
       " variant\\_id & p\\_value & chr & bp\\_b37 & effect\\_allele & other\\_allele & beta & se\\\\\n",
       " <chr> & <dbl> & <chr> & <int> & <chr> & <chr> & <dbl> & <dbl>\\\\\n",
       "\\hline\n",
       "\t rs12238997  & 0.598620 & chr1 & 693731 & G & A & -0.000658550 & 0.00125108\\\\\n",
       "\t rs371890604 & 0.354940 & chr1 & 707522 & C & G & -0.001301040 & 0.00140646\\\\\n",
       "\t rs144155419 & 0.859182 & chr1 & 717587 & A & G & -0.000595435 & 0.00335617\\\\\n",
       "\t rs189787166 & 0.254175 & chr1 & 723329 & T & A &  0.011290200 & 0.00990139\\\\\n",
       "\t rs148120343 & 0.323018 & chr1 & 730087 & C & T & -0.001722490 & 0.00174293\\\\\n",
       "\t rs58276399  & 0.257021 & chr1 & 731718 & C & T & -0.001344870 & 0.00118652\\\\\n",
       "\\end{tabular}\n"
      ],
      "text/markdown": [
       "\n",
       "A data.table: 6 × 8\n",
       "\n",
       "| variant_id &lt;chr&gt; | p_value &lt;dbl&gt; | chr &lt;chr&gt; | bp_b37 &lt;int&gt; | effect_allele &lt;chr&gt; | other_allele &lt;chr&gt; | beta &lt;dbl&gt; | se &lt;dbl&gt; |\n",
       "|---|---|---|---|---|---|---|---|\n",
       "| rs12238997  | 0.598620 | chr1 | 693731 | G | A | -0.000658550 | 0.00125108 |\n",
       "| rs371890604 | 0.354940 | chr1 | 707522 | C | G | -0.001301040 | 0.00140646 |\n",
       "| rs144155419 | 0.859182 | chr1 | 717587 | A | G | -0.000595435 | 0.00335617 |\n",
       "| rs189787166 | 0.254175 | chr1 | 723329 | T | A |  0.011290200 | 0.00990139 |\n",
       "| rs148120343 | 0.323018 | chr1 | 730087 | C | T | -0.001722490 | 0.00174293 |\n",
       "| rs58276399  | 0.257021 | chr1 | 731718 | C | T | -0.001344870 | 0.00118652 |\n",
       "\n"
      ],
      "text/plain": [
       "  variant_id  p_value  chr  bp_b37 effect_allele other_allele beta        \n",
       "1 rs12238997  0.598620 chr1 693731 G             A            -0.000658550\n",
       "2 rs371890604 0.354940 chr1 707522 C             G            -0.001301040\n",
       "3 rs144155419 0.859182 chr1 717587 A             G            -0.000595435\n",
       "4 rs189787166 0.254175 chr1 723329 T             A             0.011290200\n",
       "5 rs148120343 0.323018 chr1 730087 C             T            -0.001722490\n",
       "6 rs58276399  0.257021 chr1 731718 C             T            -0.001344870\n",
       "  se        \n",
       "1 0.00125108\n",
       "2 0.00140646\n",
       "3 0.00335617\n",
       "4 0.00990139\n",
       "5 0.00174293\n",
       "6 0.00118652"
      ]
     },
     "metadata": {},
     "output_type": "display_data"
    }
   ],
   "source": [
    "sumstats <- fread('/data2/xiaojiashun/eQTL/data/blood_coloc/gwas/Asthma_ukb.csv') %>% \n",
    "  mutate(CHR=paste0('chr', chr)) %>% \n",
    "  dplyr::filter(!is.na(pval)) %>% \n",
    "  dplyr::select(variant_id=rsid,p_value=pval,chr=CHR,bp_b37=pos,effect_allele=alt,other_allele=ref,beta,se)\n",
    "dim(sumstats)\n",
    "head(sumstats)"
   ]
  },
  {
   "cell_type": "code",
   "execution_count": 6,
   "id": "c166a546-7371-4887-8596-87f1b03ed1c6",
   "metadata": {},
   "outputs": [
    {
     "data": {
      "text/html": [
       "<style>\n",
       ".list-inline {list-style: none; margin:0; padding: 0}\n",
       ".list-inline>li {display: inline-block}\n",
       ".list-inline>li:not(:last-child)::after {content: \"\\00b7\"; padding: 0 .5ex}\n",
       "</style>\n",
       "<ol class=list-inline><li>84</li><li>8</li></ol>\n"
      ],
      "text/latex": [
       "\\begin{enumerate*}\n",
       "\\item 84\n",
       "\\item 8\n",
       "\\end{enumerate*}\n"
      ],
      "text/markdown": [
       "1. 84\n",
       "2. 8\n",
       "\n",
       "\n"
      ],
      "text/plain": [
       "[1] 84  8"
      ]
     },
     "metadata": {},
     "output_type": "display_data"
    },
    {
     "data": {
      "text/html": [
       "<table class=\"dataframe\">\n",
       "<caption>A data.table: 6 × 8</caption>\n",
       "<thead>\n",
       "\t<tr><th scope=col>GWAS_snp</th><th scope=col>GWAS_snp_pos</th><th scope=col>locus_name</th><th scope=col>chrom</th><th scope=col>start</th><th scope=col>end</th><th scope=col>locus_name_gene</th><th scope=col>beta_top_GWAS</th></tr>\n",
       "\t<tr><th scope=col>&lt;chr&gt;</th><th scope=col>&lt;chr&gt;</th><th scope=col>&lt;chr&gt;</th><th scope=col>&lt;chr&gt;</th><th scope=col>&lt;int&gt;</th><th scope=col>&lt;int&gt;</th><th scope=col>&lt;chr&gt;</th><th scope=col>&lt;dbl&gt;</th></tr>\n",
       "</thead>\n",
       "<tbody>\n",
       "\t<tr><td>rs301819  </td><td>chr1:8501786  </td><td>chr1:8352039_8901391    </td><td>chr1</td><td>  8352039</td><td>  8901391</td><td>RERE   </td><td> 0.00464734</td></tr>\n",
       "\t<tr><td>rs2230624 </td><td>chr1:12175658 </td><td>chr1:11942819_12268630  </td><td>chr1</td><td> 11942819</td><td> 12268630</td><td>TNFRSF8</td><td>-0.01923240</td></tr>\n",
       "\t<tr><td>rs12123821</td><td>chr1:152179152</td><td>chr1:151679708_152611429</td><td>chr1</td><td>151679708</td><td>152611429</td><td>HRNR   </td><td> 0.02008810</td></tr>\n",
       "\t<tr><td>rs2949669 </td><td>chr1:167417884</td><td>chr1:167179419_167439010</td><td>chr1</td><td>167179419</td><td>167439010</td><td>CD247  </td><td>-0.00587340</td></tr>\n",
       "\t<tr><td>rs1102705 </td><td>chr1:172700868</td><td>chr1:172680465_173095634</td><td>chr1</td><td>172680465</td><td>173095634</td><td>FASLG  </td><td>-0.00724778</td></tr>\n",
       "\t<tr><td>rs10912564</td><td>chr1:173170618</td><td>chr1:173116350_173256550</td><td>chr1</td><td>173116350</td><td>173256550</td><td>TNFSF4 </td><td> 0.00477168</td></tr>\n",
       "</tbody>\n",
       "</table>\n"
      ],
      "text/latex": [
       "A data.table: 6 × 8\n",
       "\\begin{tabular}{llllllll}\n",
       " GWAS\\_snp & GWAS\\_snp\\_pos & locus\\_name & chrom & start & end & locus\\_name\\_gene & beta\\_top\\_GWAS\\\\\n",
       " <chr> & <chr> & <chr> & <chr> & <int> & <int> & <chr> & <dbl>\\\\\n",
       "\\hline\n",
       "\t rs301819   & chr1:8501786   & chr1:8352039\\_8901391     & chr1 &   8352039 &   8901391 & RERE    &  0.00464734\\\\\n",
       "\t rs2230624  & chr1:12175658  & chr1:11942819\\_12268630   & chr1 &  11942819 &  12268630 & TNFRSF8 & -0.01923240\\\\\n",
       "\t rs12123821 & chr1:152179152 & chr1:151679708\\_152611429 & chr1 & 151679708 & 152611429 & HRNR    &  0.02008810\\\\\n",
       "\t rs2949669  & chr1:167417884 & chr1:167179419\\_167439010 & chr1 & 167179419 & 167439010 & CD247   & -0.00587340\\\\\n",
       "\t rs1102705  & chr1:172700868 & chr1:172680465\\_173095634 & chr1 & 172680465 & 173095634 & FASLG   & -0.00724778\\\\\n",
       "\t rs10912564 & chr1:173170618 & chr1:173116350\\_173256550 & chr1 & 173116350 & 173256550 & TNFSF4  &  0.00477168\\\\\n",
       "\\end{tabular}\n"
      ],
      "text/markdown": [
       "\n",
       "A data.table: 6 × 8\n",
       "\n",
       "| GWAS_snp &lt;chr&gt; | GWAS_snp_pos &lt;chr&gt; | locus_name &lt;chr&gt; | chrom &lt;chr&gt; | start &lt;int&gt; | end &lt;int&gt; | locus_name_gene &lt;chr&gt; | beta_top_GWAS &lt;dbl&gt; |\n",
       "|---|---|---|---|---|---|---|---|\n",
       "| rs301819   | chr1:8501786   | chr1:8352039_8901391     | chr1 |   8352039 |   8901391 | RERE    |  0.00464734 |\n",
       "| rs2230624  | chr1:12175658  | chr1:11942819_12268630   | chr1 |  11942819 |  12268630 | TNFRSF8 | -0.01923240 |\n",
       "| rs12123821 | chr1:152179152 | chr1:151679708_152611429 | chr1 | 151679708 | 152611429 | HRNR    |  0.02008810 |\n",
       "| rs2949669  | chr1:167417884 | chr1:167179419_167439010 | chr1 | 167179419 | 167439010 | CD247   | -0.00587340 |\n",
       "| rs1102705  | chr1:172700868 | chr1:172680465_173095634 | chr1 | 172680465 | 173095634 | FASLG   | -0.00724778 |\n",
       "| rs10912564 | chr1:173170618 | chr1:173116350_173256550 | chr1 | 173116350 | 173256550 | TNFSF4  |  0.00477168 |\n",
       "\n"
      ],
      "text/plain": [
       "  GWAS_snp   GWAS_snp_pos   locus_name               chrom start     end      \n",
       "1 rs301819   chr1:8501786   chr1:8352039_8901391     chr1    8352039   8901391\n",
       "2 rs2230624  chr1:12175658  chr1:11942819_12268630   chr1   11942819  12268630\n",
       "3 rs12123821 chr1:152179152 chr1:151679708_152611429 chr1  151679708 152611429\n",
       "4 rs2949669  chr1:167417884 chr1:167179419_167439010 chr1  167179419 167439010\n",
       "5 rs1102705  chr1:172700868 chr1:172680465_173095634 chr1  172680465 173095634\n",
       "6 rs10912564 chr1:173170618 chr1:173116350_173256550 chr1  173116350 173256550\n",
       "  locus_name_gene beta_top_GWAS\n",
       "1 RERE             0.00464734  \n",
       "2 TNFRSF8         -0.01923240  \n",
       "3 HRNR             0.02008810  \n",
       "4 CD247           -0.00587340  \n",
       "5 FASLG           -0.00724778  \n",
       "6 TNFSF4           0.00477168  "
      ]
     },
     "metadata": {},
     "output_type": "display_data"
    }
   ],
   "source": [
    "if(file.exists('/data2/xiaojiashun/eQTL/data/blood_coloc/gwas/asthma/loci_LDlinkR.r2.0.1.EUR.txt')){\n",
    "    loci <- fread('/data2/xiaojiashun/eQTL/data/blood_coloc/gwas/asthma/loci_LDlinkR.r2.0.1.EUR.txt', sep='\\t')\n",
    "}\n",
    "closest <- fread(paste0('/data2/xiaojiashun/eQTL/data/blood_coloc/gwas/asthma/closest.protein.coding.bed'),sep='\\t', header=FALSE) %>% \n",
    "  setNames(c('chr_snp','start_snp','end_snp','GWAS_snp','beta','chr_gene','start_gene','end_gene','gene','distance')) %>% \n",
    "  mutate(GWAS_snp_pos=paste0(chr_snp,':',start_snp)) %>% \n",
    "  dplyr::select(GWAS_snp,GWAS_snp_pos,gene,beta,distance) %>% \n",
    "  separate(gene,into=c('symbol','ensembl'),sep='_') %>% \n",
    "  add_count(GWAS_snp) %>% \n",
    "  group_by(GWAS_snp) %>% \n",
    "  mutate(locus_name_gene=ifelse(n==1,symbol,paste0(symbol,collapse=' - '))) %>% \n",
    "  ungroup() %>% \n",
    "  dplyr::select(GWAS_snp_pos,locus_name_gene,beta_top_GWAS=beta) %>% \n",
    "  unique() %>% arrange(-abs(beta_top_GWAS))\n",
    "loci <- left_join(loci,closest,by='GWAS_snp_pos')\n",
    "dim(loci)\n",
    "head(loci)"
   ]
  },
  {
   "cell_type": "markdown",
   "id": "0fbea55c-ce7a-4148-801e-c1894d30c6c7",
   "metadata": {},
   "source": [
    "### PBMC and neutrophil"
   ]
  },
  {
   "cell_type": "code",
   "execution_count": 82,
   "id": "a840a8e0-5d77-4e85-ba80-0297fdf19dad",
   "metadata": {},
   "outputs": [],
   "source": [
    "prepare_eqtl_ibsep <- function(dirname,ibsep_name,chrom_locus,sumstats_locus){\n",
    "  # eqtl&ibsep\n",
    "  file <- sprintf('%s/%s/%s.csv', dirname, chrom_locus, ibsep_name)\n",
    "  eqtl <- data.table::fread(file, header=TRUE, nThread=1) %>%\n",
    "    inner_join(.,gene_id_name[,c('MOLID', 'GENENAME')],by='MOLID') %>%\n",
    "    dplyr::select(gene_id=GENEID, gene=GENENAME, SNP, A1, A2, p_eqtl=PVAL, beta_eqtl=BETA, se_eqtl=SE, PVAL_BLUE, BETA_BLUE, SE_BLUE) %>%\n",
    "    inner_join(.,sumstats_locus[,c('variant_id','effect_allele','other_allele','SNP_id_hg19')],\n",
    "               by=join_by(SNP==variant_id), multiple='first')\n",
    "  message(nrow(sumstats_locus))\n",
    "  message(nrow(eqtl))\n",
    "  eqtl <- eqtl %>%\n",
    "    dplyr::filter(((A1==effect_allele)&(A2==other_allele)) | ((A2==effect_allele)&(A1==other_allele))) %>%\n",
    "    dplyr::select(gene_id, gene, SNP, SNP_id_hg19, effect_allele=A2, other_allele=A1, p_eqtl, beta_eqtl, se_eqtl, PVAL_BLUE, BETA_BLUE, SE_BLUE)\n",
    "  eqtl <- eqtl[(is.na(eqtl$BETA_BLUE)==FALSE)&(is.na(eqtl$SE_BLUE)==FALSE),]\n",
    "  eqtl <- eqtl %>%\n",
    "    add_count(gene_id) %>%\n",
    "    dplyr::filter(n>10)\n",
    "  message(nrow(eqtl))\n",
    "\n",
    "  if(nrow(eqtl)==0){\n",
    "      message('nrow(eqtl)==0')\n",
    "  }\n",
    "    \n",
    "  return(eqtl)\n",
    "}"
   ]
  },
  {
   "cell_type": "code",
   "execution_count": 86,
   "id": "bad989aa-65e9-41a5-aaaf-20c530c81841",
   "metadata": {},
   "outputs": [],
   "source": [
    "## ibsep\n",
    "t0 = Sys.time()\n",
    "coloc_ibsep_results_all <- mclapply(1:nrow(loci),function(i){\n",
    "\n",
    "  #Get coordinates from the GWAS locus\n",
    "  chrom_locus <- loci$chrom[i]\n",
    "  start <- loci$start[i] %>% as.numeric()\n",
    "  end <- loci$end[i] %>% as.numeric()\n",
    "  \n",
    "  closest_gene_locus <- loci$locus_name_gene[i]\n",
    "  beta_top_GWAS_locus <- loci$beta_top_GWAS[i]\n",
    "  GWAS_snp_name <- loci$GWAS_snp[i]\n",
    "  GWAS_snp_pos_name <- loci$GWAS_snp_pos[i]\n",
    "\n",
    "  #Keep GWAS sumstats of SNPs in the locus\n",
    "  sumstats_locus <- dplyr::filter(sumstats,chr==chrom_locus) %>% \n",
    "    dplyr::filter(bp_b37>=start & bp_b37<=end) %>% \n",
    "    dplyr::mutate(SNP_id_hg19=paste0(chr,':',bp_b37))\n",
    "\n",
    "  #Preparing eQTL files - keeping SNPs from the eQTL data that match SNPs in the GWAS locus\n",
    "  pbmc_dir = '/data2/xiaojiashun/eQTL/data/blood_data/1M_neutro2015/merged_sumstats/omega_shrink_0.9_max_hsq_0.8'\n",
    "  neutro_dir = '/data2/xiaojiashun/eQTL/data/blood_data/1M_neutro2015/merged_sumstats/omega_shrink_0.9_max_hsq_0.8'\n",
    "  eqtl_b <- prepare_eqtl_ibsep(pbmc_dir, sprintf('allmols_B_blue_pval%s_tau1.0_truncorr', hij_thres),chrom_locus,sumstats_locus)\n",
    "  eqtl_cd4 <- prepare_eqtl_ibsep(pbmc_dir, sprintf('allmols_CD4T_blue_pval%s_tau1.0_truncorr', hij_thres),chrom_locus,sumstats_locus)\n",
    "  eqtl_cd8 <- prepare_eqtl_ibsep(pbmc_dir, sprintf('allmols_CD8T_blue_pval%s_tau1.0_truncorr', hij_thres),chrom_locus,sumstats_locus)\n",
    "  eqtl_nk <- prepare_eqtl_ibsep(pbmc_dir, sprintf('allmols_NK_blue_pval%s_tau1.0_truncorr', hij_thres),chrom_locus,sumstats_locus)\n",
    "  eqtl_mono <- prepare_eqtl_ibsep(pbmc_dir, sprintf('allmols_monocyte_blue_pval%s_tau1.0_truncorr', hij_thres),chrom_locus,sumstats_locus)\n",
    "  eqtl_dc <- prepare_eqtl_ibsep(pbmc_dir, sprintf('allmols_DC_blue_pval%s_tau1.0_truncorr', hij_thres),chrom_locus,sumstats_locus)\n",
    "  eqtl_neutro <- prepare_eqtl_ibsep(neutro_dir, sprintf('allmols_neutrophil_blue_pval%s_tau1.0_truncorr', hij_thres),chrom_locus,sumstats_locus)\n",
    "\n",
    "  #Running colocalization analysis\n",
    "  b_coloc <- run_coloc_ibsep(eqtl_b,'B',sumstats_locus)\n",
    "  cd4_coloc <- run_coloc_ibsep(eqtl_cd4,'CD4T',sumstats_locus)\n",
    "  cd8_coloc <- run_coloc_ibsep(eqtl_cd8,'CD8T',sumstats_locus)\n",
    "  nk_coloc <- run_coloc_ibsep(eqtl_nk,'NK',sumstats_locus)\n",
    "  mono_coloc <- run_coloc_ibsep(eqtl_mono,'monocyte',sumstats_locus)\n",
    "  dc_coloc <- run_coloc_ibsep(eqtl_dc,'DC',sumstats_locus)\n",
    "  neutro_coloc <- run_coloc_ibsep(eqtl_neutro,'neutrophil',sumstats_locus)\n",
    "  \n",
    "  pval_eqtl <- rbind(b_coloc,cd4_coloc,cd8_coloc,nk_coloc,mono_coloc,dc_coloc,neutro_coloc)\n",
    "  \n",
    "  if(!is.null(pval_eqtl)){\n",
    "    pval_eqtl <- pval_eqtl %>% \n",
    "      mutate(type='eQTL',\n",
    "           locus=loci$locus_name[i],\n",
    "           coloc_method='beta') %>% \n",
    "      mutate(closest_gene=closest_gene_locus,\n",
    "             beta_top_GWAS=beta_top_GWAS_locus,\n",
    "             GWAS_snp=GWAS_snp_name,\n",
    "             GWAS_snp_pos=GWAS_snp_pos_name)\n",
    "  }\n",
    "  results <- pval_eqtl \n",
    "  if(!is.null(results)){\n",
    "    results <- results %>% \n",
    "      arrange(-PP.H4.abf) %>% \n",
    "      dplyr::select(locus,closest_gene,GWAS_snp,GWAS_snp_pos,beta_top_GWAS,everything())\n",
    "  }\n",
    "  \n",
    "  return(results)\n",
    "},mc.cores = 20,mc.preschedule = FALSE)\n",
    "t1 = Sys.time()"
   ]
  },
  {
   "cell_type": "code",
   "execution_count": 87,
   "id": "4661d4e7-95ef-41ca-b1b8-3097ce2fd1c1",
   "metadata": {},
   "outputs": [
    {
     "data": {
      "text/plain": [
       "Time difference of 21.53669 secs"
      ]
     },
     "metadata": {},
     "output_type": "display_data"
    }
   ],
   "source": [
    "t1 - t0"
   ]
  },
  {
   "cell_type": "code",
   "execution_count": null,
   "id": "57ded664-2185-48a6-b507-776b17bb045a",
   "metadata": {},
   "outputs": [],
   "source": [
    "coloc_ibsep_results_all_success = list()\n",
    "n = 1\n",
    "for(i in 1:length(coloc_ibsep_results_all)){\n",
    "    if(!is.null(dim(coloc_ibsep_results_all[[i]]))==TRUE){\n",
    "        coloc_ibsep_results_all_success[[n]] = coloc_ibsep_results_all[[i]]\n",
    "        n = n + 1\n",
    "    }\n",
    "}\n",
    "length(coloc_ibsep_results_all_success)\n",
    "\n",
    "coloc_ibsep_results_all_df <- coloc_ibsep_results_all_success %>% \n",
    "  bind_rows() %>% \n",
    "  arrange(-PP.H4.abf) %>% \n",
    "  separate(gene,into=c('symbol','ensembl'),sep='_')\n",
    "dim(coloc_ibsep_results_all_df)\n",
    "\n",
    "fwrite(coloc_ibsep_results_all_df, sprintf('/data2/xiaojiashun/eQTL/data/blood_coloc/result_1M_neutro2015_hij%s/asthma_ibsep_pbmc_neutro.csv', hij_thres), sep='\\t')"
   ]
  },
  {
   "cell_type": "code",
   "execution_count": 89,
   "id": "cdf150ac-c76a-4ec1-8464-19085dc54f92",
   "metadata": {},
   "outputs": [],
   "source": [
    "## ori eqtl\n",
    "t0 = Sys.time()\n",
    "coloc_eqtl_results_all <- mclapply(1:nrow(loci),function(i){\n",
    "\n",
    "  #Get coordinates from the GWAS locus\n",
    "  chrom_locus <- loci$chrom[i]\n",
    "  start <- loci$start[i] %>% as.numeric()\n",
    "  end <- loci$end[i] %>% as.numeric()\n",
    "  \n",
    "  closest_gene_locus <- loci$locus_name_gene[i]\n",
    "  beta_top_GWAS_locus <- loci$beta_top_GWAS[i]\n",
    "  GWAS_snp_name <- loci$GWAS_snp[i]\n",
    "  GWAS_snp_pos_name <- loci$GWAS_snp_pos[i]\n",
    "\n",
    "  #Keep GWAS sumstats of SNPs in the locus\n",
    "  sumstats_locus <- dplyr::filter(sumstats,chr==chrom_locus) %>% \n",
    "    dplyr::filter(bp_b37>=start & bp_b37<=end) %>% \n",
    "    dplyr::mutate(SNP_id_hg19=paste0(chr,':',bp_b37))\n",
    "\n",
    "  #Preparing eQTL files - keeping SNPs from the eQTL data that match SNPs in the GWAS locus\n",
    "  pbmc_dir = '/data2/xiaojiashun/eQTL/data/blood_data/1M_neutro2015/merged_sumstats/omega_shrink_0.9_max_hsq_0.8'\n",
    "  neutro_dir = '/data2/xiaojiashun/eQTL/data/blood_data/1M_neutro2015/merged_sumstats/omega_shrink_0.9_max_hsq_0.8'\n",
    "  eqtl_b <- prepare_eqtl_ibsep(pbmc_dir, sprintf('allmols_B_blue_pval%s_tau1.0_truncorr', hij_thres),chrom_locus,sumstats_locus)\n",
    "  eqtl_cd4 <- prepare_eqtl_ibsep(pbmc_dir, sprintf('allmols_CD4T_blue_pval%s_tau1.0_truncorr', hij_thres),chrom_locus,sumstats_locus)\n",
    "  eqtl_cd8 <- prepare_eqtl_ibsep(pbmc_dir, sprintf('allmols_CD8T_blue_pval%s_tau1.0_truncorr', hij_thres),chrom_locus,sumstats_locus)\n",
    "  eqtl_nk <- prepare_eqtl_ibsep(pbmc_dir, sprintf('allmols_NK_blue_pval%s_tau1.0_truncorr', hij_thres),chrom_locus,sumstats_locus)\n",
    "  eqtl_mono <- prepare_eqtl_ibsep(pbmc_dir, sprintf('allmols_monocyte_blue_pval%s_tau1.0_truncorr', hij_thres),chrom_locus,sumstats_locus)\n",
    "  eqtl_dc <- prepare_eqtl_ibsep(pbmc_dir, sprintf('allmols_DC_blue_pval%s_tau1.0_truncorr', hij_thres),chrom_locus,sumstats_locus)\n",
    "  eqtl_neutro <- prepare_eqtl_ibsep(neutro_dir, sprintf('allmols_neutrophil_blue_pval%s_tau1.0_truncorr', hij_thres),chrom_locus,sumstats_locus)\n",
    "\n",
    "  #Running colocalization analysis\n",
    "  b_coloc <- run_coloc(eqtl_b,'B',sumstats_locus)\n",
    "  cd4_coloc <- run_coloc(eqtl_cd4,'CD4T',sumstats_locus)\n",
    "  cd8_coloc <- run_coloc(eqtl_cd8,'CD8T',sumstats_locus)\n",
    "  nk_coloc <- run_coloc(eqtl_nk,'NK',sumstats_locus)\n",
    "  mono_coloc <- run_coloc(eqtl_mono,'monocyte',sumstats_locus)\n",
    "  dc_coloc <- run_coloc(eqtl_dc,'DC',sumstats_locus)\n",
    "  neutro_coloc <- run_coloc(eqtl_neutro,'neutrophil',sumstats_locus)\n",
    "  \n",
    "  pval_eqtl <- rbind(b_coloc,cd4_coloc,cd8_coloc,nk_coloc,mono_coloc,dc_coloc,neutro_coloc)\n",
    "  \n",
    "  if(!is.null(pval_eqtl)){\n",
    "    pval_eqtl <- pval_eqtl %>% \n",
    "      mutate(type='eQTL',\n",
    "           locus=loci$locus_name[i],\n",
    "           coloc_method='beta') %>% \n",
    "      mutate(closest_gene=closest_gene_locus,\n",
    "             beta_top_GWAS=beta_top_GWAS_locus,\n",
    "             GWAS_snp=GWAS_snp_name,\n",
    "             GWAS_snp_pos=GWAS_snp_pos_name)\n",
    "  }\n",
    "  results <- pval_eqtl \n",
    "  if(!is.null(results)){\n",
    "    results <- results %>% \n",
    "      arrange(-PP.H4.abf) %>% \n",
    "      dplyr::select(locus,closest_gene,GWAS_snp,GWAS_snp_pos,beta_top_GWAS,everything())\n",
    "  }\n",
    "  \n",
    "  return(results)\n",
    "},mc.cores = 20,mc.preschedule = FALSE)\n",
    "t1 = Sys.time()"
   ]
  },
  {
   "cell_type": "code",
   "execution_count": 90,
   "id": "f1c17fde-2bbd-48d0-9e12-3208f5e541b5",
   "metadata": {},
   "outputs": [
    {
     "data": {
      "text/plain": [
       "Time difference of 17.84046 secs"
      ]
     },
     "metadata": {},
     "output_type": "display_data"
    }
   ],
   "source": [
    "t1 - t0"
   ]
  },
  {
   "cell_type": "code",
   "execution_count": null,
   "id": "7cb6123c-caa4-49ec-9c51-7184c61d4f5a",
   "metadata": {},
   "outputs": [],
   "source": [
    "coloc_eqtl_results_all_success = list()\n",
    "n = 1\n",
    "for(i in 1:length(coloc_eqtl_results_all)){\n",
    "    if(!is.null(dim(coloc_eqtl_results_all[[i]]))==TRUE){\n",
    "        coloc_eqtl_results_all_success[[n]] = coloc_eqtl_results_all[[i]]\n",
    "        n = n + 1\n",
    "    }\n",
    "}\n",
    "length(coloc_eqtl_results_all_success)\n",
    "\n",
    "coloc_eqtl_results_all_df <- coloc_eqtl_results_all_success %>% \n",
    "  bind_rows() %>% \n",
    "  arrange(-PP.H4.abf) %>% \n",
    "  separate(gene,into=c('symbol','ensembl'),sep='_')\n",
    "dim(coloc_eqtl_results_all_df)\n",
    "\n",
    "fwrite(coloc_eqtl_results_all_df, sprintf('/data2/xiaojiashun/eQTL/data/blood_coloc/result_1M_neutro2015_hij%s/asthma_eqtl_pbmc_neutro.csv', hij_thres), sep='\\t')"
   ]
  },
  {
   "cell_type": "markdown",
   "id": "3ff37629-d6bd-4f9e-977d-5c1ae05d2c00",
   "metadata": {},
   "source": [
    "### BLUEPRINT"
   ]
  },
  {
   "cell_type": "code",
   "execution_count": null,
   "id": "0140ccaf-7eef-4177-bdbd-0dfdff8746c6",
   "metadata": {},
   "outputs": [],
   "source": [
    "t0 = Sys.time()\n",
    "df_bp <- data.table::fread('/data2/xiaojiashun/eQTL/data/BLUEPRINT/QTD000026.all.tsv.gz', header=TRUE, nThread=1) %>%\n",
    "    dplyr::select(SNP=rsid, ref, alt, gene_id=gene_id, BETA_BP=beta, SE_BP=se, PVAL_BP=pvalue)\n",
    "Sys.time() - t0"
   ]
  },
  {
   "cell_type": "code",
   "execution_count": 119,
   "id": "72489574-336e-4926-80a2-cbe7aa32d04f",
   "metadata": {},
   "outputs": [],
   "source": [
    "# eqtl_ex <- prepare_eqtl(micro,chrom_locus,sumstats_locus)\n",
    "prepare_eqtl_blueprint <- function(dirname,eqtl_name,chrom_locus,sumstats_locus){\n",
    "  # eqtl\n",
    "  file <- sprintf('%s/%s/%s.csv', dirname, chrom_locus, eqtl_name)\n",
    "  eqtl <- data.table::fread(file, header=TRUE, nThread=1) %>%\n",
    "    inner_join(.,gene_id_name[,c('MOLID', 'GENENAME')],by='MOLID') %>%\n",
    "    dplyr::select(gene_id=GENEID, gene=GENENAME, SNP, A1, A2, p_eqtl=PVAL, beta_eqtl=BETA, se_eqtl=SE) %>%\n",
    "    inner_join(.,sumstats_locus[,c('variant_id','effect_allele','other_allele','SNP_id_hg19')],\n",
    "               by=join_by(SNP==variant_id),multiple='first')\n",
    "  eqtl <- eqtl %>%\n",
    "    dplyr::filter(((A1==effect_allele)&(A2==other_allele)) | ((A2==effect_allele)&(A1==other_allele))) %>%\n",
    "    dplyr::select(gene_id, gene, SNP, SNP_id_hg19, effect_allele=A2, other_allele=A1, p_eqtl, beta_eqtl, se_eqtl)\n",
    "  message(nrow(eqtl))\n",
    "\n",
    "  if(nrow(eqtl)==0){\n",
    "      message('nrow(eqtl)==0')\n",
    "  }\n",
    "\n",
    "  # merge eqtl and ibsep\n",
    "  merged <- inner_join(eqtl,df_bp,by=c('gene_id', 'SNP')) \n",
    "  merged <- merged[(is.na(merged$BETA_BP)==FALSE)&(is.na(merged$SE_BP)==FALSE),]\n",
    "  merged <- merged %>%\n",
    "    add_count(gene_id) %>% \n",
    "    dplyr::filter(n>10)\n",
    "  merged <- merged %>%\n",
    "    dplyr::group_by(gene_id, SNP) %>%\n",
    "    dplyr::slice(which.min(PVAL_BP)) %>% \n",
    "    dplyr::filter(((ref==effect_allele)&(alt==other_allele)) | ((alt==effect_allele)&(ref==other_allele))) %>%\n",
    "    mutate(BETA_BP=ifelse(alt==effect_allele, BETA_BP, -BETA_BP)) %>%\n",
    "    dplyr::select(gene_id, gene, SNP, SNP_id_hg19, effect_allele, other_allele, p_eqtl, beta_eqtl, se_eqtl, BETA_BP, SE_BP, PVAL_BP, n)\n",
    "    \n",
    "  return(merged)\n",
    "}"
   ]
  },
  {
   "cell_type": "code",
   "execution_count": 120,
   "id": "46d97990-632a-43b9-8e1f-710119b5ca43",
   "metadata": {},
   "outputs": [],
   "source": [
    "run_coloc_blueprint <- function(tissue_sumstats,tissue_name,sumstats_locus){\n",
    "  \n",
    "  if(nrow(tissue_sumstats)==0){\n",
    "    return (NULL)\n",
    "  }\n",
    "\n",
    "  out <- lapply(unique(tissue_sumstats$gene),function(x){\n",
    "    message(x)\n",
    "    tissue_sumstats_gene <- dplyr::filter(tissue_sumstats,gene==x)\n",
    "    sumstats_locus_gene <- sumstats_locus %>% inner_join(.,tissue_sumstats_gene,by='SNP_id_hg19')\n",
    "    sumstats_locus_gene <- sumstats_locus_gene[!duplicated(sumstats_locus_gene$SNP_id_hg19),] # remove duplicated SNPs\n",
    "    # message(any(duplicated(sumstats_locus_gene$SNP_id_hg19)))\n",
    "      \n",
    "    if (nrow(sumstats_locus_gene)>0){\n",
    "\n",
    "       coloc_res_pval <- coloc.abf(\n",
    "       dataset1=list(beta=sumstats_locus_gene$beta,\n",
    "                     varbeta=sumstats_locus_gene$se^2,\n",
    "                     snp=sumstats_locus_gene$SNP,\n",
    "                     position=sumstats_locus_gene$bp_b37,\n",
    "                     type=\"cc\"),\n",
    "       dataset2=list(beta=sumstats_locus_gene$BETA_BP,\n",
    "                     varbeta=sumstats_locus_gene$SE_BP^2,\n",
    "                     snp=sumstats_locus_gene$SNP,\n",
    "                     position=sumstats_locus_gene$bp_b37,\n",
    "                     sdY=1,\n",
    "                     type=\"quant\"))$summary %>% \n",
    "       as.data.frame()\n",
    "    colnames(coloc_res_pval) <- x\n",
    "    \n",
    "    #Get direction of effect for all SNPs at the locus\n",
    "    sumstats_locus_gene <- sumstats_locus_gene %>% \n",
    "      mutate(direction=case_when(\n",
    "      (effect_allele.x==effect_allele.y & other_allele.x==other_allele.y)  ~ sign(beta*BETA_BP),\n",
    "      (effect_allele.x==other_allele.y & other_allele.x==effect_allele.y)  ~ -sign(beta*BETA_BP),\n",
    "    TRUE ~ 0))\n",
    "   \n",
    "   #Get Proportion of positive direction\n",
    "   direction_prop <- sumstats_locus_gene %>% \n",
    "     summarise(prop_pos_direction=sum(direction==1)/n()) %>% \n",
    "     setNames(x) %>% \n",
    "     as.data.frame()\n",
    "   rownames(direction_prop) <- 'prop_pos_direction'\n",
    "   \n",
    "   direction_sign <- sumstats_locus_gene %>% \n",
    "     #Take SNP with strongest evidence of an effect on gene expression\n",
    "     dplyr::filter(PVAL_BP==min(PVAL_BP)) %>% \n",
    "     slice_min(n=1,p_value,with_ties=FALSE) %>% \n",
    "     summarise(direction=direction,\n",
    "               beta_gwas=case_when(\n",
    "                    (effect_allele.x==effect_allele.y & other_allele.x==other_allele.y)  ~ beta,\n",
    "                    (effect_allele.x==other_allele.y & other_allele.x==effect_allele.y)  ~ -beta\n",
    "                    ),\n",
    "              beta_bp=BETA_BP,\n",
    "               beta_smr=case_when(\n",
    "                    direction== 1  ~ abs(beta)/abs(BETA_BP),\n",
    "                    direction== -1  ~ -(abs(beta)/abs(BETA_BP))\n",
    "                 ),\n",
    "               ) %>% \n",
    "     t() %>% \n",
    "     as.data.frame()\n",
    "   colnames(direction_sign) <- x\n",
    "   \n",
    "    #Add direction of effect to coloc results\n",
    "    coloc_res_pval <- rbind(coloc_res_pval,direction_sign,direction_prop)\n",
    "\n",
    "    return(coloc_res_pval)\n",
    "    }\n",
    "    else{\n",
    "      return (NULL)\n",
    "    }\n",
    "    \n",
    "})\n",
    "  \n",
    "  out_pvalue <- out %>% \n",
    "    bind_cols() %>% \n",
    "    t() %>% \n",
    "    as.data.frame() %>% \n",
    "    rownames_to_column('gene') %>% \n",
    "    as_tibble() %>% \n",
    "    arrange(-PP.H4.abf) %>% \n",
    "    mutate(tissue=tissue_name)\n",
    "  \n",
    "  return(out_pvalue)\n",
    "}"
   ]
  },
  {
   "cell_type": "code",
   "execution_count": 126,
   "id": "f487f9f4-e5ab-4427-893c-72376d7d75e4",
   "metadata": {},
   "outputs": [],
   "source": [
    "## BLUEPRINT\n",
    "t0 = Sys.time()\n",
    "coloc_eqtl_results_all <- mclapply(1:nrow(loci),function(i){\n",
    "\n",
    "  #Get coordinates from the GWAS locus\n",
    "  chrom_locus <- loci$chrom[i]\n",
    "  start <- loci$start[i] %>% as.numeric()\n",
    "  end <- loci$end[i] %>% as.numeric()\n",
    "  \n",
    "  closest_gene_locus <- loci$locus_name_gene[i]\n",
    "  beta_top_GWAS_locus <- loci$beta_top_GWAS[i]\n",
    "  GWAS_snp_name <- loci$GWAS_snp[i]\n",
    "  GWAS_snp_pos_name <- loci$GWAS_snp_pos[i]\n",
    "\n",
    "  #Keep GWAS sumstats of SNPs in the locus\n",
    "  sumstats_locus <- dplyr::filter(sumstats,chr==chrom_locus) %>% \n",
    "    dplyr::filter(bp_b37>=start & bp_b37<=end) %>% \n",
    "    dplyr::mutate(SNP_id_hg19=paste0(chr,':',bp_b37))\n",
    "\n",
    "  #Preparing eQTL files - keeping SNPs from the eQTL data that match SNPs in the GWAS locus\n",
    "  eqtl_neutro_bp <- prepare_eqtl_blueprint('/data2/xiaojiashun/eQTL/data/blood_data/1M_neutro2015/merged_sumstats/omega_shrink_0.9_max_hsq_0.8',\n",
    "                                         'allmols_neutrophil_blue_pval0.0001_tau1.0_truncorr',chrom_locus,sumstats_locus)\n",
    "\n",
    "  #Running colocalization analysis\n",
    "  pval_eqtl <- run_coloc_blueprint(eqtl_neutro_bp,'neutrophil',sumstats_locus)\n",
    "  \n",
    "  if(!is.null(pval_eqtl)){\n",
    "    pval_eqtl <- pval_eqtl %>% \n",
    "      mutate(type='eQTL',\n",
    "           locus=loci$locus_name[i],\n",
    "           coloc_method='beta') %>% \n",
    "      mutate(closest_gene=closest_gene_locus,\n",
    "             beta_top_GWAS=beta_top_GWAS_locus,\n",
    "             GWAS_snp=GWAS_snp_name,\n",
    "             GWAS_snp_pos=GWAS_snp_pos_name)\n",
    "  }\n",
    "  results <- pval_eqtl \n",
    "  if(!is.null(results)){\n",
    "    results <- results %>% \n",
    "      arrange(-PP.H4.abf) %>% \n",
    "      dplyr::select(locus,closest_gene,GWAS_snp,GWAS_snp_pos,beta_top_GWAS,everything())\n",
    "  }\n",
    "  \n",
    "  return(results)\n",
    "},mc.cores = 20,mc.preschedule = FALSE)\n",
    "t1 = Sys.time()"
   ]
  },
  {
   "cell_type": "code",
   "execution_count": 127,
   "id": "0eda58b3-e78c-482c-b820-c24c684ad95d",
   "metadata": {},
   "outputs": [
    {
     "data": {
      "text/plain": [
       "Time difference of 2.805253 mins"
      ]
     },
     "metadata": {},
     "output_type": "display_data"
    }
   ],
   "source": [
    "t1 - t0"
   ]
  },
  {
   "cell_type": "code",
   "execution_count": null,
   "id": "c966293b-d7ec-4783-b48a-69688200fbcf",
   "metadata": {},
   "outputs": [],
   "source": [
    "coloc_eqtl_results_all_success = list()\n",
    "n = 1\n",
    "for(i in 1:length(coloc_eqtl_results_all)){\n",
    "    if(!is.null(dim(coloc_eqtl_results_all[[i]]))==TRUE){\n",
    "        coloc_eqtl_results_all_success[[n]] = coloc_eqtl_results_all[[i]]\n",
    "        n = n + 1\n",
    "    }\n",
    "}\n",
    "length(coloc_eqtl_results_all_success)\n",
    "\n",
    "coloc_eqtl_results_all_df <- coloc_eqtl_results_all_success %>% \n",
    "  bind_rows() %>% \n",
    "  arrange(-PP.H4.abf) %>% \n",
    "  separate(gene,into=c('symbol','ensembl'),sep='_')\n",
    "dim(coloc_eqtl_results_all_df)\n",
    "\n",
    "fwrite(coloc_eqtl_results_all_df, '/data2/xiaojiashun/eQTL/data/blood_coloc/result/asthma_blueprint.csv', sep='\\t')"
   ]
  },
  {
   "cell_type": "markdown",
   "id": "68aba6d4-79dc-4f23-a523-3218459c409d",
   "metadata": {},
   "source": [
    "## Plot"
   ]
  },
  {
   "cell_type": "markdown",
   "id": "67f19561-918e-45f9-a5f3-f20d0bb30c61",
   "metadata": {},
   "source": [
    "### PBMC and neutrophil"
   ]
  },
  {
   "cell_type": "code",
   "execution_count": 7,
   "id": "b93c9016-f0c7-4601-8b02-93e45d48cee0",
   "metadata": {},
   "outputs": [
    {
     "name": "stdout",
     "output_type": "stream",
     "text": [
      "[1] 1393   21\n",
      "[1] 1393   21\n",
      "[1] 2996   21\n",
      "[1] 175  21\n"
     ]
    }
   ],
   "source": [
    "hij_thres = '0.0001'\n",
    "eqtl_res = fread(sprintf('/data2/xiaojiashun/eQTL/data/blood_coloc/result_1M_neutro2015_hij%s/asthma_eqtl_pbmc_neutro.csv', hij_thres), sep='\\t')\n",
    "ibsep_res = fread(sprintf('/data2/xiaojiashun/eQTL/data/blood_coloc/result_1M_neutro2015_hij%s/asthma_ibsep_pbmc_neutro.csv', hij_thres), sep='\\t')\n",
    "onek1k_res = fread('/data2/xiaojiashun/eQTL/data/blood_coloc/result/asthma_1k1k.csv', sep='\\t')\n",
    "bp_res = fread('/data2/xiaojiashun/eQTL/data/blood_coloc/result/asthma_blueprint.csv', sep='\\t')\n",
    "print(dim(eqtl_res))\n",
    "print(dim(ibsep_res))\n",
    "print(dim(onek1k_res))\n",
    "print(dim(bp_res))"
   ]
  },
  {
   "cell_type": "code",
   "execution_count": 8,
   "id": "4cd0d402-7986-4b83-8880-69cc2788f8c7",
   "metadata": {},
   "outputs": [
    {
     "name": "stdout",
     "output_type": "stream",
     "text": [
      "[1] 29 22\n",
      "[1] 61 22\n",
      "[1] 76 22\n",
      "[1]  7 22\n"
     ]
    }
   ],
   "source": [
    "eqtl_sig <- eqtl_res[eqtl_res$PP.H4.abf > 0.7] %>% mutate(method='Single cell')\n",
    "ibsep_sig <- ibsep_res[ibsep_res$PP.H4.abf > 0.7] %>% mutate(method='IBSEP')\n",
    "onek1k_sig <- onek1k_res[onek1k_res$PP.H4.abf > 0.7] %>% mutate(method='OneK1K')\n",
    "bp_sig <- bp_res[bp_res$PP.H4.abf > 0.7] %>% mutate(method='BLUEPRINT')\n",
    "print(dim(eqtl_sig))\n",
    "print(dim(ibsep_sig))\n",
    "print(dim(onek1k_sig))\n",
    "print(dim(bp_sig))"
   ]
  },
  {
   "cell_type": "code",
   "execution_count": 10,
   "id": "54fb576e-4edc-4cb9-a2ea-a377f8678dd7",
   "metadata": {},
   "outputs": [
    {
     "name": "stdout",
     "output_type": "stream",
     "text": [
      "[1] 65 23\n",
      "[1] 16  3\n",
      "[1] 197  10\n",
      "[1] 197  10\n",
      "[1] 16 10\n",
      "[1] 16 10\n"
     ]
    }
   ],
   "source": [
    "## restrict to pbmc coloc genes\n",
    "comb_sig <- bind_rows(eqtl_sig, ibsep_sig) \n",
    "comb_sig <- comb_sig %>%\n",
    "    dplyr::filter(tissue!='neutrophil') %>% \n",
    "    arrange(closest_gene, symbol) %>%\n",
    "    dplyr::filter(!grepl('HLA-', closest_gene)) %>%\n",
    "    dplyr::filter(!grepl('HLA-', symbol))\n",
    "comb_sig_min <- comb_sig[,c('locus', 'closest_gene', 'symbol')] %>% distinct(closest_gene, symbol, .keep_all=TRUE)\n",
    "print(dim(comb_sig))\n",
    "print(dim(comb_sig_min))\n",
    "eqtl_res_wide = eqtl_res[,c('locus', 'closest_gene', 'symbol', 'tissue', 'PP.H4.abf')] %>%\n",
    "    dplyr::filter(!is.na(PP.H4.abf)) %>%\n",
    "    dplyr::group_by(locus, closest_gene, symbol, tissue) %>%\n",
    "    dplyr::slice(which.max(PP.H4.abf)) %>%\n",
    "    pivot_wider(names_from=tissue, values_from=PP.H4.abf, values_fill=0.0)\n",
    "ibsep_res_wide = ibsep_res[,c('locus', 'closest_gene', 'symbol', 'tissue', 'PP.H4.abf')] %>%\n",
    "    dplyr::filter(!is.na(PP.H4.abf)) %>%\n",
    "    dplyr::group_by(locus, closest_gene, symbol, tissue) %>%\n",
    "    dplyr::slice(which.max(PP.H4.abf)) %>%\n",
    "    pivot_wider(names_from=tissue, values_from=PP.H4.abf, values_fill=0.0)\n",
    "print(dim(eqtl_res_wide))\n",
    "print(dim(ibsep_res_wide))\n",
    "eqtl_comb_sig_wide = inner_join(comb_sig_min, eqtl_res_wide, by=c('locus', 'closest_gene', 'symbol'))\n",
    "ibsep_comb_sig_wide = inner_join(comb_sig_min, ibsep_res_wide, by=c('locus', 'closest_gene', 'symbol'))\n",
    "eqtl_comb_sig_wide <- eqtl_comb_sig_wide %>% \n",
    "    arrange(closest_gene, symbol) %>%\n",
    "    relocate(all_of(sort(colnames(eqtl_comb_sig_wide)[4:ncol(eqtl_comb_sig_wide)])), .after='symbol')\n",
    "ibsep_comb_sig_wide <- ibsep_comb_sig_wide %>% \n",
    "    arrange(closest_gene, symbol) %>%\n",
    "    relocate(all_of(sort(colnames(ibsep_comb_sig_wide)[4:ncol(ibsep_comb_sig_wide)])), .after='symbol')\n",
    "print(dim(eqtl_comb_sig_wide))\n",
    "print(dim(ibsep_comb_sig_wide))"
   ]
  },
  {
   "cell_type": "code",
   "execution_count": 13,
   "id": "e3190d96-ff57-4e69-bec1-0dd78a1e9357",
   "metadata": {},
   "outputs": [
    {
     "name": "stdout",
     "output_type": "stream",
     "text": [
      "[1] 76 22\n",
      "[1] 24  3\n",
      "[1] 212  17\n",
      "[1] 24 17\n"
     ]
    }
   ],
   "source": [
    "## 1k1k\n",
    "onek1k_sig <- onek1k_sig %>% arrange(closest_gene, symbol)\n",
    "onek1k_sig_min <- onek1k_sig[,c('locus', 'closest_gene', 'symbol')] %>% distinct()\n",
    "print(dim(onek1k_sig))\n",
    "print(dim(onek1k_sig_min))\n",
    "onek1k_res_wide = onek1k_res[,c('locus', 'closest_gene', 'symbol', 'tissue', 'PP.H4.abf')] %>%\n",
    "    dplyr::filter(!is.na(PP.H4.abf)) %>%\n",
    "    dplyr::group_by(locus, closest_gene, symbol, tissue) %>%\n",
    "    dplyr::slice(which.max(PP.H4.abf)) %>%\n",
    "    pivot_wider(names_from=tissue, values_from=PP.H4.abf, values_fill=0.0)\n",
    "print(dim(onek1k_res_wide))\n",
    "onek1k_sig_wide = inner_join(onek1k_sig_min, onek1k_res_wide, by=c('locus', 'closest_gene', 'symbol'))\n",
    "onek1k_sig_wide <- onek1k_sig_wide %>% \n",
    "    arrange(closest_gene, symbol) %>%\n",
    "    relocate(all_of(sort(colnames(onek1k_sig_wide)[4:17])), .after='symbol')\n",
    "print(dim(onek1k_sig_wide))"
   ]
  },
  {
   "cell_type": "code",
   "execution_count": 14,
   "id": "9845f5e6-99e4-4053-83ad-c4967158bbdc",
   "metadata": {},
   "outputs": [
    {
     "name": "stdout",
     "output_type": "stream",
     "text": [
      "[1]  7 22\n",
      "[1] 7 3\n",
      "[1] 173   4\n",
      "[1] 7 4\n"
     ]
    }
   ],
   "source": [
    "## blueprint\n",
    "bp_sig <- bp_sig %>% arrange(closest_gene, symbol)\n",
    "bp_sig_min <- bp_sig[,c('locus', 'closest_gene', 'symbol')] %>% distinct()\n",
    "print(dim(bp_sig))\n",
    "print(dim(bp_sig_min))\n",
    "bp_res_wide = bp_res[,c('locus', 'closest_gene', 'symbol', 'tissue', 'PP.H4.abf')] %>%\n",
    "    dplyr::filter(!is.na(PP.H4.abf)) %>%\n",
    "    dplyr::group_by(locus, closest_gene, symbol, tissue) %>%\n",
    "    dplyr::slice(which.max(PP.H4.abf)) %>%\n",
    "    pivot_wider(names_from=tissue, values_from=PP.H4.abf, values_fill=0.0)\n",
    "print(dim(bp_res_wide))\n",
    "bp_sig_wide = inner_join(bp_sig_min, bp_res_wide, by=c('locus', 'closest_gene', 'symbol'))\n",
    "bp_sig_wide <- bp_sig_wide %>% \n",
    "    arrange(closest_gene, symbol)\n",
    "print(dim(bp_sig_wide))"
   ]
  },
  {
   "cell_type": "code",
   "execution_count": 15,
   "id": "655d748d-9c44-4913-8cb5-3083f20d18a1",
   "metadata": {},
   "outputs": [],
   "source": [
    "eqtl_comb_sig_wide <- eqtl_comb_sig_wide %>%\n",
    "    dplyr::filter(!grepl('ENSG', closest_gene)) %>%\n",
    "    dplyr::filter(!grepl('ENSG', symbol))\n",
    "ibsep_comb_sig_wide <- ibsep_comb_sig_wide %>%\n",
    "    dplyr::filter(!grepl('ENSG', closest_gene)) %>%\n",
    "    dplyr::filter(!grepl('ENSG', symbol))"
   ]
  },
  {
   "cell_type": "code",
   "execution_count": 16,
   "id": "e1c05cec-0fb4-44de-89f3-0ffae912715f",
   "metadata": {},
   "outputs": [
    {
     "data": {
      "text/html": [
       "<style>\n",
       ".list-inline {list-style: none; margin:0; padding: 0}\n",
       ".list-inline>li {display: inline-block}\n",
       ".list-inline>li:not(:last-child)::after {content: \"\\00b7\"; padding: 0 .5ex}\n",
       "</style>\n",
       "<ol class=list-inline><li>16</li><li>7</li></ol>\n"
      ],
      "text/latex": [
       "\\begin{enumerate*}\n",
       "\\item 16\n",
       "\\item 7\n",
       "\\end{enumerate*}\n"
      ],
      "text/markdown": [
       "1. 16\n",
       "2. 7\n",
       "\n",
       "\n"
      ],
      "text/plain": [
       "[1] 16  7"
      ]
     },
     "metadata": {},
     "output_type": "display_data"
    }
   ],
   "source": [
    "mat = matrix(nrow=nrow(eqtl_comb_sig_wide), ncol=7)\n",
    "fun1 <- function(x, y, loc, gene, sym, sub_cts){\n",
    "    if((x>0.7) & (y>0.7)){\n",
    "        z = 1\n",
    "    }else if((x>0.7) & (y<=0.7)){\n",
    "        z = 2\n",
    "    }else if((x<=0.7) & (y>0.7)){\n",
    "        z = 3\n",
    "    }else{\n",
    "        z = 0\n",
    "    }\n",
    "    l = c()\n",
    "    for(sub_ct in sub_cts){\n",
    "        tmp = onek1k_sig_wide[(onek1k_sig_wide$locus==loc) & (onek1k_sig_wide$closest_gene==gene) & (onek1k_sig_wide$symbol==sym)]\n",
    "        if(nrow(tmp) > 0){\n",
    "            v = tmp[[sub_ct]]\n",
    "            if(!is.na(v)){\n",
    "                l = c(l, v)\n",
    "            }\n",
    "        }\n",
    "    }\n",
    "    \n",
    "    if(length(l)>0){\n",
    "        if(max(l)>0.7){\n",
    "            z = z*10\n",
    "        }\n",
    "    }\n",
    "    return(z)\n",
    "}\n",
    "fun2 <- function(x, y, loc, gene, sym){\n",
    "    if((x>0.7) & (y>0.7)){\n",
    "        z = 1\n",
    "    }else if((x>0.7) & (y<=0.7)){\n",
    "        z = 2\n",
    "    }else if((x<=0.7) & (y>0.7)){\n",
    "        z = 3\n",
    "    }else{\n",
    "        z = 0\n",
    "    }\n",
    "    tmp = bp_sig_wide[(bp_sig_wide$locus==loc) & (bp_sig_wide$closest_gene==gene) & (bp_sig_wide$symbol==sym)]\n",
    "    if(nrow(tmp)>0){\n",
    "        if(tmp[['neutrophil']]>0.7){\n",
    "            z = z*10\n",
    "        }\n",
    "    }\n",
    "    return(z)\n",
    "}\n",
    "mat1 = as.matrix(eqtl_comb_sig_wide[,c(4:10)])\n",
    "mat2 = as.matrix(ibsep_comb_sig_wide[,c(4:10)])\n",
    "for(i in 1:nrow(mat)){\n",
    "    for(j in 1:ncol(mat)){\n",
    "        loc = eqtl_comb_sig_wide$locus[i]\n",
    "        gene = eqtl_comb_sig_wide$closest_gene[i]\n",
    "        sym = eqtl_comb_sig_wide$symbol[i]\n",
    "        ct = colnames(eqtl_comb_sig_wide)[3+j]\n",
    "        if(ct == 'neutrophil'){\n",
    "            mat[i,j] = fun2(mat1[i,j], mat2[i,j], loc, gene, sym)\n",
    "        }else{\n",
    "            sub_cts = celltype_map[[ct]]\n",
    "            mat[i,j] = fun1(mat1[i,j], mat2[i,j], loc, gene, sym, sub_cts)\n",
    "        }\n",
    "    }\n",
    "}\n",
    "dim(mat)"
   ]
  },
  {
   "cell_type": "code",
   "execution_count": 19,
   "id": "54b609a4-5d05-4ed9-b30c-189dcfcdb742",
   "metadata": {},
   "outputs": [],
   "source": [
    "split = eqtl_comb_sig_wide$closest_gene\n",
    "split[split=='ACO2 - PHF5A'] = 'PHF5A'\n",
    "split[split=='MYRF - TMEM258'] = 'TMEM258'"
   ]
  },
  {
   "cell_type": "code",
   "execution_count": 22,
   "id": "c3bf20fd-d563-49ef-a3fb-8420e06a8b00",
   "metadata": {},
   "outputs": [
    {
     "data": {
      "image/png": "[encoded data removed]",
      "text/plain": [
       "plot without title"
      ]
     },
     "metadata": {
      "image/png": {
       "height": 630,
       "width": 600
      }
     },
     "output_type": "display_data"
    }
   ],
   "source": [
    "## hij=1e-4\n",
    "mat_reorder = mat[,c(1,2,3,7,5,4,6)]\n",
    "options(repr.matrix.max.cols=100, repr.matrix.max.rows=100)\n",
    "options(repr.plot.width=4, repr.plot.height=4.2, repr.plot.res=300)\n",
    "col_fun = colorRamp2(c(0, 1, 2, 3), c(\"grey\", \"red\", \"green\", \"blue\"))\n",
    "colors = structure(c(\"#FFFFFF\", \"#FF6666\", \"#00CC66\", \"#9999FF\"), names = c(0,1,2,3))\n",
    "text_color = '#FFFFFF'\n",
    "text = as.list(unique(split))\n",
    "names(text) = unique(split)\n",
    "w = ncol(mat)*unit(5, \"mm\")\n",
    "h = nrow(mat)*unit(5, \"mm\")\n",
    "ht = Heatmap(mat_reorder, col=colors, rect_gp = gpar(type = \"none\"),\n",
    "        cluster_rows = FALSE, cluster_columns = FALSE,\n",
    "        cell_fun = function(j, i, x, y, width, height, fill) {\n",
    "            c_idx = ifelse(mat_reorder[i,j]<10, mat_reorder[i, j]+1, as.integer(mat_reorder[i,j]/10)+1)\n",
    "            grid.rect(x = x, y = y, width = unit(4.6, 'mm'), height = unit(4.6, 'mm'),\n",
    "                     gp = gpar(fill = '#E0E0E0', col = NA))\n",
    "           grid.circle(x = x, y = y, r = unit(1.8, \"mm\"), \n",
    "                gp = gpar(fill = colors[c_idx], col = NA))\n",
    "            if(mat_reorder[i,j]>=10){\n",
    "                grid.text('+', x=x, y=unit(as.numeric(y)*1, 'npc'), gp=gpar(col=text_color))\n",
    "            }\n",
    "           },\n",
    "        right_annotation=rowAnnotation(labels = anno_text(eqtl_comb_sig_wide$symbol, which='row'), gp = gpar(fontsize = 8)),\n",
    "        top_annotation=columnAnnotation(labels = anno_text(c(sorted_cell_names, 'Neutrophil'), \n",
    "                                                              which='column', just='left', location=unit(0, 'npc')), gp = gpar(fontsize = 10)),\n",
    "         column_names_side = c(\"top\"),\n",
    "        row_title_gp = gpar(fontsize = 12),\n",
    "        row_title_rot = 0,\n",
    "       width = w, height = h,\n",
    "       row_split=split,\n",
    "        row_title=NULL,\n",
    "        left_annotation = rowAnnotation(Locus = anno_textbox(split, text, side='left')),\n",
    "       column_gap = unit(0, \"mm\"), border = FALSE,\n",
    "       show_column_names=TRUE, show_heatmap_legend=FALSE,\n",
    "       heatmap_legend_param = list(title='', \n",
    "                                   labels=c('Null', 'Shared', 'Only single cell', 'Only IBSEP'),\n",
    "                                   grid_height = unit(5, \"mm\"), grid_width = unit(5, \"mm\"),\n",
    "                                   labels_gp = gpar(fontsize = 14))\n",
    "        )\n",
    "draw(ht)"
   ]
  }
 ],
 "metadata": {
  "kernelspec": {
   "display_name": "R",
   "language": "R",
   "name": "ir"
  },
  "language_info": {
   "codemirror_mode": "r",
   "file_extension": ".r",
   "mimetype": "text/x-r-source",
   "name": "R",
   "pygments_lexer": "r",
   "version": "4.3.2"
  }
 },
 "nbformat": 4,
 "nbformat_minor": 5
}
