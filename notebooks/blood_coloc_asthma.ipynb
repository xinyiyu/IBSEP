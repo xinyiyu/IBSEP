{
 "cells": [
  {
   "cell_type": "code",
   "execution_count": null,
   "id": "b5a51936-eb9f-4226-b167-b04d612f86af",
   "metadata": {},
   "outputs": [],
   "source": [
    "library(coloc)\n",
    "library(LDlinkR)\n",
    "library(tidyverse)\n",
    "library(data.table)\n",
    "library(parallel)\n",
    "library(GenomicRanges)\n",
    "library(rtracklayer)\n",
    "library(locuszoomr)\n",
    "library(EnsDb.Hsapiens.v75)\n",
    "library(ggpubr)\n",
    "library(cowplot)\n",
    "library(ComplexHeatmap)\n",
    "library(circlize)\n",
    "library(gridExtra)\n",
    "library(cowplot)\n",
    "library(patchwork)"
   ]
  },
  {
   "cell_type": "code",
   "execution_count": 2,
   "id": "ad9a1203-e384-4494-9b87-16723e534752",
   "metadata": {},
   "outputs": [
    {
     "name": "stdout",
     "output_type": "stream",
     "text": [
      "[1] 22150     2\n"
     ]
    },
    {
     "data": {
      "text/html": [
       "<table class=\"dataframe\">\n",
       "<caption>A data.table: 6 × 2</caption>\n",
       "<thead>\n",
       "\t<tr><th scope=col>GENEID</th><th scope=col>GENENAME</th></tr>\n",
       "\t<tr><th scope=col>&lt;chr&gt;</th><th scope=col>&lt;chr&gt;</th></tr>\n",
       "</thead>\n",
       "<tbody>\n",
       "\t<tr><td>ENSG00000238009</td><td>RP11-34P13.7 </td></tr>\n",
       "\t<tr><td>ENSG00000237683</td><td>AL627309.1   </td></tr>\n",
       "\t<tr><td>ENSG00000228463</td><td>AP006222.2   </td></tr>\n",
       "\t<tr><td>ENSG00000237094</td><td>RP4-669L17.10</td></tr>\n",
       "\t<tr><td>ENSG00000235373</td><td>RP11-206L10.3</td></tr>\n",
       "\t<tr><td>ENSG00000228327</td><td>RP11-206L10.2</td></tr>\n",
       "</tbody>\n",
       "</table>\n"
      ],
      "text/latex": [
       "A data.table: 6 × 2\n",
       "\\begin{tabular}{ll}\n",
       " GENEID & GENENAME\\\\\n",
       " <chr> & <chr>\\\\\n",
       "\\hline\n",
       "\t ENSG00000238009 & RP11-34P13.7 \\\\\n",
       "\t ENSG00000237683 & AL627309.1   \\\\\n",
       "\t ENSG00000228463 & AP006222.2   \\\\\n",
       "\t ENSG00000237094 & RP4-669L17.10\\\\\n",
       "\t ENSG00000235373 & RP11-206L10.3\\\\\n",
       "\t ENSG00000228327 & RP11-206L10.2\\\\\n",
       "\\end{tabular}\n"
      ],
      "text/markdown": [
       "\n",
       "A data.table: 6 × 2\n",
       "\n",
       "| GENEID &lt;chr&gt; | GENENAME &lt;chr&gt; |\n",
       "|---|---|\n",
       "| ENSG00000238009 | RP11-34P13.7  |\n",
       "| ENSG00000237683 | AL627309.1    |\n",
       "| ENSG00000228463 | AP006222.2    |\n",
       "| ENSG00000237094 | RP4-669L17.10 |\n",
       "| ENSG00000235373 | RP11-206L10.3 |\n",
       "| ENSG00000228327 | RP11-206L10.2 |\n",
       "\n"
      ],
      "text/plain": [
       "  GENEID          GENENAME     \n",
       "1 ENSG00000238009 RP11-34P13.7 \n",
       "2 ENSG00000237683 AL627309.1   \n",
       "3 ENSG00000228463 AP006222.2   \n",
       "4 ENSG00000237094 RP4-669L17.10\n",
       "5 ENSG00000235373 RP11-206L10.3\n",
       "6 ENSG00000228327 RP11-206L10.2"
      ]
     },
     "metadata": {},
     "output_type": "display_data"
    }
   ],
   "source": [
    "gene_id_name = fread('../data/1M-scBloodNL/gene_id_name.allchrom.csv', sep='\\t')\n",
    "print(dim(gene_id_name))\n",
    "head(gene_id_name)"
   ]
  },
  {
   "cell_type": "code",
   "execution_count": 3,
   "id": "1010355c-36c7-40b2-8576-7306961b48b3",
   "metadata": {},
   "outputs": [],
   "source": [
    "celltype_map = list(B=c('bin', 'bmem', 'plasma'),\n",
    "                    CD4T=c('cd4et', 'cd4nc', 'cd4sox4'),\n",
    "                    CD8T=c('cd8et', 'cd8nc', 'cd8s100b'),\n",
    "                    NK=c('nk', 'nkr'),\n",
    "                    monocyte=c('monoc', 'mononc'),\n",
    "                    DC=c('dc'))"
   ]
  },
  {
   "cell_type": "markdown",
   "id": "c53d5846-ab60-4a8a-87dd-b560ba8365d9",
   "metadata": {},
   "source": [
    "# Asthma"
   ]
  },
  {
   "cell_type": "markdown",
   "id": "0ae5b833-b12a-47a1-9c34-79e55105fafe",
   "metadata": {},
   "source": [
    "## Process GWAS"
   ]
  },
  {
   "cell_type": "code",
   "execution_count": 3,
   "id": "c2ac37bd-99ec-4ad0-a9e3-7d2101133b6d",
   "metadata": {},
   "outputs": [],
   "source": [
    "selected_trait = 'asthma'"
   ]
  },
  {
   "cell_type": "code",
   "execution_count": 4,
   "id": "ff59afae-de4a-424e-93a5-bbd042c1cb8e",
   "metadata": {},
   "outputs": [],
   "source": [
    "if(selected_trait=='asthma'){\n",
    "sumstats <- fread('../data/blood_coloc/gwas/Asthma_ukb.csv') %>% \n",
    "  mutate(CHR=paste0('chr', chr)) %>% \n",
    "  dplyr::filter(!is.na(pval)) %>% \n",
    "  dplyr::select(variant_id=rsid,p_value=pval,chr=CHR,bp_b37=pos,effect_allele=alt,other_allele=ref,beta,se)\n",
    "\n",
    "  if(file.exists('../data/blood_coloc/gwas/asthma/loci_LDlinkR.r2.0.1.EUR.txt')) {\n",
    "    loci <- fread('../data/blood_coloc/gwas/asthma/loci_LDlinkR.r2.0.1.EUR.txt', sep='\\t')\n",
    "  }\n",
    "}"
   ]
  },
  {
   "cell_type": "code",
   "execution_count": 5,
   "id": "03df5988-6115-4de1-b42d-c50d2b0d51c9",
   "metadata": {},
   "outputs": [
    {
     "data": {
      "text/html": [
       "<style>\n",
       ".list-inline {list-style: none; margin:0; padding: 0}\n",
       ".list-inline>li {display: inline-block}\n",
       ".list-inline>li:not(:last-child)::after {content: \"\\00b7\"; padding: 0 .5ex}\n",
       "</style>\n",
       "<ol class=list-inline><li>12556648</li><li>8</li></ol>\n"
      ],
      "text/latex": [
       "\\begin{enumerate*}\n",
       "\\item 12556648\n",
       "\\item 8\n",
       "\\end{enumerate*}\n"
      ],
      "text/markdown": [
       "1. 12556648\n",
       "2. 8\n",
       "\n",
       "\n"
      ],
      "text/plain": [
       "[1] 12556648        8"
      ]
     },
     "metadata": {},
     "output_type": "display_data"
    }
   ],
   "source": [
    "dim(sumstats)"
   ]
  },
  {
   "cell_type": "code",
   "execution_count": 6,
   "id": "5e7b3b3b-9ef7-4697-a6b3-731c521bd8d4",
   "metadata": {},
   "outputs": [
    {
     "data": {
      "text/html": [
       "<table class=\"dataframe\">\n",
       "<caption>A data.table: 6 × 8</caption>\n",
       "<thead>\n",
       "\t<tr><th scope=col>variant_id</th><th scope=col>p_value</th><th scope=col>chr</th><th scope=col>bp_b37</th><th scope=col>effect_allele</th><th scope=col>other_allele</th><th scope=col>beta</th><th scope=col>se</th></tr>\n",
       "\t<tr><th scope=col>&lt;chr&gt;</th><th scope=col>&lt;dbl&gt;</th><th scope=col>&lt;chr&gt;</th><th scope=col>&lt;int&gt;</th><th scope=col>&lt;chr&gt;</th><th scope=col>&lt;chr&gt;</th><th scope=col>&lt;dbl&gt;</th><th scope=col>&lt;dbl&gt;</th></tr>\n",
       "</thead>\n",
       "<tbody>\n",
       "\t<tr><td>rs12238997 </td><td>0.598620</td><td>chr1</td><td>693731</td><td>G</td><td>A</td><td>-0.000658550</td><td>0.00125108</td></tr>\n",
       "\t<tr><td>rs371890604</td><td>0.354940</td><td>chr1</td><td>707522</td><td>C</td><td>G</td><td>-0.001301040</td><td>0.00140646</td></tr>\n",
       "\t<tr><td>rs144155419</td><td>0.859182</td><td>chr1</td><td>717587</td><td>A</td><td>G</td><td>-0.000595435</td><td>0.00335617</td></tr>\n",
       "\t<tr><td>rs189787166</td><td>0.254175</td><td>chr1</td><td>723329</td><td>T</td><td>A</td><td> 0.011290200</td><td>0.00990139</td></tr>\n",
       "\t<tr><td>rs148120343</td><td>0.323018</td><td>chr1</td><td>730087</td><td>C</td><td>T</td><td>-0.001722490</td><td>0.00174293</td></tr>\n",
       "\t<tr><td>rs58276399 </td><td>0.257021</td><td>chr1</td><td>731718</td><td>C</td><td>T</td><td>-0.001344870</td><td>0.00118652</td></tr>\n",
       "</tbody>\n",
       "</table>\n"
      ],
      "text/latex": [
       "A data.table: 6 × 8\n",
       "\\begin{tabular}{llllllll}\n",
       " variant\\_id & p\\_value & chr & bp\\_b37 & effect\\_allele & other\\_allele & beta & se\\\\\n",
       " <chr> & <dbl> & <chr> & <int> & <chr> & <chr> & <dbl> & <dbl>\\\\\n",
       "\\hline\n",
       "\t rs12238997  & 0.598620 & chr1 & 693731 & G & A & -0.000658550 & 0.00125108\\\\\n",
       "\t rs371890604 & 0.354940 & chr1 & 707522 & C & G & -0.001301040 & 0.00140646\\\\\n",
       "\t rs144155419 & 0.859182 & chr1 & 717587 & A & G & -0.000595435 & 0.00335617\\\\\n",
       "\t rs189787166 & 0.254175 & chr1 & 723329 & T & A &  0.011290200 & 0.00990139\\\\\n",
       "\t rs148120343 & 0.323018 & chr1 & 730087 & C & T & -0.001722490 & 0.00174293\\\\\n",
       "\t rs58276399  & 0.257021 & chr1 & 731718 & C & T & -0.001344870 & 0.00118652\\\\\n",
       "\\end{tabular}\n"
      ],
      "text/markdown": [
       "\n",
       "A data.table: 6 × 8\n",
       "\n",
       "| variant_id &lt;chr&gt; | p_value &lt;dbl&gt; | chr &lt;chr&gt; | bp_b37 &lt;int&gt; | effect_allele &lt;chr&gt; | other_allele &lt;chr&gt; | beta &lt;dbl&gt; | se &lt;dbl&gt; |\n",
       "|---|---|---|---|---|---|---|---|\n",
       "| rs12238997  | 0.598620 | chr1 | 693731 | G | A | -0.000658550 | 0.00125108 |\n",
       "| rs371890604 | 0.354940 | chr1 | 707522 | C | G | -0.001301040 | 0.00140646 |\n",
       "| rs144155419 | 0.859182 | chr1 | 717587 | A | G | -0.000595435 | 0.00335617 |\n",
       "| rs189787166 | 0.254175 | chr1 | 723329 | T | A |  0.011290200 | 0.00990139 |\n",
       "| rs148120343 | 0.323018 | chr1 | 730087 | C | T | -0.001722490 | 0.00174293 |\n",
       "| rs58276399  | 0.257021 | chr1 | 731718 | C | T | -0.001344870 | 0.00118652 |\n",
       "\n"
      ],
      "text/plain": [
       "  variant_id  p_value  chr  bp_b37 effect_allele other_allele beta        \n",
       "1 rs12238997  0.598620 chr1 693731 G             A            -0.000658550\n",
       "2 rs371890604 0.354940 chr1 707522 C             G            -0.001301040\n",
       "3 rs144155419 0.859182 chr1 717587 A             G            -0.000595435\n",
       "4 rs189787166 0.254175 chr1 723329 T             A             0.011290200\n",
       "5 rs148120343 0.323018 chr1 730087 C             T            -0.001722490\n",
       "6 rs58276399  0.257021 chr1 731718 C             T            -0.001344870\n",
       "  se        \n",
       "1 0.00125108\n",
       "2 0.00140646\n",
       "3 0.00335617\n",
       "4 0.00990139\n",
       "5 0.00174293\n",
       "6 0.00118652"
      ]
     },
     "metadata": {},
     "output_type": "display_data"
    }
   ],
   "source": [
    "head(sumstats)"
   ]
  },
  {
   "cell_type": "code",
   "execution_count": 8,
   "id": "5f1b7796-d8fa-468c-b416-bfb9465b82c2",
   "metadata": {},
   "outputs": [
    {
     "data": {
      "text/html": [
       "<style>\n",
       ".list-inline {list-style: none; margin:0; padding: 0}\n",
       ".list-inline>li {display: inline-block}\n",
       ".list-inline>li:not(:last-child)::after {content: \"\\00b7\"; padding: 0 .5ex}\n",
       "</style>\n",
       "<ol class=list-inline><li>87</li><li>12</li></ol>\n"
      ],
      "text/latex": [
       "\\begin{enumerate*}\n",
       "\\item 87\n",
       "\\item 12\n",
       "\\end{enumerate*}\n"
      ],
      "text/markdown": [
       "1. 87\n",
       "2. 12\n",
       "\n",
       "\n"
      ],
      "text/plain": [
       "[1] 87 12"
      ]
     },
     "metadata": {},
     "output_type": "display_data"
    }
   ],
   "source": [
    "if(!file.exists('../data/blood_coloc/gwas/asthma/loci_LDlinkR.r2.0.1.EUR.txt')){\n",
    "  loci <- fread('../data/blood_coloc/gwas/Asthma_ukb_indexsnp.csv', sep='\\t') %>%  \n",
    "    mutate(GWAS_snp_pos=paste0('chr',chr,':',pos)) %>%\n",
    "    dplyr::filter(!is.na(pval))\n",
    "}\n",
    "dim(loci)"
   ]
  },
  {
   "cell_type": "code",
   "execution_count": 10,
   "id": "48cd79c0-304e-4a82-afc0-9cbebea7bcbd",
   "metadata": {
    "collapsed": true,
    "jupyter": {
     "outputs_hidden": true
    }
   },
   "outputs": [
    {
     "name": "stderr",
     "output_type": "stream",
     "text": [
      "\n",
      "LDlink server is working...\n",
      "\n",
      "\n",
      "\n",
      "LDlink server is working...\n",
      "\n",
      "\n",
      "\n",
      "LDlink server is working...\n",
      "\n",
      "\n",
      "\n",
      "LDlink server is working...\n",
      "\n",
      "\n",
      "\n",
      "LDlink server is working...\n",
      "\n",
      "\n",
      "\n",
      "LDlink server is working...\n",
      "\n",
      "\n",
      "\n",
      "LDlink server is working...\n",
      "\n",
      "\n",
      "\n",
      "LDlink server is working...\n",
      "\n",
      "\n",
      "\n",
      "LDlink server is working...\n",
      "\n",
      "\n",
      "\n",
      "LDlink server is working...\n",
      "\n",
      "\n",
      "\n",
      "LDlink server is working...\n",
      "\n",
      "\n",
      "\n",
      "LDlink server is working...\n",
      "\n",
      "\n",
      "\n",
      "LDlink server is working...\n",
      "\n",
      "\n",
      "\n",
      "LDlink server is working...\n",
      "\n",
      "\n",
      "\n",
      "LDlink server is working...\n",
      "\n",
      "\n",
      "\n",
      "LDlink server is working...\n",
      "\n",
      "\n",
      "\n",
      "LDlink server is working...\n",
      "\n",
      "\n",
      "\n",
      "LDlink server is working...\n",
      "\n",
      "\n",
      "\n",
      "LDlink server is working...\n",
      "\n",
      "\n",
      "\n",
      "LDlink server is working...\n",
      "\n",
      "\n",
      "\n",
      "LDlink server is working...\n",
      "\n",
      "\n",
      "\n",
      "LDlink server is working...\n",
      "\n",
      "\n",
      "\n",
      "LDlink server is working...\n",
      "\n",
      "\n",
      "\n",
      "LDlink server is working...\n",
      "\n",
      "\n",
      "\n",
      "LDlink server is working...\n",
      "\n",
      "\n",
      "\n",
      "LDlink server is working...\n",
      "\n",
      "\n",
      "\n",
      "LDlink server is working...\n",
      "\n",
      "\n",
      "  error: rs35845166 Variant is not in 1000G reference panel.\n",
      "\n",
      "\n",
      "LDlink server is working...\n",
      "\n",
      "\n",
      "\n",
      "LDlink server is working...\n",
      "\n",
      "\n",
      "\n",
      "LDlink server is working...\n",
      "\n",
      "\n",
      "\n",
      "LDlink server is working...\n",
      "\n",
      "\n",
      "\n",
      "LDlink server is working...\n",
      "\n",
      "\n",
      "\n",
      "LDlink server is working...\n",
      "\n",
      "\n",
      "\n",
      "LDlink server is working...\n",
      "\n",
      "\n",
      "\n",
      "LDlink server is working...\n",
      "\n",
      "\n",
      "\n",
      "LDlink server is working...\n",
      "\n",
      "\n",
      "\n",
      "LDlink server is working...\n",
      "\n",
      "\n",
      "\n",
      "LDlink server is working...\n",
      "\n",
      "\n",
      "\n",
      "LDlink server is working...\n",
      "\n",
      "\n",
      "\n",
      "LDlink server is working...\n",
      "\n",
      "\n",
      "\n",
      "LDlink server is working...\n",
      "\n",
      "\n",
      "\n",
      "LDlink server is working...\n",
      "\n",
      "\n",
      "\n",
      "LDlink server is working...\n",
      "\n",
      "\n",
      "\n",
      "LDlink server is working...\n",
      "\n",
      "\n",
      "\n",
      "LDlink server is working...\n",
      "\n",
      "\n",
      "\n",
      "LDlink server is working...\n",
      "\n",
      "\n",
      "\n",
      "LDlink server is working...\n",
      "\n",
      "\n",
      "\n",
      "LDlink server is working...\n",
      "\n",
      "\n",
      "\n",
      "LDlink server is working...\n",
      "\n",
      "\n",
      "\n",
      "LDlink server is working...\n",
      "\n",
      "\n",
      "\n",
      "LDlink server is working...\n",
      "\n",
      "\n",
      "\n",
      "LDlink server is working...\n",
      "\n",
      "\n",
      "  error: chr10:94441992 is not in dbSNP 155 (GRCh37).\n",
      "\n",
      "\n",
      "LDlink server is working...\n",
      "\n",
      "\n",
      "\n",
      "LDlink server is working...\n",
      "\n",
      "\n",
      "\n",
      "LDlink server is working...\n",
      "\n",
      "\n",
      "\n",
      "LDlink server is working...\n",
      "\n",
      "\n",
      "\n",
      "LDlink server is working...\n",
      "\n",
      "\n",
      "\n",
      "LDlink server is working...\n",
      "\n",
      "\n",
      "\n",
      "LDlink server is working...\n",
      "\n",
      "\n",
      "\n",
      "LDlink server is working...\n",
      "\n",
      "\n",
      "\n",
      "LDlink server is working...\n",
      "\n",
      "\n",
      "\n",
      "LDlink server is working...\n",
      "\n",
      "\n",
      "\n",
      "LDlink server is working...\n",
      "\n",
      "\n",
      "\n",
      "LDlink server is working...\n",
      "\n",
      "\n",
      "\n",
      "LDlink server is working...\n",
      "\n",
      "\n",
      "\n",
      "LDlink server is working...\n",
      "\n",
      "\n",
      "\n",
      "LDlink server is working...\n",
      "\n",
      "\n",
      "\n",
      "LDlink server is working...\n",
      "\n",
      "\n",
      "\n",
      "LDlink server is working...\n",
      "\n",
      "\n",
      "\n",
      "LDlink server is working...\n",
      "\n",
      "\n",
      "\n",
      "LDlink server is working...\n",
      "\n",
      "\n",
      "\n",
      "LDlink server is working...\n",
      "\n",
      "\n",
      "\n",
      "LDlink server is working...\n",
      "\n",
      "\n",
      "\n",
      "LDlink server is working...\n",
      "\n",
      "\n",
      "\n",
      "LDlink server is working...\n",
      "\n",
      "\n",
      "\n",
      "LDlink server is working...\n",
      "\n",
      "\n",
      "\n",
      "LDlink server is working...\n",
      "\n",
      "\n",
      "\n",
      "LDlink server is working...\n",
      "\n",
      "\n",
      "\n",
      "LDlink server is working...\n",
      "\n",
      "\n",
      "\n",
      "LDlink server is working...\n",
      "\n",
      "\n",
      "\n",
      "LDlink server is working...\n",
      "\n",
      "\n",
      "\n",
      "LDlink server is working...\n",
      "\n",
      "\n",
      "\n",
      "LDlink server is working...\n",
      "\n",
      "\n",
      "\n",
      "LDlink server is working...\n",
      "\n",
      "\n",
      "\n",
      "LDlink server is working...\n",
      "\n",
      "\n",
      "\n",
      "LDlink server is working...\n",
      "\n",
      "\n",
      "  error: rs1306851667 variant is not a biallelic.Genomic position does not match RS number at 1000G position (chr21:36452239 = rs112300391).Variant is not a biallelic.\n",
      "\n",
      "\n",
      "LDlink server is working...\n",
      "\n",
      "\n"
     ]
    }
   ],
   "source": [
    "if(!file.exists('../data/blood_coloc/gwas/asthma/loci_LDlinkR.r2.0.1.EUR.txt')){\n",
    "  proxy_snps <- lapply(loci$GWAS_snp_pos,LDlinkR::LDproxy,pop = \"EUR\", r2d = \"r2\", token = '72edb9cc22c9', file = FALSE)\n",
    "  saveRDS(proxy_snps,'../data/blood_coloc/gwas/asthma/loci_LDlinkR.allSNPs.EUR.rds')\n",
    "}"
   ]
  },
  {
   "cell_type": "code",
   "execution_count": 11,
   "id": "3e4e1397-beba-4d25-9fa6-d327720d346e",
   "metadata": {},
   "outputs": [
    {
     "data": {
      "text/html": [
       "87"
      ],
      "text/latex": [
       "87"
      ],
      "text/markdown": [
       "87"
      ],
      "text/plain": [
       "[1] 87"
      ]
     },
     "metadata": {},
     "output_type": "display_data"
    }
   ],
   "source": [
    "length(proxy_snps)"
   ]
  },
  {
   "cell_type": "code",
   "execution_count": 12,
   "id": "5a750404-5424-4c5b-b5b1-65306e66b2b3",
   "metadata": {},
   "outputs": [],
   "source": [
    "if(!file.exists('../data/blood_coloc/gwas/asthma/loci_LDlinkR.r2.0.1.EUR.txt')){\n",
    "  loci <- lapply(proxy_snps,function(x){\n",
    "    if(nrow(x)>1){\n",
    "      x <- dplyr::filter(x,R2>=0.1) \n",
    "      chr <- x$Coord %>% gsub(':.+','',.) %>% unique()\n",
    "      pos <- x$Coord %>% gsub('chr[0-9]{1,2}:','',.) %>% as.numeric()\n",
    "      locus_name <- paste0(chr,':',min(pos),'_',max(pos))\n",
    "      top_snp_df <- dplyr::filter(x,Distance==0) \n",
    "      top_snp <- top_snp_df %>% pull(RS_Number)\n",
    "      top_snp_pos <- top_snp_df %>% pull(Coord)\n",
    "      locus <- tibble(GWAS_snp=top_snp,GWAS_snp_pos=top_snp_pos,locus_name=locus_name,chrom=chr,start=min(pos),end=max(pos))\n",
    "      return(locus)\n",
    "    }\n",
    "    else{\n",
    "      return(NULL)\n",
    "    }\n",
    "  }) %>% bind_rows()\n",
    "  write_tsv(loci,'../data/blood_coloc/gwas/asthma/loci_LDlinkR.r2.0.1.EUR.txt')\n",
    "}\n"
   ]
  },
  {
   "cell_type": "code",
   "execution_count": 21,
   "id": "100934cc-7289-4788-b1a0-8a8c78acfbce",
   "metadata": {},
   "outputs": [],
   "source": [
    "if(!file.exists('../data/blood_coloc/gwas/asthma/closest.protein.coding.bed')){\n",
    "  sumstats_min <- sumstats %>% dplyr::select(chr,variant_id,bp_b37,beta)\n",
    "}"
   ]
  },
  {
   "cell_type": "code",
   "execution_count": 24,
   "id": "4704dc1c-f3c7-40c9-b3ae-f90ce3141757",
   "metadata": {},
   "outputs": [],
   "source": [
    "if(!file.exists('../data/blood_coloc/gwas/asthma/closest.protein.coding.bed')){\n",
    "  gwas_snp <- tibble(GWAS_SNP_pos=unique(loci$GWAS_snp_pos)) %>% \n",
    "    separate(GWAS_SNP_pos,into=c('chr','bp_b37'),sep=':') %>% \n",
    "    mutate(end=bp_b37) %>% \n",
    "    mutate(bp_b37=as.numeric(bp_b37)) %>% \n",
    "    left_join(.,sumstats_min,by=c('chr','bp_b37')) %>% \n",
    "    arrange(chr,bp_b37) %>% \n",
    "    write_tsv(.,'../data/blood_coloc/gwas/asthma/asthma_GWAS_index_snps.v2.bed',col_names = FALSE)\n",
    "}"
   ]
  },
  {
   "cell_type": "code",
   "execution_count": null,
   "id": "8972c0f9-13cf-4daa-b063-4757909e7526",
   "metadata": {},
   "outputs": [],
   "source": [
    "cd data/gwas/asthma\n",
    "ln -s ../data/brain_coloc/gencode/gencode.v39lift37.annotation.protein_coding.1_22.bed .\n",
    "\n",
    "ml bedtools/2.25.0-goolf-1.7.20\n",
    "bedtools closest -d -wa -a asthma_GWAS_index_snps.v2.bed -b gencode.v39lift37.annotation.protein_coding.1_22.bed > closest.protein.coding.bed"
   ]
  },
  {
   "cell_type": "code",
   "execution_count": 7,
   "id": "5646f2cf-aa06-4fdb-952b-4ea4206cb7ff",
   "metadata": {},
   "outputs": [
    {
     "data": {
      "text/html": [
       "<style>\n",
       ".list-inline {list-style: none; margin:0; padding: 0}\n",
       ".list-inline>li {display: inline-block}\n",
       ".list-inline>li:not(:last-child)::after {content: \"\\00b7\"; padding: 0 .5ex}\n",
       "</style>\n",
       "<ol class=list-inline><li>84</li><li>8</li></ol>\n"
      ],
      "text/latex": [
       "\\begin{enumerate*}\n",
       "\\item 84\n",
       "\\item 8\n",
       "\\end{enumerate*}\n"
      ],
      "text/markdown": [
       "1. 84\n",
       "2. 8\n",
       "\n",
       "\n"
      ],
      "text/plain": [
       "[1] 84  8"
      ]
     },
     "metadata": {},
     "output_type": "display_data"
    }
   ],
   "source": [
    "if(file.exists('../data/blood_coloc/gwas/asthma/loci_LDlinkR.r2.0.1.EUR.txt')){\n",
    "    loci <- fread('../data/blood_coloc/gwas/asthma/loci_LDlinkR.r2.0.1.EUR.txt', sep='\\t')\n",
    "}\n",
    "closest <- fread(paste0('../data/blood_coloc/gwas/asthma/closest.protein.coding.bed'),sep='\\t', header=FALSE) %>% \n",
    "  setNames(c('chr_snp','start_snp','end_snp','GWAS_snp','beta','chr_gene','start_gene','end_gene','gene','distance')) %>% \n",
    "  mutate(GWAS_snp_pos=paste0(chr_snp,':',start_snp)) %>% \n",
    "  dplyr::select(GWAS_snp,GWAS_snp_pos,gene,beta,distance) %>% \n",
    "  separate(gene,into=c('symbol','ensembl'),sep='_') %>% \n",
    "  add_count(GWAS_snp) %>% \n",
    "  group_by(GWAS_snp) %>% \n",
    "  mutate(locus_name_gene=ifelse(n==1,symbol,paste0(symbol,collapse=' - '))) %>% \n",
    "  ungroup() %>% \n",
    "  dplyr::select(GWAS_snp_pos,locus_name_gene,beta_top_GWAS=beta) %>% \n",
    "  unique() %>% arrange(-abs(beta_top_GWAS))\n",
    "loci <- left_join(loci,closest,by='GWAS_snp_pos')\n",
    "dim(loci)"
   ]
  },
  {
   "cell_type": "code",
   "execution_count": 8,
   "id": "2dbde317-b1be-4cec-b974-4ffdd2d07e0d",
   "metadata": {},
   "outputs": [
    {
     "data": {
      "text/html": [
       "<table class=\"dataframe\">\n",
       "<caption>A data.table: 6 × 8</caption>\n",
       "<thead>\n",
       "\t<tr><th scope=col>GWAS_snp</th><th scope=col>GWAS_snp_pos</th><th scope=col>locus_name</th><th scope=col>chrom</th><th scope=col>start</th><th scope=col>end</th><th scope=col>locus_name_gene</th><th scope=col>beta_top_GWAS</th></tr>\n",
       "\t<tr><th scope=col>&lt;chr&gt;</th><th scope=col>&lt;chr&gt;</th><th scope=col>&lt;chr&gt;</th><th scope=col>&lt;chr&gt;</th><th scope=col>&lt;int&gt;</th><th scope=col>&lt;int&gt;</th><th scope=col>&lt;chr&gt;</th><th scope=col>&lt;dbl&gt;</th></tr>\n",
       "</thead>\n",
       "<tbody>\n",
       "\t<tr><td>rs301819  </td><td>chr1:8501786  </td><td>chr1:8352039_8901391    </td><td>chr1</td><td>  8352039</td><td>  8901391</td><td>RERE   </td><td> 0.00464734</td></tr>\n",
       "\t<tr><td>rs2230624 </td><td>chr1:12175658 </td><td>chr1:11942819_12268630  </td><td>chr1</td><td> 11942819</td><td> 12268630</td><td>TNFRSF8</td><td>-0.01923240</td></tr>\n",
       "\t<tr><td>rs12123821</td><td>chr1:152179152</td><td>chr1:151679708_152611429</td><td>chr1</td><td>151679708</td><td>152611429</td><td>HRNR   </td><td> 0.02008810</td></tr>\n",
       "\t<tr><td>rs2949669 </td><td>chr1:167417884</td><td>chr1:167179419_167439010</td><td>chr1</td><td>167179419</td><td>167439010</td><td>CD247  </td><td>-0.00587340</td></tr>\n",
       "\t<tr><td>rs1102705 </td><td>chr1:172700868</td><td>chr1:172680465_173095634</td><td>chr1</td><td>172680465</td><td>173095634</td><td>FASLG  </td><td>-0.00724778</td></tr>\n",
       "\t<tr><td>rs10912564</td><td>chr1:173170618</td><td>chr1:173116350_173256550</td><td>chr1</td><td>173116350</td><td>173256550</td><td>TNFSF4 </td><td> 0.00477168</td></tr>\n",
       "</tbody>\n",
       "</table>\n"
      ],
      "text/latex": [
       "A data.table: 6 × 8\n",
       "\\begin{tabular}{llllllll}\n",
       " GWAS\\_snp & GWAS\\_snp\\_pos & locus\\_name & chrom & start & end & locus\\_name\\_gene & beta\\_top\\_GWAS\\\\\n",
       " <chr> & <chr> & <chr> & <chr> & <int> & <int> & <chr> & <dbl>\\\\\n",
       "\\hline\n",
       "\t rs301819   & chr1:8501786   & chr1:8352039\\_8901391     & chr1 &   8352039 &   8901391 & RERE    &  0.00464734\\\\\n",
       "\t rs2230624  & chr1:12175658  & chr1:11942819\\_12268630   & chr1 &  11942819 &  12268630 & TNFRSF8 & -0.01923240\\\\\n",
       "\t rs12123821 & chr1:152179152 & chr1:151679708\\_152611429 & chr1 & 151679708 & 152611429 & HRNR    &  0.02008810\\\\\n",
       "\t rs2949669  & chr1:167417884 & chr1:167179419\\_167439010 & chr1 & 167179419 & 167439010 & CD247   & -0.00587340\\\\\n",
       "\t rs1102705  & chr1:172700868 & chr1:172680465\\_173095634 & chr1 & 172680465 & 173095634 & FASLG   & -0.00724778\\\\\n",
       "\t rs10912564 & chr1:173170618 & chr1:173116350\\_173256550 & chr1 & 173116350 & 173256550 & TNFSF4  &  0.00477168\\\\\n",
       "\\end{tabular}\n"
      ],
      "text/markdown": [
       "\n",
       "A data.table: 6 × 8\n",
       "\n",
       "| GWAS_snp &lt;chr&gt; | GWAS_snp_pos &lt;chr&gt; | locus_name &lt;chr&gt; | chrom &lt;chr&gt; | start &lt;int&gt; | end &lt;int&gt; | locus_name_gene &lt;chr&gt; | beta_top_GWAS &lt;dbl&gt; |\n",
       "|---|---|---|---|---|---|---|---|\n",
       "| rs301819   | chr1:8501786   | chr1:8352039_8901391     | chr1 |   8352039 |   8901391 | RERE    |  0.00464734 |\n",
       "| rs2230624  | chr1:12175658  | chr1:11942819_12268630   | chr1 |  11942819 |  12268630 | TNFRSF8 | -0.01923240 |\n",
       "| rs12123821 | chr1:152179152 | chr1:151679708_152611429 | chr1 | 151679708 | 152611429 | HRNR    |  0.02008810 |\n",
       "| rs2949669  | chr1:167417884 | chr1:167179419_167439010 | chr1 | 167179419 | 167439010 | CD247   | -0.00587340 |\n",
       "| rs1102705  | chr1:172700868 | chr1:172680465_173095634 | chr1 | 172680465 | 173095634 | FASLG   | -0.00724778 |\n",
       "| rs10912564 | chr1:173170618 | chr1:173116350_173256550 | chr1 | 173116350 | 173256550 | TNFSF4  |  0.00477168 |\n",
       "\n"
      ],
      "text/plain": [
       "  GWAS_snp   GWAS_snp_pos   locus_name               chrom start     end      \n",
       "1 rs301819   chr1:8501786   chr1:8352039_8901391     chr1    8352039   8901391\n",
       "2 rs2230624  chr1:12175658  chr1:11942819_12268630   chr1   11942819  12268630\n",
       "3 rs12123821 chr1:152179152 chr1:151679708_152611429 chr1  151679708 152611429\n",
       "4 rs2949669  chr1:167417884 chr1:167179419_167439010 chr1  167179419 167439010\n",
       "5 rs1102705  chr1:172700868 chr1:172680465_173095634 chr1  172680465 173095634\n",
       "6 rs10912564 chr1:173170618 chr1:173116350_173256550 chr1  173116350 173256550\n",
       "  locus_name_gene beta_top_GWAS\n",
       "1 RERE             0.00464734  \n",
       "2 TNFRSF8         -0.01923240  \n",
       "3 HRNR             0.02008810  \n",
       "4 CD247           -0.00587340  \n",
       "5 FASLG           -0.00724778  \n",
       "6 TNFSF4           0.00477168  "
      ]
     },
     "metadata": {},
     "output_type": "display_data"
    }
   ],
   "source": [
    "head(loci)"
   ]
  },
  {
   "cell_type": "markdown",
   "id": "38cae477-cba0-4e57-96da-c2767db1eb91",
   "metadata": {},
   "source": [
    "## Run coloc"
   ]
  },
  {
   "cell_type": "markdown",
   "id": "9b3c7a42-5a1d-4a3d-b589-e178146086b9",
   "metadata": {},
   "source": [
    "### eqt and ibsep"
   ]
  },
  {
   "cell_type": "code",
   "execution_count": 9,
   "id": "acc2f965-945c-481e-b322-7f7cbdee86f3",
   "metadata": {},
   "outputs": [],
   "source": [
    "# eqtl_ex <- prepare_eqtl(micro,chrom_locus,sumstats_locus)\n",
    "prepare_eqtl_ibsep <- function(eqtl_name,ibsep_name,chrom_locus,sumstats_locus){\n",
    "  # eqtl\n",
    "  file <- sprintf('../data/blood_data/1M/merged_sumstats/by_chrom_gene/%s/%s.csv', chrom_locus, eqtl_name)\n",
    "  eqtl <- data.table::fread(file, header=TRUE, nThread=1) %>%\n",
    "    dplyr::select(gene_id=GENEID, gene=GENENAME, SNP, A1, A2, p_eqtl=PVAL, beta_eqtl=BETA, se_eqtl=SE) %>%\n",
    "    inner_join(.,sumstats_locus[,c('variant_id','effect_allele','other_allele','SNP_id_hg19')],\n",
    "               by=join_by(SNP==variant_id),multiple='first')\n",
    "  message(nrow(sumstats_locus))\n",
    "  message(nrow(eqtl))\n",
    "  eqtl <- eqtl %>%\n",
    "    dplyr::filter(((A1==effect_allele)&(A2==other_allele)) | ((A2==effect_allele)&(A1==other_allele))) %>%\n",
    "    dplyr::select(gene_id, gene, SNP, SNP_id_hg19, effect_allele=A2, other_allele=A1, p_eqtl, beta_eqtl, se_eqtl)\n",
    "  message(nrow(eqtl))\n",
    "\n",
    "  if(nrow(eqtl)==0){\n",
    "      message('nrow(eqtl)==0')\n",
    "  }\n",
    "    \n",
    "  # ibsep\n",
    "  file <- sprintf('../data/blood_data/1M/merged_sumstats/omega_shrink_0.9_max_hsq_0.8/%s/%s.csv', chrom_locus, ibsep_name)\n",
    "  \n",
    "  ibsep <- data.table::fread(file, header=TRUE, nThread=1) %>%\n",
    "    dplyr::select(SNP=SNP_1M, gene_id=GENEID_1M, BETA_BLUE, SE_BLUE, PVAL_BLUE)\n",
    "\n",
    "  # merge eqtl and ibsep\n",
    "  merged <- inner_join(eqtl,ibsep,by=c('gene_id', 'SNP'))\n",
    "  merged <- merged[(is.na(merged$BETA_BLUE)==FALSE)&(is.na(merged$SE_BLUE)==FALSE),]\n",
    "  merged <- merged %>%\n",
    "    add_count(gene_id) %>% \n",
    "    dplyr::filter(n>10)\n",
    "    \n",
    "  return(merged)\n",
    "}"
   ]
  },
  {
   "cell_type": "code",
   "execution_count": 13,
   "id": "0e8f416f-924b-4d65-8a37-70708de8951f",
   "metadata": {},
   "outputs": [],
   "source": [
    "## ibsep\n",
    "t0 = Sys.time()\n",
    "coloc_ibsep_results_all <- mclapply(1:nrow(loci),function(i){\n",
    "\n",
    "  #Get coordinates from the GWAS locus\n",
    "  chrom_locus <- loci$chrom[i]\n",
    "  start <- loci$start[i] %>% as.numeric()\n",
    "  end <- loci$end[i] %>% as.numeric()\n",
    "  \n",
    "  closest_gene_locus <- loci$locus_name_gene[i]\n",
    "  beta_top_GWAS_locus <- loci$beta_top_GWAS[i]\n",
    "  GWAS_snp_name <- loci$GWAS_snp[i]\n",
    "  GWAS_snp_pos_name <- loci$GWAS_snp_pos[i]\n",
    "\n",
    "  #Keep GWAS sumstats of SNPs in the locus\n",
    "  sumstats_locus <- dplyr::filter(sumstats,chr==chrom_locus) %>% \n",
    "    dplyr::filter(bp_b37>=start & bp_b37<=end) %>% \n",
    "    dplyr::mutate(SNP_id_hg19=paste0(chr,':',bp_b37))\n",
    "\n",
    "  #Preparing eQTL files - keeping SNPs from the eQTL data that match SNPs in the GWAS locus\n",
    "  eqtl_b <- prepare_eqtl_ibsep('allgenes_B','allgenes_B_IBSEP_truncorr_pval1e-10',chrom_locus,sumstats_locus)\n",
    "  eqtl_cd4 <- prepare_eqtl_ibsep('allgenes_CD4T','allgenes_CD4T_IBSEP_truncorr_pval1e-10',chrom_locus,sumstats_locus)\n",
    "  eqtl_cd8 <- prepare_eqtl_ibsep('allgenes_CD8T','allgenes_CD8T_IBSEP_truncorr_pval1e-10',chrom_locus,sumstats_locus)\n",
    "  eqtl_nk <- prepare_eqtl_ibsep('allgenes_NK','allgenes_NK_IBSEP_truncorr_pval1e-10',chrom_locus,sumstats_locus)\n",
    "  eqtl_mono <- prepare_eqtl_ibsep('allgenes_monocyte','allgenes_monocyte_IBSEP_truncorr_pval1e-10',chrom_locus,sumstats_locus)\n",
    "  eqtl_dc <- prepare_eqtl_ibsep('allgenes_DC','allgenes_DC_IBSEP_truncorr_pval1e-10',chrom_locus,sumstats_locus)\n",
    "\n",
    "  #Running colocalization analysis\n",
    "  b_coloc <- run_coloc_ibsep(eqtl_b,'B',sumstats_locus)\n",
    "  cd4_coloc <- run_coloc_ibsep(eqtl_cd4,'CD4T',sumstats_locus)\n",
    "  cd8_coloc <- run_coloc_ibsep(eqtl_cd8,'CD8T',sumstats_locus)\n",
    "  nk_coloc <- run_coloc_ibsep(eqtl_nk,'NK',sumstats_locus)\n",
    "  mono_coloc <- run_coloc_ibsep(eqtl_mono,'monocyte',sumstats_locus)\n",
    "  dc_coloc <- run_coloc_ibsep(eqtl_dc,'DC',sumstats_locus)\n",
    "  \n",
    "  pval_eqtl <- rbind(b_coloc,cd4_coloc,cd8_coloc,nk_coloc,mono_coloc,dc_coloc)\n",
    "  \n",
    "  if(!is.null(pval_eqtl)){\n",
    "    pval_eqtl <- pval_eqtl %>% \n",
    "      mutate(type='eQTL',\n",
    "           locus=loci$locus_name[i],\n",
    "           coloc_method='beta') %>% \n",
    "      mutate(closest_gene=closest_gene_locus,\n",
    "             beta_top_GWAS=beta_top_GWAS_locus,\n",
    "             GWAS_snp=GWAS_snp_name,\n",
    "             GWAS_snp_pos=GWAS_snp_pos_name)\n",
    "  }\n",
    "  results <- pval_eqtl \n",
    "  if(!is.null(results)){\n",
    "    results <- results %>% \n",
    "      arrange(-PP.H4.abf) %>% \n",
    "      dplyr::select(locus,closest_gene,GWAS_snp,GWAS_snp_pos,beta_top_GWAS,everything())\n",
    "  }\n",
    "  \n",
    "  return(results)\n",
    "},mc.cores = 36,mc.preschedule = FALSE)\n",
    "t1 = Sys.time()"
   ]
  },
  {
   "cell_type": "code",
   "execution_count": 14,
   "id": "574c9ac4-a6ea-4852-9939-14135a9a23a0",
   "metadata": {},
   "outputs": [
    {
     "data": {
      "text/plain": [
       "Time difference of 17.14476 secs"
      ]
     },
     "metadata": {},
     "output_type": "display_data"
    }
   ],
   "source": [
    "t1 - t0"
   ]
  },
  {
   "cell_type": "code",
   "execution_count": null,
   "id": "f9231a27-7c32-48f4-af2a-b543325100a6",
   "metadata": {},
   "outputs": [],
   "source": [
    "coloc_ibsep_results_all_success = list()\n",
    "n = 1\n",
    "for(i in 1:length(coloc_ibsep_results_all)){\n",
    "    if(!is.null(dim(coloc_ibsep_results_all[[i]]))==TRUE){\n",
    "        coloc_ibsep_results_all_success[[n]] = coloc_ibsep_results_all[[i]]\n",
    "        n = n + 1\n",
    "    }\n",
    "}\n",
    "length(coloc_ibsep_results_all_success)\n",
    "\n",
    "coloc_ibsep_results_all_df <- coloc_ibsep_results_all_success %>% \n",
    "  bind_rows() %>% \n",
    "  arrange(-PP.H4.abf) %>% \n",
    "  separate(gene,into=c('symbol','ensembl'),sep='_')\n",
    "dim(coloc_ibsep_results_all_df)\n",
    "\n",
    "fwrite(coloc_ibsep_results_all_df, '../data/blood_coloc/result/asthma_ibsep.csv', sep='\\t')"
   ]
  },
  {
   "cell_type": "code",
   "execution_count": 17,
   "id": "693f7041-8581-495e-b8e3-c69c579779f7",
   "metadata": {},
   "outputs": [],
   "source": [
    "## ori eqtl\n",
    "t0 = Sys.time()\n",
    "coloc_eqtl_results_all <- mclapply(1:nrow(loci),function(i){\n",
    "\n",
    "  #Get coordinates from the GWAS locus\n",
    "  chrom_locus <- loci$chrom[i]\n",
    "  start <- loci$start[i] %>% as.numeric()\n",
    "  end <- loci$end[i] %>% as.numeric()\n",
    "  \n",
    "  closest_gene_locus <- loci$locus_name_gene[i]\n",
    "  beta_top_GWAS_locus <- loci$beta_top_GWAS[i]\n",
    "  GWAS_snp_name <- loci$GWAS_snp[i]\n",
    "  GWAS_snp_pos_name <- loci$GWAS_snp_pos[i]\n",
    "\n",
    "  #Keep GWAS sumstats of SNPs in the locus\n",
    "  sumstats_locus <- dplyr::filter(sumstats,chr==chrom_locus) %>% \n",
    "    dplyr::filter(bp_b37>=start & bp_b37<=end) %>% \n",
    "    dplyr::mutate(SNP_id_hg19=paste0(chr,':',bp_b37))\n",
    "\n",
    "  #Preparing eQTL files - keeping SNPs from the eQTL data that match SNPs in the GWAS locus\n",
    "  eqtl_b <- prepare_eqtl_ibsep('allgenes_B','allgenes_B_IBSEP_truncorr_pval1e-10',chrom_locus,sumstats_locus)\n",
    "  eqtl_cd4 <- prepare_eqtl_ibsep('allgenes_CD4T','allgenes_CD4T_IBSEP_truncorr_pval1e-10',chrom_locus,sumstats_locus)\n",
    "  eqtl_cd8 <- prepare_eqtl_ibsep('allgenes_CD8T','allgenes_CD8T_IBSEP_truncorr_pval1e-10',chrom_locus,sumstats_locus)\n",
    "  eqtl_nk <- prepare_eqtl_ibsep('allgenes_NK','allgenes_NK_IBSEP_truncorr_pval1e-10',chrom_locus,sumstats_locus)\n",
    "  eqtl_mono <- prepare_eqtl_ibsep('allgenes_monocyte','allgenes_monocyte_IBSEP_truncorr_pval1e-10',chrom_locus,sumstats_locus)\n",
    "  eqtl_dc <- prepare_eqtl_ibsep('allgenes_DC','allgenes_DC_IBSEP_truncorr_pval1e-10',chrom_locus,sumstats_locus)\n",
    "\n",
    "  #Running colocalization analysis\n",
    "  b_coloc <- run_coloc(eqtl_b,'B',sumstats_locus)\n",
    "  cd4_coloc <- run_coloc(eqtl_cd4,'CD4T',sumstats_locus)\n",
    "  cd8_coloc <- run_coloc(eqtl_cd8,'CD8T',sumstats_locus)\n",
    "  nk_coloc <- run_coloc(eqtl_nk,'NK',sumstats_locus)\n",
    "  mono_coloc <- run_coloc(eqtl_mono,'monocyte',sumstats_locus)\n",
    "  dc_coloc <- run_coloc(eqtl_dc,'DC',sumstats_locus)\n",
    "  \n",
    "  pval_eqtl <- rbind(b_coloc,cd4_coloc,cd8_coloc,nk_coloc,mono_coloc,dc_coloc)\n",
    "  \n",
    "  if(!is.null(pval_eqtl)){\n",
    "    pval_eqtl <- pval_eqtl %>% \n",
    "      mutate(type='eQTL',\n",
    "           locus=loci$locus_name[i],\n",
    "           coloc_method='beta') %>% \n",
    "      mutate(closest_gene=closest_gene_locus,\n",
    "             beta_top_GWAS=beta_top_GWAS_locus,\n",
    "             GWAS_snp=GWAS_snp_name,\n",
    "             GWAS_snp_pos=GWAS_snp_pos_name)\n",
    "  }\n",
    "  results <- pval_eqtl \n",
    "  if(!is.null(results)){\n",
    "    results <- results %>% \n",
    "      arrange(-PP.H4.abf) %>% \n",
    "      dplyr::select(locus,closest_gene,GWAS_snp,GWAS_snp_pos,beta_top_GWAS,everything())\n",
    "  }\n",
    "  \n",
    "  return(results)\n",
    "},mc.cores = 36,mc.preschedule = FALSE)\n",
    "t1 = Sys.time()"
   ]
  },
  {
   "cell_type": "code",
   "execution_count": 18,
   "id": "9b4d6f52-2bab-4267-aff7-1d2fa6b0cb74",
   "metadata": {},
   "outputs": [
    {
     "data": {
      "text/plain": [
       "Time difference of 20.19089 secs"
      ]
     },
     "metadata": {},
     "output_type": "display_data"
    }
   ],
   "source": [
    "t1 - t0"
   ]
  },
  {
   "cell_type": "code",
   "execution_count": null,
   "id": "8c98d328-d2c8-4c2c-b692-ef306c811396",
   "metadata": {},
   "outputs": [],
   "source": [
    "coloc_eqtl_results_all_success = list()\n",
    "n = 1\n",
    "for(i in 1:length(coloc_eqtl_results_all)){\n",
    "    if(!is.null(dim(coloc_eqtl_results_all[[i]]))==TRUE){\n",
    "        coloc_eqtl_results_all_success[[n]] = coloc_eqtl_results_all[[i]]\n",
    "        n = n + 1\n",
    "    }\n",
    "}\n",
    "length(coloc_eqtl_results_all_success)\n",
    "\n",
    "coloc_eqtl_results_all_df <- coloc_eqtl_results_all_success %>% \n",
    "  bind_rows() %>% \n",
    "  arrange(-PP.H4.abf) %>% \n",
    "  separate(gene,into=c('symbol','ensembl'),sep='_')\n",
    "dim(coloc_eqtl_results_all_df)"
   ]
  },
  {
   "cell_type": "code",
   "execution_count": 21,
   "id": "e52adee2-4c2f-4603-b6f6-49c022d5829d",
   "metadata": {},
   "outputs": [],
   "source": [
    "fwrite(coloc_eqtl_results_all_df, '../data/blood_coloc/result/asthma_eqtl.csv', sep='\\t')"
   ]
  },
  {
   "cell_type": "markdown",
   "id": "8dde01f3-8811-4950-9123-f8b2cbc16bc5",
   "metadata": {},
   "source": [
    "## Plot"
   ]
  },
  {
   "cell_type": "markdown",
   "id": "11315ba6-42de-4ea9-86a9-21045bb146bc",
   "metadata": {},
   "source": [
    "### eqtl, ibsep and 1k1k"
   ]
  },
  {
   "cell_type": "code",
   "execution_count": 12,
   "id": "1821d40f-d9f5-4583-aeb9-726c60bfa6e1",
   "metadata": {},
   "outputs": [
    {
     "name": "stdout",
     "output_type": "stream",
     "text": [
      "[1] 1284   21\n",
      "[1] 1284   21\n",
      "[1] 2996   21\n"
     ]
    }
   ],
   "source": [
    "eqtl_res = fread('../data/blood_coloc/result/asthma_eqtl.csv', sep='\\t')\n",
    "ibsep_res = fread('../data/blood_coloc/result/asthma_ibsep.csv', sep='\\t')\n",
    "onek1k_res = fread('../data/blood_coloc/result/asthma_1k1k.csv', sep='\\t')\n",
    "print(dim(eqtl_res))\n",
    "print(dim(ibsep_res))\n",
    "print(dim(onek1k_res))"
   ]
  },
  {
   "cell_type": "code",
   "execution_count": 13,
   "id": "c74ae6b7-144b-4bb5-b8a4-1a98e9e760b4",
   "metadata": {},
   "outputs": [
    {
     "name": "stdout",
     "output_type": "stream",
     "text": [
      "[1] 26 22\n",
      "[1] 54 22\n",
      "[1] 76 22\n",
      "[1] 80 23\n",
      "[1] 21  3\n",
      "[1] 212   9\n",
      "[1] 212   9\n",
      "[1] 17  9\n",
      "[1] 17  9\n"
     ]
    }
   ],
   "source": [
    "eqtl_sig <- eqtl_res[eqtl_res$PP.H4.abf > 0.7] %>% mutate(method='Single cell')\n",
    "ibsep_sig <- ibsep_res[ibsep_res$PP.H4.abf > 0.7] %>% mutate(method='IBSEP')\n",
    "onek1k_sig <- onek1k_res[onek1k_res$PP.H4.abf > 0.7] %>% mutate(method='OneK1K')\n",
    "print(dim(eqtl_sig))\n",
    "print(dim(ibsep_sig))\n",
    "print(dim(onek1k_sig))\n",
    "\n",
    "comb_sig <- bind_rows(eqtl_sig, ibsep_sig) \n",
    "comb_sig[comb_sig$closest_gene=='ACO2 - PHF5A']$closest_gene = 'PHF5A'\n",
    "comb_sig[comb_sig$closest_gene=='MYRF - TMEM258']$closest_gene = 'TMEM258'\n",
    "comb_sig <- comb_sig %>% arrange(closest_gene, symbol)\n",
    "comb_sig_min <- comb_sig[,c('locus', 'closest_gene', 'symbol')] %>% distinct()\n",
    "\n",
    "print(dim(comb_sig))\n",
    "print(dim(comb_sig_min))\n",
    "eqtl_res_wide = eqtl_res[,c('locus', 'closest_gene', 'symbol', 'tissue', 'PP.H4.abf')] %>%\n",
    "    dplyr::filter(!is.na(PP.H4.abf)) %>%\n",
    "    dplyr::group_by(locus, closest_gene, symbol, tissue) %>%\n",
    "    dplyr::slice(which.max(PP.H4.abf)) %>%\n",
    "    pivot_wider(names_from=tissue, values_from=PP.H4.abf, values_fill=0.0)\n",
    "ibsep_res_wide = ibsep_res[,c('locus', 'closest_gene', 'symbol', 'tissue', 'PP.H4.abf')] %>%\n",
    "    dplyr::filter(!is.na(PP.H4.abf)) %>%\n",
    "    dplyr::group_by(locus, closest_gene, symbol, tissue) %>%\n",
    "    dplyr::slice(which.max(PP.H4.abf)) %>%\n",
    "    pivot_wider(names_from=tissue, values_from=PP.H4.abf, values_fill=0.0)\n",
    "print(dim(eqtl_res_wide))\n",
    "print(dim(ibsep_res_wide))\n",
    "eqtl_comb_sig_wide = inner_join(comb_sig_min, eqtl_res_wide, by=c('locus', 'closest_gene', 'symbol'))\n",
    "ibsep_comb_sig_wide = inner_join(comb_sig_min, ibsep_res_wide, by=c('locus', 'closest_gene', 'symbol'))\n",
    "eqtl_comb_sig_wide <- eqtl_comb_sig_wide %>% \n",
    "    arrange(closest_gene, symbol) %>%\n",
    "    relocate(all_of(sort(colnames(eqtl_comb_sig_wide)[4:9])), .after='symbol')\n",
    "ibsep_comb_sig_wide <- ibsep_comb_sig_wide %>% \n",
    "    arrange(closest_gene, symbol) %>%\n",
    "    relocate(all_of(sort(colnames(ibsep_comb_sig_wide)[4:9])), .after='symbol')\n",
    "print(dim(eqtl_comb_sig_wide))\n",
    "print(dim(ibsep_comb_sig_wide))"
   ]
  },
  {
   "cell_type": "code",
   "execution_count": 14,
   "id": "5a699a66-adfc-4cfe-843e-bf351d100524",
   "metadata": {},
   "outputs": [
    {
     "name": "stdout",
     "output_type": "stream",
     "text": [
      "[1] 76 22\n",
      "[1] 24  3\n",
      "[1] 212  17\n",
      "[1] 24 17\n"
     ]
    }
   ],
   "source": [
    "onek1k_sig <- onek1k_sig %>% arrange(closest_gene, symbol)\n",
    "onek1k_sig_min <- onek1k_sig[,c('locus', 'closest_gene', 'symbol')] %>% distinct()\n",
    "\n",
    "print(dim(onek1k_sig))\n",
    "print(dim(onek1k_sig_min))\n",
    "onek1k_res_wide = onek1k_res[,c('locus', 'closest_gene', 'symbol', 'tissue', 'PP.H4.abf')] %>%\n",
    "    dplyr::filter(!is.na(PP.H4.abf)) %>%\n",
    "    dplyr::group_by(locus, closest_gene, symbol, tissue) %>%\n",
    "    dplyr::slice(which.max(PP.H4.abf)) %>%\n",
    "    pivot_wider(names_from=tissue, values_from=PP.H4.abf, values_fill=0.0)\n",
    "print(dim(onek1k_res_wide))\n",
    "onek1k_sig_wide = inner_join(onek1k_sig_min, onek1k_res_wide, by=c('locus', 'closest_gene', 'symbol'))\n",
    "onek1k_sig_wide <- onek1k_sig_wide %>% \n",
    "    arrange(closest_gene, symbol) %>%\n",
    "    relocate(all_of(sort(colnames(onek1k_sig_wide)[4:17])), .after='symbol')\n",
    "print(dim(onek1k_sig_wide))"
   ]
  },
  {
   "cell_type": "code",
   "execution_count": 15,
   "id": "5fd5e8fc-bb11-4072-a626-397b031a4f86",
   "metadata": {},
   "outputs": [],
   "source": [
    "mat = matrix(nrow=nrow(eqtl_comb_sig_wide), ncol=6)\n",
    "fun <- function(x, y, loc, gene, sym, sub_cts){\n",
    "    if((x>0.7) & (y>0.7)){\n",
    "        z = 1\n",
    "    }else if((x>0.7) & (y<=0.7)){\n",
    "        z = 2\n",
    "    }else if((x<=0.7) & (y>0.7)){\n",
    "        z = 3\n",
    "    }else{\n",
    "        z = 0\n",
    "    }\n",
    "    l = c()\n",
    "    for(sub_ct in sub_cts){\n",
    "        tmp = onek1k_sig_wide[(onek1k_sig_wide$locus==loc) & (onek1k_sig_wide$closest_gene==gene) & (onek1k_sig_wide$symbol==sym)]\n",
    "        if(nrow(tmp) > 0){\n",
    "            v = tmp[[sub_ct]]\n",
    "            if(!is.na(v)){\n",
    "                l = c(l, v)\n",
    "            }\n",
    "        }\n",
    "    }\n",
    "    \n",
    "    if(length(l)>0){\n",
    "        if(max(l)>0.7){\n",
    "            z = z*10\n",
    "        }\n",
    "    }\n",
    "    return(z)\n",
    "}\n",
    "mat1 = as.matrix(eqtl_comb_sig_wide[,c(4:9)])\n",
    "mat2 = as.matrix(ibsep_comb_sig_wide[,c(4:9)])\n",
    "for(i in 1:nrow(mat)){\n",
    "    for(j in 1:ncol(mat)){\n",
    "        loc = eqtl_comb_sig_wide$locus[i]\n",
    "        gene = eqtl_comb_sig_wide$closest_gene[i]\n",
    "        sym = eqtl_comb_sig_wide$symbol[i]\n",
    "        ct = colnames(eqtl_comb_sig_wide)[3+j]\n",
    "        sub_cts = celltype_map[[ct]]\n",
    "        mat[i,j] = fun(mat1[i,j], mat2[i,j], loc, gene, sym, sub_cts)\n",
    "    }\n",
    "}"
   ]
  },
  {
   "cell_type": "code",
   "execution_count": 16,
   "id": "4755ccd9-cab2-454f-baa9-84bb2836c26e",
   "metadata": {},
   "outputs": [],
   "source": [
    "sorted_cell_names = c('B', 'CD4', 'CD8', 'NK', 'Monocyte', 'DC')"
   ]
  },
  {
   "cell_type": "code",
   "execution_count": 19,
   "id": "f466d210-c5e0-489f-800b-249d01fa267e",
   "metadata": {},
   "outputs": [
    {
     "data": {
      "image/png": "[encoded data removed]",
      "text/plain": [
       "plot without title"
      ]
     },
     "metadata": {
      "image/png": {
       "height": 750,
       "width": 600
      }
     },
     "output_type": "display_data"
    }
   ],
   "source": [
    "mat_reorder = mat[,c(1,2,3,6,5,4)]\n",
    "options(repr.matrix.max.cols=100, repr.matrix.max.rows=100)\n",
    "options(repr.plot.width=4, repr.plot.height=5, repr.plot.res=300)\n",
    "col_fun = colorRamp2(c(0, 1, 2, 3), c(\"grey\", \"red\", \"green\", \"blue\"))\n",
    "colors = structure(c(\"#FFFFFF\", \"#FF6666\", \"#00CC66\", \"#9999FF\"), names = c(0,1,2,3))\n",
    "text_color = '#FFFFFF'\n",
    "# cyto = sapply(eqtl_comb_sig_wide$locus, get_cytoband)\n",
    "split = eqtl_comb_sig_wide$closest_gene\n",
    "# split = paste(cyto, split)\n",
    "text = as.list(unique(split))\n",
    "names(text) = unique(split)\n",
    "w = ncol(mat)*unit(5, \"mm\")\n",
    "h = nrow(mat)*unit(5, \"mm\")\n",
    "ht = Heatmap(mat_reorder, col=colors, rect_gp = gpar(type = \"none\"),\n",
    "        cluster_rows = FALSE, cluster_columns = FALSE,\n",
    "        cell_fun = function(j, i, x, y, width, height, fill) {\n",
    "            c_idx = ifelse(mat_reorder[i,j]<10, mat_reorder[i, j]+1, as.integer(mat_reorder[i,j]/10)+1)\n",
    "            grid.rect(x = x, y = y, width = unit(4.6, 'mm'), height = unit(4.6, 'mm'),\n",
    "                     gp = gpar(fill = '#E0E0E0', col = NA))\n",
    "           grid.circle(x = x, y = y, r = unit(1.8, \"mm\"), \n",
    "                gp = gpar(fill = colors[c_idx], col = NA))\n",
    "            if(mat_reorder[i,j]>=10){\n",
    "                grid.text('*', x=x, y=unit(as.numeric(y)+1,'mm'), gp=gpar(col=text_color))\n",
    "            }\n",
    "           },\n",
    "        right_annotation=rowAnnotation(labels = anno_text(eqtl_comb_sig_wide$symbol, which='row'), gp = gpar(fontsize = 8)),\n",
    "        top_annotation=columnAnnotation(labels = anno_text(sorted_cell_names, \n",
    "                                                              which='column', just='left', location=unit(0, 'npc')), gp = gpar(fontsize = 10)),\n",
    "         column_names_side = c(\"top\"),\n",
    "        row_title_gp = gpar(fontsize = 12),\n",
    "        row_title_rot = 0,\n",
    "       width = w, height = h,\n",
    "       row_split=split,\n",
    "        row_title=NULL,\n",
    "        left_annotation = rowAnnotation(Locus = anno_textbox(split, text, side='left')),\n",
    "       column_gap = unit(0, \"mm\"), border = FALSE,\n",
    "       show_column_names=TRUE, show_heatmap_legend=FALSE,\n",
    "       heatmap_legend_param = list(title='', \n",
    "                                   labels=c('Null', 'Shared', 'Only single cell', 'Only IBSEP'),\n",
    "                                  grid_height = unit(5, \"mm\"), grid_width = unit(5, \"mm\"),\n",
    "                                   labels_gp = gpar(fontsize = 14))\n",
    "        )\n",
    "draw(ht)\n",
    "# draw(ht, annotation_legend_list = lgd, annotation_legend_side = \"bottom\")"
   ]
  }
 ],
 "metadata": {
  "kernelspec": {
   "display_name": "R",
   "language": "R",
   "name": "ir"
  },
  "language_info": {
   "codemirror_mode": "r",
   "file_extension": ".r",
   "mimetype": "text/x-r-source",
   "name": "R",
   "pygments_lexer": "r",
   "version": "4.3.2"
  }
 },
 "nbformat": 4,
 "nbformat_minor": 5
}
